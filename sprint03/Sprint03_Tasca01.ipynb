{
 "cells": [
  {
   "cell_type": "markdown",
   "id": "876e65a9-ffb6-4c6f-9a42-abc6c9c8615c",
   "metadata": {},
   "source": [
    "___Sprint 3___\n",
    "\n",
    "**Programació numèrica, dataframes i anàlisi estadístic**\n",
    "\n",
    "*Tasca 1*"
   ]
  },
  {
   "cell_type": "markdown",
   "id": "015846eb-420f-4dd2-a2a5-c471ec52173d",
   "metadata": {},
   "source": [
    "- Exercici 1\n",
    "Crea una funció que donat un Array d’una dimensió, et faci un resum estadístic bàsic de les dades. Si detecta que l’array té més d’una dimensió, ha de mostrar un missatge d’error.\n",
    "\n",
    "\n",
    "- Exercici 2\n",
    "Crea una funció que et generi un quadrat NxN de nombres aleatoris entre el 0 i el 100.\n",
    "\n",
    "\n",
    "- Exercici 3\n",
    "Crea una funció que donada una taula de dues dimensions (NxM), et calculi els totals per fila i els totals per columna.\n",
    "\n",
    "\n",
    "- Exercici 4\n",
    "Implementa manualment una funció que calculi el coeficient de correlació. Informa-te'n sobre els seus usos i interpretació."
   ]
  },
  {
   "cell_type": "code",
   "execution_count": 1,
   "id": "aa4cf81a-803a-4144-af86-4739bc0f93f6",
   "metadata": {},
   "outputs": [],
   "source": [
    "import numpy as np\n",
    "from scipy import stats\n",
    "import random\n"
   ]
  },
  {
   "cell_type": "markdown",
   "id": "2b5bb7cb-8d96-4b5c-99a1-68fd76d00502",
   "metadata": {},
   "source": [
    "__Exercici 1__\n",
    "\n",
    "Crea una funció que donat un Array d’una dimensió, et faci un resum estadístic bàsic de les dades. Si detecta que l’array té més d’una dimensió, ha de mostrar un missatge d’error.\n"
   ]
  },
  {
   "cell_type": "code",
   "execution_count": 2,
   "id": "a8a1e992-b291-4078-8ebc-648eff3905d2",
   "metadata": {},
   "outputs": [],
   "source": [
    "def array_summary(array):\n",
    "    if array.ndim > 1:\n",
    "        print('Error, array de més d\\' una dimensió')\n",
    "    else: \n",
    "        mean = np.mean(array)\n",
    "        median = np.median(array) \n",
    "        mode = stats.mode(array)[0][0]\n",
    "        std = np.std(array)\n",
    "        var = np.var(array)\n",
    "        skew = stats.skew(array)\n",
    "        \n",
    "        text = 'Resum estadístic del array:\\nMitjana: ' + str(mean) + '\\nMediana: ' + str(median) + '\\nModa:' + str(mode) + '\\nDesviació típica:' + str(std) + '\\nVariança: ' + str(var) + '\\nAsimetria: ' + str(skew)\n",
    "        print(text)\n"
   ]
  },
  {
   "cell_type": "code",
   "execution_count": 3,
   "id": "429f7e3f-9bb7-4559-a0e9-4247d5d15ded",
   "metadata": {},
   "outputs": [
    {
     "name": "stdout",
     "output_type": "stream",
     "text": [
      "Resum estadístic del array:\n",
      "Mitjana: 4.142857142857143\n",
      "Mediana: 4.0\n",
      "Moda:2\n",
      "Desviació típica:2.5872528966106905\n",
      "Variança: 6.6938775510204085\n",
      "Asimetria: 0.5848157341219765\n"
     ]
    }
   ],
   "source": [
    "array = np.array([2, 4, 5, 6, 2, 1, 9])\n",
    "array_summary(array)"
   ]
  },
  {
   "cell_type": "markdown",
   "id": "44f919fa-93eb-4ac9-9e7f-7f4a5bbefac6",
   "metadata": {},
   "source": [
    "__Exercici 2__\n",
    "\n",
    "Crea una funció que et generi un quadrat NxN de nombres aleatoris entre el 0 i el 100."
   ]
  },
  {
   "cell_type": "code",
   "execution_count": 4,
   "id": "75c46238-cc25-4d67-ba7a-f9136b31d061",
   "metadata": {},
   "outputs": [],
   "source": [
    "def random_array(num):\n",
    "    arr = np.zeros((num, num))\n",
    "    print(arr)\n",
    "    for i in range(0, num):\n",
    "        row = []\n",
    "        for j in range(0, num):\n",
    "            row.append(random.randint(0, 100))\n",
    "            print(row)\n",
    "        np.append(arr, np.array(row))\n",
    "    print(arr)"
   ]
  },
  {
   "cell_type": "code",
   "execution_count": 5,
   "id": "727afb2a-16a3-46d8-88ba-67eff8da1cc5",
   "metadata": {},
   "outputs": [],
   "source": [
    "def random_array(num):\n",
    "    arr = []\n",
    "    for i in range(0, num):\n",
    "        row = []\n",
    "        for j in range(0, num):\n",
    "            row.append(random.randint(0, 100))\n",
    "        arr.append(row)\n",
    "    arr = np.array(arr)\n",
    "    return arr"
   ]
  },
  {
   "cell_type": "code",
   "execution_count": 6,
   "id": "9eaa4d18-d464-4105-8f24-eaadbdd4cc17",
   "metadata": {},
   "outputs": [
    {
     "name": "stdout",
     "output_type": "stream",
     "text": [
      "[[ 31  38  53  70  91  24  73   6 100  97  12  23  79  19  57]\n",
      " [ 74   3  18  86  44  19  39  87  43  87  41  49  83  54   5]\n",
      " [ 20  48   9  42  91   2  52  35  66  66  96 100  83  72  42]\n",
      " [ 81  27  64  89  51  41  98  43  71  51  43  13  39  18  29]\n",
      " [ 42  92  78  97  46  48   8   7  71  58  69  10  20  81  10]\n",
      " [ 31  96  21  23  95  29  37  32  24  48  27  31  16  29  30]\n",
      " [ 65   3  97  24  84  83  97   2  60 100  73  84  68  13  62]\n",
      " [ 60  24  40  72  72  66  21  44  99  67  69  19  51   9  11]\n",
      " [ 86  77  75  58  92  58   7  97  20  41  43  49  64  53  64]\n",
      " [  6  51  98   2   1  68  67  50  59  53  35  81  67  68  70]\n",
      " [ 10  54  32  16  33   1  39   3  61  23   5   6  62  46  60]\n",
      " [ 74  13  78  24  93  76  48  34  32  91   0  15  38  14  57]\n",
      " [ 15  56  70  61  89  69  89  62  37  14  83  54  83  73  93]\n",
      " [ 88   2  28   7  40  96  84  62   3  79  72  53  50  46  86]\n",
      " [ 40  69  31   6  44  23  20  31  61  48  26  73  75  83  48]]\n"
     ]
    }
   ],
   "source": [
    "print(random_array(15))"
   ]
  },
  {
   "cell_type": "code",
   "execution_count": 7,
   "id": "1ff94927-d03c-4e82-959f-18953254046f",
   "metadata": {},
   "outputs": [
    {
     "data": {
      "text/plain": [
       "20"
      ]
     },
     "execution_count": 7,
     "metadata": {},
     "output_type": "execute_result"
    }
   ],
   "source": [
    "random.randint(0, 100)"
   ]
  },
  {
   "cell_type": "markdown",
   "id": "01995610-4d18-4a59-8149-5a8cdda00ccf",
   "metadata": {},
   "source": [
    "__Exercici 3__\n",
    "\n",
    "Crea una funció que donada una taula de dues dimensions (NxM), et calculi els totals per fila i els totals per columna."
   ]
  },
  {
   "cell_type": "code",
   "execution_count": 8,
   "id": "edc8e867-c388-472b-8266-1f97cb088806",
   "metadata": {},
   "outputs": [],
   "source": [
    "def random_array_2(rows, cols):\n",
    "    arr = []\n",
    "    for i in range(0, rows):\n",
    "        row = []\n",
    "        for j in range(0, cols):\n",
    "            row.append(random.randint(0, 100))\n",
    "        arr.append(row)\n",
    "    arr = np.array(arr)\n",
    "    return(arr)\n",
    "    \n",
    "def sums(arr):\n",
    "    col_sum = np.sum(arr, axis = 0)\n",
    "    row_sum = np.sum(arr, axis = 1)\n",
    "    \n",
    "    print('Suma de les columnes')\n",
    "    print(col_sum)\n",
    "    print('Suma de les files')\n",
    "    print(row_sum)"
   ]
  },
  {
   "cell_type": "code",
   "execution_count": 9,
   "id": "bf8f5933-4aff-40ef-8917-015a463afd64",
   "metadata": {},
   "outputs": [
    {
     "name": "stdout",
     "output_type": "stream",
     "text": [
      "Suma de les columnes\n",
      "[ 38 131  34]\n",
      "Suma de les files\n",
      "[ 91 112]\n"
     ]
    }
   ],
   "source": [
    "sums(random_array_2(2, 3))"
   ]
  },
  {
   "cell_type": "markdown",
   "id": "dd8605cd-8158-49f0-bb5d-25be786a6c61",
   "metadata": {},
   "source": [
    "__Exercici 4__\n",
    "\n",
    "Implementa manualment una funció que calculi el coeficient de correlació. Informa-te'n sobre els seus usos i interpretació."
   ]
  },
  {
   "cell_type": "code",
   "execution_count": 10,
   "id": "3647de96-c894-4a17-b60b-28c0dc4b3070",
   "metadata": {
    "tags": []
   },
   "outputs": [
    {
     "name": "stdout",
     "output_type": "stream",
     "text": [
      "1.644384383287556\n",
      "23.903137869325857\n",
      "0.5692099788303119\n",
      "21.188676221038442\n",
      "[23.90313787 21.18867622]\n",
      "-5.178163890681484e-28\n",
      "[[1.         0.41549859]\n",
      " [0.41549859 1.        ]]\n"
     ]
    }
   ],
   "source": [
    "# Intent 1\n",
    "\n",
    "arr = np.array(random_array_2(2, 10))\n",
    "\n",
    "#Calculem la mitjana de cada columna:\n",
    "\n",
    "x_mean = 0\n",
    "y_mean = 0\n",
    "\n",
    "for i in range (0, len(arr[0])):\n",
    "    x_mean += arr[0][i]/len(arr[0])\n",
    "\n",
    "for i in range (0, len(arr[0])):\n",
    "    y_mean += arr[1][i]/len(arr[1])\n",
    "\n",
    "# Calculem la covariança. Primer els operadors del numerador:\n",
    "\n",
    "oper_x = 0\n",
    "oper_y = 0\n",
    "\n",
    "for i in range (0, len(arr[0])):\n",
    "    oper_x += arr[0][i] - x_mean\n",
    "\n",
    "for i in range (0, len(arr[0])):\n",
    "    oper_y += arr[1][i] - y_mean \n",
    "    \n",
    "cov_xy = (oper_x * oper_y) / len(arr[0])\n",
    "\n",
    "#Calculem la desviació estandard\n",
    "\n",
    "num_x = 0\n",
    "\n",
    "num_x += (arr[0][i] - x_mean)**2\n",
    "\n",
    "num_y = 0\n",
    "\n",
    "num_y += (arr[1][i] - y_mean)**2\n",
    "\n",
    "desv_x = np.sqrt(num_x/len(arr[0]))\n",
    "print(desv_x)\n",
    "print(np.std(arr[0]))\n",
    "desv_y = np.sqrt(num_y/len(arr[1]))\n",
    "print(desv_y)\n",
    "print(np.std(arr[1]))\n",
    "print(np.std(arr, 1))\n",
    "\n",
    "# Càlcul correlació\n",
    "\n",
    "corr = cov_xy / (desv_x * desv_y)\n",
    "\n",
    "print(corr)\n",
    "print(np.corrcoef(arr[0], arr[1]))"
   ]
  },
  {
   "cell_type": "code",
   "execution_count": 56,
   "id": "73c565ac-7cdd-4964-9db3-49a979d8bc63",
   "metadata": {
    "tags": []
   },
   "outputs": [
    {
     "name": "stdout",
     "output_type": "stream",
     "text": [
      "x_mean\n",
      "37.5\n",
      "y_mean\n",
      "55.25\n",
      "cov_xy\n",
      "207.45833333333331\n",
      "25.911709064951054\n",
      "25.911709064951054\n",
      "14.16642156650719\n",
      "14.16642156650719\n",
      "[25.91170906 14.16642157]\n",
      "0.5651642265418636\n",
      "[[1.         0.56516423]\n",
      " [0.56516423 1.        ]]\n"
     ]
    }
   ],
   "source": [
    "# Intent 2\n",
    "\n",
    "arr = np.array(random_array_2(2, 10))\n",
    "#arr = np.array([[7, 14, 32, 52, 85, 91, 105, 121], [1, 2, 3, 3, 5, 5, 6, 6]])\n",
    "arr = np.array([[22, 48, 76, 10, 22, 4, 68, 44, 10, 76, 14, 56], [63, 39, 61, 30, 51, 44, 74, 78, 55, 58, 41, 69]])\n",
    "\n",
    "#Calculem la mitjana de cada columna:\n",
    "\n",
    "x_mean = 0\n",
    "y_mean = 0\n",
    "\n",
    "for i in range (0, len(arr[0])):\n",
    "    x_mean += arr[0][i]\n",
    "    \n",
    "x_mean = x_mean / len(arr[0])\n",
    "\n",
    "for i in range (0, len(arr[0])):\n",
    "    y_mean += arr[1][i]\n",
    "    \n",
    "y_mean = y_mean / len(arr[1])\n",
    "\n",
    "print('x_mean')\n",
    "print(x_mean)\n",
    "\n",
    "print('y_mean')\n",
    "print(y_mean)\n",
    "\n",
    "# Calculem la covariança. Primer els operadors del numerador:\n",
    "\n",
    "oper_x = 0\n",
    "oper_y = 0\n",
    "cov_xy = 0\n",
    "\n",
    "for i in range (0, len(arr[0])):\n",
    "    cov_xy += ((arr[0][i] - x_mean) * (arr[1][i] - y_mean)) / len(arr[0])\n",
    "    \n",
    "print('cov_xy')\n",
    "print(cov_xy)\n",
    "\n",
    "#Calculem la desviació estandar\n",
    "\n",
    "num_x = 0\n",
    "num_y = 0\n",
    "\n",
    "for i in range (0, len(arr[0])):\n",
    "    num_x += (arr[0][i] - x_mean)**2\n",
    "\n",
    "for i in range (0, len(arr[0])):\n",
    "    num_y += (arr[1][i] - y_mean)**2\n",
    "\n",
    "desv_x = np.sqrt(num_x/len(arr[0]))\n",
    "print(desv_x)\n",
    "print(np.std(arr[0]))\n",
    "desv_y = np.sqrt(num_y/len(arr[1]))\n",
    "print(desv_y)\n",
    "print(np.std(arr[1]))\n",
    "print(np.std(arr, 1))\n",
    "\n",
    "# Calculem la correlació\n",
    "\n",
    "corr = cov_xy / (desv_x * desv_y)\n",
    "\n",
    "print(corr)\n",
    "print(np.corrcoef(arr[0], arr[1]))"
   ]
  },
  {
   "cell_type": "code",
   "execution_count": 57,
   "id": "71208705-2355-4ce4-a388-adff39b33717",
   "metadata": {},
   "outputs": [],
   "source": [
    "# Format funció\n",
    "\n",
    "def manual_corr(arr):\n",
    "\n",
    "    #Calculem la mitjana de cada columna:\n",
    "\n",
    "    x_mean = 0\n",
    "    y_mean = 0\n",
    "\n",
    "    for i in range (0, len(arr[0])):\n",
    "        x_mean += arr[0][i]\n",
    "\n",
    "    x_mean = x_mean / len(arr[0])\n",
    "\n",
    "    for i in range (0, len(arr[0])):\n",
    "        y_mean += arr[1][i]\n",
    "\n",
    "    y_mean = y_mean / len(arr[1])\n",
    "\n",
    "    # Calculem la covariança. Primer els operadors del numerador:\n",
    "\n",
    "    oper_x = 0\n",
    "    oper_y = 0\n",
    "    cov_xy = 0\n",
    "\n",
    "    for i in range (0, len(arr[0])):\n",
    "        cov_xy += (arr[0][i] - x_mean) * (arr[1][i] - y_mean) / len(arr[0])\n",
    "\n",
    "    #Calculem la desviació estandar\n",
    "\n",
    "    num_x = 0\n",
    "    num_y = 0\n",
    "\n",
    "    for i in range (0, len(arr[0])):\n",
    "        num_x += (arr[0][i] - x_mean)**2\n",
    "\n",
    "    for i in range (0, len(arr[1])):\n",
    "        num_y += (arr[1][i] - y_mean)**2\n",
    "\n",
    "    desv_x = np.sqrt(num_x/len(arr[0]))\n",
    "\n",
    "    desv_y = np.sqrt(num_y/len(arr[1]))\n",
    "\n",
    "    # Calculem la correlació\n",
    "\n",
    "    corr = cov_xy / (desv_x * desv_y)\n",
    "\n",
    "    print(corr)\n",
    "    return corr"
   ]
  },
  {
   "cell_type": "code",
   "execution_count": 58,
   "id": "9bd7c54b-788f-4c77-9460-f02f908cfb89",
   "metadata": {},
   "outputs": [
    {
     "name": "stdout",
     "output_type": "stream",
     "text": [
      "Test random. Les variables, al prendre valors aleatoris, no mostraran correlació\n",
      "Correlació manual\n",
      "0.10919521965567382\n",
      "Correlació amb la funció de Numpy\n",
      "[[1.         0.10919522]\n",
      " [0.10919522 1.        ]]\n",
      "Test correlació positiva. Les dades de les variables estan correlacionades de tal forma que al creixer una, també ho fa l'altra\n",
      "0.9813888179844993\n",
      "[[1.         0.98138882]\n",
      " [0.98138882 1.        ]]\n",
      "Test correlació negativa. Les dades de les variables estan correlacionades de tal forma que al creixer una, l'altra decreix\n",
      "-0.9652006490640259\n",
      "[[ 1.         -0.96520065]\n",
      " [-0.96520065  1.        ]]\n"
     ]
    }
   ],
   "source": [
    "# Proves càlcul manual correlació\n",
    "\n",
    "arr_1 = random_array_2(2, 10)\n",
    "\n",
    "arr_2 = np.array([[7, 14, 32, 52, 85, 91, 105, 121], [1, 2, 3, 3, 5, 5, 6, 6]])\n",
    "\n",
    "arr_3 = np.array([[7, 14, 32, 52, 85, 91, 105, 121], [5, 5, 4, 3, 3, 2, 1, 0]])\n",
    "\n",
    "print('Test random. Les variables, al prendre valors aleatoris, no mostraran correlació')\n",
    "print('Correlació manual')\n",
    "manual_corr(arr_1)\n",
    "print('Correlació amb la funció de Numpy')\n",
    "print(np.corrcoef(arr_1[0], arr_1[1]))\n",
    "\n",
    "print('Test correlació positiva. Les dades de les variables estan correlacionades de tal forma que al creixer una, també ho fa l\\'altra')\n",
    "manual_corr(arr_2)\n",
    "print(np.corrcoef(arr_2[0], arr_2[1]))\n",
    "\n",
    "print('Test correlació negativa. Les dades de les variables estan correlacionades de tal forma que al creixer una, l\\'altra decreix')\n",
    "manual_corr(arr_3)\n",
    "print(np.corrcoef(arr_3[0], arr_3[1]))\n"
   ]
  },
  {
   "cell_type": "code",
   "execution_count": 29,
   "id": "0a7a9c41-91b5-4eff-8bd5-a208f4a0c3eb",
   "metadata": {},
   "outputs": [
    {
     "data": {
      "text/plain": [
       "array([[ 78,  48,  75,  71,  49,  69,   0,  60,  28,  68],\n",
       "       [ 88,  54,  95,   4,  53,  85,  32,  71, 100,  98]])"
      ]
     },
     "execution_count": 29,
     "metadata": {},
     "output_type": "execute_result"
    }
   ],
   "source": [
    "arr"
   ]
  },
  {
   "cell_type": "code",
   "execution_count": 12,
   "id": "142e7dc7-67f4-439c-9c72-591464fc58f3",
   "metadata": {},
   "outputs": [
    {
     "data": {
      "text/plain": [
       "10"
      ]
     },
     "execution_count": 12,
     "metadata": {},
     "output_type": "execute_result"
    }
   ],
   "source": [
    "len(arr[0])"
   ]
  },
  {
   "cell_type": "code",
   "execution_count": 53,
   "id": "42b9f483-b16d-47fb-a9b9-2c6ceab52fb7",
   "metadata": {
    "tags": []
   },
   "outputs": [
    {
     "name": "stdout",
     "output_type": "stream",
     "text": [
      "37.5 55.25000000000001\n",
      "207.45833333333334\n",
      "25.911709064951054\n",
      "25.911709064951054\n",
      "14.16642156650719\n",
      "14.16642156650719\n",
      "0.5651642265418636\n",
      "[[1.         0.56516423]\n",
      " [0.56516423 1.        ]]\n"
     ]
    }
   ],
   "source": [
    "k_m = np.array([22, 48, 76, 10, 22, 4, 68, 44, 10, 76, 14, 56])\n",
    "km = np.array([63, 39, 61, 30, 51, 44, 74, 78, 55, 58, 41, 69])\n",
    "\n",
    "gns_k_m = 0\n",
    "gns_km = 0\n",
    "cov = 0\n",
    "sum_k_m = 0\n",
    "sum_km = 0\n",
    "\n",
    "for k in range(len(k_m)):\n",
    "    gns_k_m += k_m[k]/len(k_m)\n",
    "\n",
    "for k in range(len(km)):\n",
    "    gns_km += km[k]/len(km)\n",
    "    \n",
    "print(gns_k_m, gns_km)\n",
    "\n",
    "for k in range(len(k_m)):\n",
    "    cov += (k_m[k]-gns_k_m)*(km[k]-gns_km)/(len(k_m))\n",
    "\n",
    "print(cov)\n",
    "\n",
    "for k in range(len(k_m)):\n",
    "    sum_k_m += (k_m[k]-gns_k_m)**2\n",
    "\n",
    "sa_k_m = np.sqrt(sum_k_m/len(k_m))\n",
    "print(sa_k_m)\n",
    "print(np.std(k_m))\n",
    "\n",
    "for k in range(len(km)):\n",
    "    sum_km += (km[k]-gns_km)**2\n",
    "    \n",
    "sa_km = np.sqrt(sum_km/len(km))\n",
    "print(sa_km)\n",
    "print(np.std(km))\n",
    "\n",
    "cor = cov/(sa_k_m*sa_km)\n",
    "\n",
    "print(cor)\n",
    "print(np.corrcoef(k_m,km))"
   ]
  },
  {
   "cell_type": "code",
   "execution_count": null,
   "id": "04a23f34-5a8a-4dfd-beba-e1266fb51f50",
   "metadata": {},
   "outputs": [],
   "source": []
  }
 ],
 "metadata": {
  "kernelspec": {
   "display_name": "Python 3 (ipykernel)",
   "language": "python",
   "name": "python3"
  },
  "language_info": {
   "codemirror_mode": {
    "name": "ipython",
    "version": 3
   },
   "file_extension": ".py",
   "mimetype": "text/x-python",
   "name": "python",
   "nbconvert_exporter": "python",
   "pygments_lexer": "ipython3",
   "version": "3.9.7"
  }
 },
 "nbformat": 4,
 "nbformat_minor": 5
}
