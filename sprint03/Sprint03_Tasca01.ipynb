{
 "cells": [
  {
   "cell_type": "markdown",
   "id": "876e65a9-ffb6-4c6f-9a42-abc6c9c8615c",
   "metadata": {},
   "source": [
    "\n",
    "<h1><center>Sprint 3</center></h1>\n",
    "<h2><center>Tasca 1: Programació numèrica</center></h2>\n"
   ]
  },
  {
   "cell_type": "markdown",
   "id": "015846eb-420f-4dd2-a2a5-c471ec52173d",
   "metadata": {},
   "source": [
    "- Exercici 1:\n",
    "Crea una funció que donat un Array d’una dimensió, et faci un resum estadístic bàsic de les dades. Si detecta que l’array té més d’una dimensió, ha de mostrar un missatge d’error.\n",
    "\n",
    "\n",
    "- Exercici 2:\n",
    "Crea una funció que et generi un quadrat NxN de nombres aleatoris entre el 0 i el 100.\n",
    "\n",
    "\n",
    "- Exercici 3:\n",
    "Crea una funció que donada una taula de dues dimensions (NxM), et calculi els totals per fila i els totals per columna.\n",
    "\n",
    "\n",
    "- Exercici 4:\n",
    "Implementa manualment una funció que calculi el coeficient de correlació. Informa-te'n sobre els seus usos i interpretació."
   ]
  },
  {
   "cell_type": "code",
   "execution_count": 1,
   "id": "aa4cf81a-803a-4144-af86-4739bc0f93f6",
   "metadata": {},
   "outputs": [],
   "source": [
    "import numpy as np\n",
    "from scipy import stats\n",
    "import random\n"
   ]
  },
  {
   "cell_type": "markdown",
   "id": "2b5bb7cb-8d96-4b5c-99a1-68fd76d00502",
   "metadata": {},
   "source": [
    "### Exercici 1\n",
    "\n",
    "_**Crea una funció que donat un Array d’una dimensió, et faci un resum estadístic bàsic de les dades. Si detecta que l’array té més d’una dimensió, ha de mostrar un missatge d’error.**_\n"
   ]
  },
  {
   "cell_type": "code",
   "execution_count": 2,
   "id": "a8a1e992-b291-4078-8ebc-648eff3905d2",
   "metadata": {},
   "outputs": [],
   "source": [
    "def array_summary(array):\n",
    "    if array.ndim > 1:\n",
    "        print('Error, array de més d\\' una dimensió')\n",
    "    else: \n",
    "        mean = np.mean(array)\n",
    "        median = np.median(array) \n",
    "        mode = stats.mode(array)[0][0]\n",
    "        std = np.std(array)\n",
    "        var = np.var(array)\n",
    "        skew = stats.skew(array)\n",
    "        \n",
    "        text = 'Resum estadístic del array:\\nMitjana: ' + str(mean) + '\\nMediana: ' + str(median) + '\\nModa:' + str(mode) + '\\nDesviació típica:' + str(std) + '\\nVariança: ' + str(var) + '\\nAsimetria: ' + str(skew)\n",
    "        print(text)\n"
   ]
  },
  {
   "cell_type": "code",
   "execution_count": 3,
   "id": "429f7e3f-9bb7-4559-a0e9-4247d5d15ded",
   "metadata": {},
   "outputs": [
    {
     "name": "stdout",
     "output_type": "stream",
     "text": [
      "Resum estadístic del array:\n",
      "Mitjana: 4.142857142857143\n",
      "Mediana: 4.0\n",
      "Moda:2\n",
      "Desviació típica:2.5872528966106905\n",
      "Variança: 6.6938775510204085\n",
      "Asimetria: 0.5848157341219765\n"
     ]
    }
   ],
   "source": [
    "array = np.array([2, 4, 5, 6, 2, 1, 9])\n",
    "array_summary(array)"
   ]
  },
  {
   "cell_type": "markdown",
   "id": "44f919fa-93eb-4ac9-9e7f-7f4a5bbefac6",
   "metadata": {},
   "source": [
    "### Exercici 2\n",
    "\n",
    "_**Crea una funció que et generi un quadrat NxN de nombres aleatoris entre el 0 i el 100.**_"
   ]
  },
  {
   "cell_type": "code",
   "execution_count": 4,
   "id": "75c46238-cc25-4d67-ba7a-f9136b31d061",
   "metadata": {},
   "outputs": [],
   "source": [
    "def random_array(num):\n",
    "    arr = np.zeros((num, num))\n",
    "    print(arr)\n",
    "    for i in range(0, num):\n",
    "        row = []\n",
    "        for j in range(0, num):\n",
    "            row.append(random.randint(0, 100))\n",
    "            print(row)\n",
    "        np.append(arr, np.array(row))\n",
    "    print(arr)"
   ]
  },
  {
   "cell_type": "code",
   "execution_count": 5,
   "id": "727afb2a-16a3-46d8-88ba-67eff8da1cc5",
   "metadata": {},
   "outputs": [],
   "source": [
    "def random_array(num):\n",
    "    arr = []\n",
    "    for i in range(0, num):\n",
    "        row = []\n",
    "        for j in range(0, num):\n",
    "            row.append(random.randint(0, 100))\n",
    "        arr.append(row)\n",
    "    arr = np.array(arr)\n",
    "    return arr"
   ]
  },
  {
   "cell_type": "code",
   "execution_count": 6,
   "id": "9eaa4d18-d464-4105-8f24-eaadbdd4cc17",
   "metadata": {},
   "outputs": [
    {
     "name": "stdout",
     "output_type": "stream",
     "text": [
      "[[ 64   0  36  66  99  80  65  62  49  15  30  66  77  27  31]\n",
      " [ 24  21  42  54  40   5  13  67  98   7   0  76  57  40  82]\n",
      " [  1  14  56  64  81  99  90  15  66  70  80  68  27  37  78]\n",
      " [ 88  37  98  70  84  36   9  42  25  35  66  66  90  34  30]\n",
      " [ 26  34  83   5  79  99   1  40  85  53  78  23  52  53  59]\n",
      " [ 26  74  58  18  75  51  51  97  11   6  41  60  62  40  66]\n",
      " [ 33   0  62  72  63  34  32  36  40  46  61  24  94  60  17]\n",
      " [ 94  80  34  14  21  77  10  84  93   7  95 100  94  81  94]\n",
      " [ 99  19  21  38  20  75  64  79  59  98  34  83  48  84  42]\n",
      " [ 13  49  54   2  20   5  57  30  13  58  42   5  32   3  58]\n",
      " [ 92  20  45  90  51  73 100  94  82  70   8  21  29  73  49]\n",
      " [  3  79  88   6  64   8  57  57  92  38  41  96  73  89  49]\n",
      " [ 59  94  27  10   6  77  10  60   2  95  84  91  98   5  47]\n",
      " [ 43  78  87  22  38  45  87  14  11  35  42  90  24  26  79]\n",
      " [  2  23  55  53  71  23  13  93   6  35  60  95  37  88  51]]\n"
     ]
    }
   ],
   "source": [
    "print(random_array(15))"
   ]
  },
  {
   "cell_type": "code",
   "execution_count": 7,
   "id": "1ff94927-d03c-4e82-959f-18953254046f",
   "metadata": {},
   "outputs": [
    {
     "data": {
      "text/plain": [
       "17"
      ]
     },
     "execution_count": 7,
     "metadata": {},
     "output_type": "execute_result"
    }
   ],
   "source": [
    "random.randint(0, 100)"
   ]
  },
  {
   "cell_type": "markdown",
   "id": "01995610-4d18-4a59-8149-5a8cdda00ccf",
   "metadata": {},
   "source": [
    "### Exercici 3\n",
    "\n",
    "_**Crea una funció que donada una taula de dues dimensions (NxM), et calculi els totals per fila i els totals per columna.**_"
   ]
  },
  {
   "cell_type": "code",
   "execution_count": 8,
   "id": "edc8e867-c388-472b-8266-1f97cb088806",
   "metadata": {},
   "outputs": [],
   "source": [
    "def random_array_2(rows, cols):\n",
    "    arr = []\n",
    "    for i in range(0, rows):\n",
    "        row = []\n",
    "        for j in range(0, cols):\n",
    "            row.append(random.randint(0, 100))\n",
    "        arr.append(row)\n",
    "    arr = np.array(arr)\n",
    "    return(arr)\n",
    "    \n",
    "def sums(arr):\n",
    "    col_sum = np.sum(arr, axis = 0)\n",
    "    row_sum = np.sum(arr, axis = 1)\n",
    "    \n",
    "    print('Suma de les columnes')\n",
    "    print(col_sum)\n",
    "    print('Suma de les files')\n",
    "    print(row_sum)"
   ]
  },
  {
   "cell_type": "code",
   "execution_count": 9,
   "id": "bf8f5933-4aff-40ef-8917-015a463afd64",
   "metadata": {},
   "outputs": [
    {
     "name": "stdout",
     "output_type": "stream",
     "text": [
      "Suma de les columnes\n",
      "[ 97 104  80]\n",
      "Suma de les files\n",
      "[129 152]\n"
     ]
    }
   ],
   "source": [
    "sums(random_array_2(2, 3))"
   ]
  },
  {
   "cell_type": "markdown",
   "id": "dd8605cd-8158-49f0-bb5d-25be786a6c61",
   "metadata": {},
   "source": [
    "### Exercici 4\n",
    "\n",
    "_**Implementa manualment una funció que calculi el coeficient de correlació. Informa-te'n sobre els seus usos i interpretació.**_"
   ]
  },
  {
   "cell_type": "code",
   "execution_count": 12,
   "id": "71208705-2355-4ce4-a388-adff39b33717",
   "metadata": {},
   "outputs": [],
   "source": [
    "# Format funció\n",
    "\n",
    "def manual_corr(arr):\n",
    "\n",
    "    #Calculem la mitjana de cada columna:\n",
    "\n",
    "    x_mean = 0\n",
    "    y_mean = 0\n",
    "\n",
    "    for i in range (0, len(arr[0])):\n",
    "        x_mean += arr[0][i]\n",
    "\n",
    "    x_mean = x_mean / len(arr[0])\n",
    "\n",
    "    for i in range (0, len(arr[0])):\n",
    "        y_mean += arr[1][i]\n",
    "\n",
    "    y_mean = y_mean / len(arr[1])\n",
    "\n",
    "    # Calculem la covariança. Primer els operadors del numerador:\n",
    "\n",
    "    oper_x = 0\n",
    "    oper_y = 0\n",
    "    cov_xy = 0\n",
    "\n",
    "    for i in range (0, len(arr[0])):\n",
    "        cov_xy += (arr[0][i] - x_mean) * (arr[1][i] - y_mean) / len(arr[0])\n",
    "\n",
    "    #Calculem la desviació estandar\n",
    "\n",
    "    num_x = 0\n",
    "    num_y = 0\n",
    "\n",
    "    for i in range (0, len(arr[0])):\n",
    "        num_x += (arr[0][i] - x_mean)**2\n",
    "\n",
    "    for i in range (0, len(arr[1])):\n",
    "        num_y += (arr[1][i] - y_mean)**2\n",
    "\n",
    "    desv_x = np.sqrt(num_x/len(arr[0]))\n",
    "\n",
    "    desv_y = np.sqrt(num_y/len(arr[1]))\n",
    "\n",
    "    # Calculem la correlació\n",
    "\n",
    "    corr = cov_xy / (desv_x * desv_y)\n",
    "\n",
    "    print(corr)\n",
    "    return corr"
   ]
  },
  {
   "cell_type": "code",
   "execution_count": 13,
   "id": "9bd7c54b-788f-4c77-9460-f02f908cfb89",
   "metadata": {},
   "outputs": [
    {
     "name": "stdout",
     "output_type": "stream",
     "text": [
      "Test random. Les variables, al prendre valors aleatoris, no mostraran correlació\n",
      "Correlació manual\n",
      "-0.3033088837789841\n",
      "Correlació amb la funció de Numpy\n",
      "[[ 1.         -0.30330888]\n",
      " [-0.30330888  1.        ]]\n",
      "Test correlació positiva. Les dades de les variables estan correlacionades de tal forma que al creixer una, també ho fa l'altra\n",
      "0.9813888179844993\n",
      "[[1.         0.98138882]\n",
      " [0.98138882 1.        ]]\n",
      "Test correlació negativa. Les dades de les variables estan correlacionades de tal forma que al creixer una, l'altra decreix\n",
      "-0.9652006490640259\n",
      "[[ 1.         -0.96520065]\n",
      " [-0.96520065  1.        ]]\n"
     ]
    }
   ],
   "source": [
    "# Proves càlcul manual correlació\n",
    "\n",
    "arr_1 = random_array_2(2, 10)\n",
    "\n",
    "arr_2 = np.array([[7, 14, 32, 52, 85, 91, 105, 121], [1, 2, 3, 3, 5, 5, 6, 6]])\n",
    "\n",
    "arr_3 = np.array([[7, 14, 32, 52, 85, 91, 105, 121], [5, 5, 4, 3, 3, 2, 1, 0]])\n",
    "\n",
    "print('Test random. Les variables, al prendre valors aleatoris, no mostraran correlació')\n",
    "print('Correlació manual')\n",
    "manual_corr(arr_1)\n",
    "print('Correlació amb la funció de Numpy')\n",
    "print(np.corrcoef(arr_1[0], arr_1[1]))\n",
    "\n",
    "print('Test correlació positiva. Les dades de les variables estan correlacionades de tal forma que al creixer una, també ho fa l\\'altra')\n",
    "manual_corr(arr_2)\n",
    "print(np.corrcoef(arr_2[0], arr_2[1]))\n",
    "\n",
    "print('Test correlació negativa. Les dades de les variables estan correlacionades de tal forma que al creixer una, l\\'altra decreix')\n",
    "manual_corr(arr_3)\n",
    "print(np.corrcoef(arr_3[0], arr_3[1]))"
   ]
  }
 ],
 "metadata": {
  "kernelspec": {
   "display_name": "Python 3 (ipykernel)",
   "language": "python",
   "name": "python3"
  },
  "language_info": {
   "codemirror_mode": {
    "name": "ipython",
    "version": 3
   },
   "file_extension": ".py",
   "mimetype": "text/x-python",
   "name": "python",
   "nbconvert_exporter": "python",
   "pygments_lexer": "ipython3",
   "version": "3.9.7"
  }
 },
 "nbformat": 4,
 "nbformat_minor": 5
}
