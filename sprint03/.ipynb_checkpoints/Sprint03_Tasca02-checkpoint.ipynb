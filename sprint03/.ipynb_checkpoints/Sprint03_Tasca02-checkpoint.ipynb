{
 "cells": [
  {
   "cell_type": "markdown",
   "id": "660177ec-9054-486d-86ba-6af02565a253",
   "metadata": {},
   "source": [
    "**Sprint 3 / Tasca 2: Dataframes i anàlisi estadístic**\n",
    "\n",
    "*Tasca 2*"
   ]
  },
  {
   "cell_type": "markdown",
   "id": "ff17c1fc-21fc-4a04-a0e6-23445030f911",
   "metadata": {},
   "source": [
    "**Exercici 1**\n",
    "\n",
    "Descarrega el data set Airlines Delay: Airline on-time statistics and delay causes i carrega’l a un Pandas Dataframe. Explora les dades que conté, explica breument quines variables hi ha i queda’t únicament amb les columnes que consideris rellevants. Justifica la teva elecció."
   ]
  },
  {
   "cell_type": "code",
   "execution_count": null,
   "id": "a8edc0b6-80e5-4e1c-ac1a-3a258a0263a8",
   "metadata": {},
   "outputs": [],
   "source": [
    "from pathlib import Path\n",
    "import numpy as np\n",
    "import pandas as pd\n",
    "from scipy import stats\n",
    "import random\n",
    "import datetime as dt\n",
    "import math\n"
   ]
  },
  {
   "cell_type": "code",
   "execution_count": null,
   "id": "72dd5341-d302-4846-913c-3b8fc02782c5",
   "metadata": {},
   "outputs": [],
   "source": [
    "# file paths\n",
    "data_path = 'D:/Sistema_Solar/Python/itacademy/sprint03/data/'\n",
    "data_path = Path(data_path)"
   ]
  },
  {
   "cell_type": "code",
   "execution_count": null,
   "id": "d6f40a8a-8eba-4e6b-b852-de484dca58ae",
   "metadata": {},
   "outputs": [],
   "source": [
    "file_name = 'DelayedFlights.csv'\n",
    "file = data_path / file_name\n",
    "delay_df = pd.read_csv(file)"
   ]
  },
  {
   "cell_type": "code",
   "execution_count": null,
   "id": "a529d9d2-fc8e-4728-bfb9-d9d7c9d2078a",
   "metadata": {},
   "outputs": [],
   "source": [
    "pd.set_option('display.max_columns', None)\n",
    "pd.set_option('display.expand_frame_repr', False)\n",
    "delay_df.describe(include='all')"
   ]
  },
  {
   "cell_type": "code",
   "execution_count": null,
   "id": "53b1c76f",
   "metadata": {},
   "outputs": [],
   "source": [
    "delay_df"
   ]
  },
  {
   "cell_type": "markdown",
   "id": "af1bb0c4-51be-4436-a375-597323c02ab5",
   "metadata": {},
   "source": [
    "Redueix la dimensió del dataset de manera aleatòria per tal d'obtenir un dataset de només 200.000 registres. Tots els exercicis s'han de fer amb aquest dataset reduït."
   ]
  },
  {
   "cell_type": "code",
   "execution_count": null,
   "id": "5b900b96-18f5-4720-b1d1-d620bff0f69d",
   "metadata": {},
   "outputs": [],
   "source": [
    "delay_df = delay_df.sample(n=200000)"
   ]
  },
  {
   "cell_type": "code",
   "execution_count": null,
   "id": "487d94f6-1e02-40f9-9161-524e84a2dbc1",
   "metadata": {},
   "outputs": [],
   "source": [
    "delay_df"
   ]
  },
  {
   "cell_type": "markdown",
   "id": "9f9bfa2c-0007-425e-b7be-7a2205f7e2df",
   "metadata": {},
   "source": [
    "El dataset està conformat per 29 variables:\n",
    "\n",
    "0. Unnamed 0: Camp que ennumera els registres\n",
    "1. Year: L'any\n",
    "2. Month: El mes\n",
    "3. DayofMonth: Dia del mes\n",
    "4. DayofWeek: Dia de la setmana\n",
    "5. DepTime: L'hora de sortida real, en hora local (format hhmm)\n",
    "6. CRSDepTime: L'hora de sortida programda\n",
    "7. ArrTime: L'hora d'arribada real, en hora local\n",
    "8. CRSArrTime: L'hora d'arribada programada\n",
    "9. UniqueCarrier: Codi IATA de la companyia\n",
    "10. FlightNum: Número del vol\n",
    "11. TailNum: número de la cola del avió que identifica un avió.\n",
    "12. ActualElapsedTime: Durada real del vol, en minuts\n",
    "13. CRSElapsedTime: Durada del vol programat\n",
    "14. AirTime: Temps en el qual l'avió es troba enlairat\n",
    "15. ArrDelay: Retard en l'arribada, en minuts. Sols es considera un vol ha arribat amb retard si ho fa en 15 o més minuts del programat.\n",
    "16. DepDelay: Retard en la sortida\n",
    "17. Origin: Codi IATA de l'aeroport de sortida\n",
    "18. Dest: Codi IATA de l'aeroport d'arribada\n",
    "19. Distance: Distància del vol, en milles\n",
    "20. TaxiIn: Temps en el qual l'avió circula per pista en direcció a la pista d'enlairament.\n",
    "21. TaxiOut: Temps en el qual l'avió circula per pista des de l'aterratge fins el lloc de desembarcament.\n",
    "22. Cancelled: 1 si el vol ha sigut cancel·lat o 0 si no ho ha estat.\n",
    "23. CancellationCode: Codi de cancel·lació indicant la raó (A = Aerolinia; B = Temps; C = Retards en el Sistema d'espai aeri nacional que inclou condicions meteorologiques no extremes, operacions en l'aeroport, alt volum de tr'afic, etc...; D = Seguretat)\n",
    "24. Diverted: Indica si el vol ha sigut desviat (1 = Sí, 0 = No).\n",
    "25. CarrierDelay: El temps de retard degut a motius de l'aerolínia.\n",
    "26. WeatherDelay: El temps de retard degut a motius del temps.\n",
    "27. NASDelay: El temps de retard degut al NAS, el Sistema d'espai aeri nacional.\n",
    "28. SecurityDelay: El temps de retard degut a motius de seguretat.\n",
    "29. LateAircraftDelay: El temps de retard en un aeroport degut al retard en l'aeroport anterior d'on ve un avió. "
   ]
  },
  {
   "cell_type": "markdown",
   "id": "13246f4e-937d-4d3f-adb7-7d4cf99c135c",
   "metadata": {},
   "source": [
    "**Selecció de variables i creació de noves**\n",
    "\n"
   ]
  },
  {
   "cell_type": "markdown",
   "id": "9f790ed3-9ba5-4ad1-b71b-60de84c868f8",
   "metadata": {},
   "source": [
    "La columna 0 s'el·limina. Les columnes 1 a 3 ens indiquen el dia i l'hora del vol, les mantenim però el·liminem (4) el dia de la setmana.\n",
    "\n",
    "Mentre que les de la 5 a la 8, ens quedem simplement amb l'hora esperada ja  que ja obtenim els retards en un altre camp. Però mantenim l'hora d'arribava real per fer comprovacions posteriors.\n",
    "\n"
   ]
  },
  {
   "cell_type": "code",
   "execution_count": null,
   "id": "e7c753ed-afaf-4711-96ef-ff0a0a7edbae",
   "metadata": {},
   "outputs": [],
   "source": [
    "delay_df = delay_df.drop(columns=['Unnamed: 0', 'DayOfWeek', 'DepTime', 'CRSDepTime']) "
   ]
  },
  {
   "cell_type": "markdown",
   "id": "8d9e423d-9319-4d3f-b509-f30e5d8603eb",
   "metadata": {
    "tags": []
   },
   "source": [
    "### BORRAR Ací mire el número de vol i veig que no vol dir el que creia. Així que el llevaré"
   ]
  },
  {
   "cell_type": "markdown",
   "id": "0181f85a-f67f-47d4-8595-965fe4eb5bc6",
   "metadata": {},
   "source": [
    "Podem calcular el número de vols diferents que hi han a partir del número de vol"
   ]
  },
  {
   "cell_type": "code",
   "execution_count": null,
   "id": "cc3c5e3f",
   "metadata": {},
   "outputs": [],
   "source": [
    "print(len(delay_df['FlightNum'].unique()))\n"
   ]
  },
  {
   "cell_type": "markdown",
   "id": "bff1d29e-51e3-406d-ac81-bb0f359c086f",
   "metadata": {},
   "source": [
    "Com també quin són els vols més freqüents:"
   ]
  },
  {
   "cell_type": "code",
   "execution_count": null,
   "id": "e351f9f5-f12e-43b0-aa69-e3ec6cafe259",
   "metadata": {},
   "outputs": [],
   "source": [
    "flight_num_count = delay_df['FlightNum'].value_counts()\n",
    "print(flight_num_count)"
   ]
  },
  {
   "cell_type": "markdown",
   "id": "8e81cbb1-eb60-472f-b2c0-5e6a9f704959",
   "metadata": {},
   "source": [
    "Quin són aquests trajectes? Necessitem les columnes Origin i Dest que són les mateixes per a cada número de vol. Ho comprovem amb el número de vol mé nombròs."
   ]
  },
  {
   "cell_type": "code",
   "execution_count": null,
   "id": "1c724160-f294-4c68-9546-52f59945bcf7",
   "metadata": {},
   "outputs": [],
   "source": [
    "search = delay_df['FlightNum'] == flight_num_count.iloc[0]\n",
    "busiest_flight_df = delay_df[search]"
   ]
  },
  {
   "cell_type": "code",
   "execution_count": null,
   "id": "f6ca54ab-58a8-4e3f-be2e-81ca8aaac264",
   "metadata": {},
   "outputs": [],
   "source": [
    "busiest_flight_df['Origin']"
   ]
  },
  {
   "cell_type": "markdown",
   "id": "eba554b3-4537-4b11-9889-395a1bfed49a",
   "metadata": {
    "tags": []
   },
   "source": [
    "### Continuem"
   ]
  },
  {
   "cell_type": "markdown",
   "id": "931e76a7-8829-4f4e-bc37-f8d4e4b6d613",
   "metadata": {},
   "source": [
    "Mantenim (9) UniqueCarrier per identificar l'aerolinia i (11) el número de cola. Descartem el (10) número de vol. Del (12) i (13), la diferència és el retard però mantenim (14) per calcular posteriorment la velocitat mitjana. Retindrem (15) ArrDelay i (16) DepDelay."
   ]
  },
  {
   "cell_type": "code",
   "execution_count": null,
   "id": "3add1c1d-f353-4dff-b6c4-4dc4c772f147",
   "metadata": {},
   "outputs": [],
   "source": [
    "delay_df = delay_df.drop(columns=['CRSElapsedTime', 'FlightNum', 'ActualElapsedTime'])"
   ]
  },
  {
   "cell_type": "markdown",
   "id": "6e1ec644-8d9d-4394-9ae6-74e6d677a0b6",
   "metadata": {},
   "source": [
    "Mantenim els codis IATA dels aeroports d'origen i de sortida (17 i 18). Mantenim la distància per calcular la velocitat (19) però descartem el temps que està l'avió circulant a l'aeroport (20 i 21)"
   ]
  },
  {
   "cell_type": "code",
   "execution_count": null,
   "id": "30578995-c514-4333-8cca-83a8e1abcc5c",
   "metadata": {},
   "outputs": [],
   "source": [
    "delay_df = delay_df.drop(columns=['TaxiIn', 'TaxiOut'])"
   ]
  },
  {
   "cell_type": "markdown",
   "id": "b46c1113-848f-4b06-8fa1-3e657e59c0ef",
   "metadata": {
    "tags": []
   },
   "source": [
    "Retenim (22) i (23) per saber quins vol són cancel·lats, i els motius. i també els retards atribuïts als diferents mtoius (25-29)."
   ]
  },
  {
   "cell_type": "code",
   "execution_count": null,
   "id": "13165c8c-4cec-4633-be66-e22f43dd4602",
   "metadata": {},
   "outputs": [],
   "source": [
    "delay_df = delay_df.drop(columns=['Diverted'])"
   ]
  },
  {
   "cell_type": "markdown",
   "id": "e2c2db45-524c-4510-9efd-9b11bb0c2828",
   "metadata": {},
   "source": [
    "**Exercici 2**\n",
    "\n",
    "Fes un informe complet del dataset:\n",
    "\n",
    "- Resumeix estadísticament el dataset i les columnes d’interès. \n",
    "- Fes una anàlisi estadístic del que consideris rellevant.\n",
    "- Troba quantes dades faltants hi ha per columna.\n",
    "- Crea columnes noves (velocitat mitjana del vol, si ha arribat tard o no...).\n",
    "- Fes una taula de les aerolínies amb més endarreriments acumulats.\n",
    "- Quins són els vols més llargs? I els més endarrerits? Busca les rutes més llargues i les que acumulen més retards.\n",
    "- Aporta allò que consideris rellevant."
   ]
  },
  {
   "cell_type": "markdown",
   "id": "0d8e86f9-32ec-4c44-afff-eb295feec72a",
   "metadata": {},
   "source": [
    "Creem una nova columna 'Date' que uneix la informació de les columnes 1 a 4 en una sola. Aquestes columnes les el·liminem."
   ]
  },
  {
   "cell_type": "code",
   "execution_count": null,
   "id": "5b56fd1d-3a74-47bf-b028-8e11042c9d36",
   "metadata": {},
   "outputs": [],
   "source": [
    "delay_df['Date'] = pd.to_datetime(pd.DataFrame({'year':delay_df['Year'], 'month':delay_df['Month'], 'day':delay_df['DayofMonth']}))\n",
    "\n",
    "delay_df = delay_df.drop(columns=['Year', 'Month', 'DayofMonth']) \n",
    "\n",
    "# També reordenem les columnes"
   ]
  },
  {
   "cell_type": "code",
   "execution_count": null,
   "id": "46ec7ee0",
   "metadata": {},
   "outputs": [],
   "source": [
    "cols = delay_df.columns.tolist()\n",
    "cols = cols[-1:] + cols[:-1]\n",
    "delay_df = delay_df[cols]"
   ]
  },
  {
   "cell_type": "code",
   "execution_count": null,
   "id": "5936fffc",
   "metadata": {},
   "outputs": [],
   "source": [
    "delay_df"
   ]
  },
  {
   "cell_type": "markdown",
   "id": "6aa860f8-81ce-44eb-932b-4c96746187f4",
   "metadata": {},
   "source": [
    "Quina és la completitud de les dades disponibles? Cerquem els NA de les diferents variables?"
   ]
  },
  {
   "cell_type": "code",
   "execution_count": null,
   "id": "8fb0db39-7dbf-4460-8f5d-2dd53ae4df3d",
   "metadata": {},
   "outputs": [],
   "source": [
    "delay_df.isna().sum()"
   ]
  },
  {
   "cell_type": "markdown",
   "id": "fc7190e6",
   "metadata": {},
   "source": [
    "delay_df.isna().sum() / len(delay_df) * 100"
   ]
  },
  {
   "cell_type": "markdown",
   "id": "ffd4492c",
   "metadata": {},
   "source": [
    "1. Date                  \n",
    "2. CRSArrTime            \n",
    "3. UniqueCarrier         \n",
    "4. FlightNum             \n",
    "5. TailNum               \n",
    "6. ArrDelay              \n",
    "7. DepDelay             \n",
    "8. Origin               \n",
    "9. Dest                  \n",
    "10. Cancelled             \n",
    "11. CancellationCode      \n",
    "12. CarrierDelay         \n",
    "13. WeatherDelay         \n",
    "14. NASDelay             \n",
    "15. SecurityDelay        \n",
    "16. LateAircraftDelay   "
   ]
  },
  {
   "cell_type": "markdown",
   "id": "2ac85ccf",
   "metadata": {},
   "source": [
    "Però açò pot estar relacionat a que falten dades o bé perquèe, en els casos on apareixen NA, relacionat amb que no s'ha registrat retards. Anem a inspeccionar les diferents variables.\n",
    "\n",
    "La data de les dades és de l'any 2008"
   ]
  },
  {
   "cell_type": "code",
   "execution_count": null,
   "id": "12decf96",
   "metadata": {},
   "outputs": [],
   "source": [
    "delay_df['Date'].min()"
   ]
  },
  {
   "cell_type": "code",
   "execution_count": null,
   "id": "eb0c612c",
   "metadata": {},
   "outputs": [],
   "source": [
    "delay_df['Date'].max()"
   ]
  },
  {
   "cell_type": "markdown",
   "id": "f5a71da5",
   "metadata": {},
   "source": [
    "2. CRSArrTime: El temps d'arribada esperada"
   ]
  },
  {
   "cell_type": "code",
   "execution_count": null,
   "id": "499bc5c7",
   "metadata": {},
   "outputs": [],
   "source": [
    "delay_df['CRSArrTime'] = delay_df['CRSArrTime']/100"
   ]
  },
  {
   "cell_type": "code",
   "execution_count": null,
   "id": "033f9153",
   "metadata": {},
   "outputs": [],
   "source": [
    "delay_df['CRSArrTime']"
   ]
  },
  {
   "cell_type": "code",
   "execution_count": null,
   "id": "d8370d9e",
   "metadata": {},
   "outputs": [],
   "source": [
    "# alternativa per ficar-ho en time format\n",
    "m,s = map(int,\"14.15\".split(\".\"))\n",
    "m,s = (m+s)//60,s%60\n",
    "dt.datetime.strptime('{}.{}'.format(m,s),'%H.%M').time()\n",
    "# aplicat al meu dataset ??? No se si m'és necessari"
   ]
  },
  {
   "cell_type": "markdown",
   "id": "e3537d63",
   "metadata": {},
   "source": [
    "3. UniqueCarrier. Les diferents companyies que conformen les dades són:"
   ]
  },
  {
   "cell_type": "code",
   "execution_count": null,
   "id": "15bfcd65",
   "metadata": {},
   "outputs": [],
   "source": [
    "np.sort(delay_df['UniqueCarrier'].unique())"
   ]
  },
  {
   "cell_type": "markdown",
   "id": "e7e7e583",
   "metadata": {},
   "source": [
    "Aquest és el codi IATA (**I**nternational **A**ir **T**ransport **A**ssociation). Perquè quede més clar de quines companyies parlem, anem a incloure-les a la nostra dataframe a partir de la informació recabada de les següents pàgines webs.\n",
    "https://en.wikipedia.org/wiki/List_of_airline_codes\n",
    "\n",
    "https://aspm.faa.gov/aspmhelp/index/ASQP___Carrier_Codes_And_Names.html\n",
    "\n",
    "https://www.tvlon.com/resources/airlinecodes.htm\n",
    "\n",
    "Confeccionem un excel i l'apugem."
   ]
  },
  {
   "cell_type": "code",
   "execution_count": null,
   "id": "74d785a5",
   "metadata": {},
   "outputs": [],
   "source": [
    "file_name = 'UniqueCarrier.csv'\n",
    "file = data_path / file_name\n",
    "unique_carrier_df = pd.read_csv(file, sep = ';')"
   ]
  },
  {
   "cell_type": "code",
   "execution_count": null,
   "id": "607b3d9b",
   "metadata": {},
   "outputs": [],
   "source": [
    "unique_carrier_df.iloc[0:2]"
   ]
  },
  {
   "cell_type": "code",
   "execution_count": null,
   "id": "e8a903cb",
   "metadata": {},
   "outputs": [],
   "source": [
    "air_carrier_names = []\n",
    "for code in delay_df['UniqueCarrier']:\n",
    "    filter = unique_carrier_df['IATA Code'] == code\n",
    "    name = unique_carrier_df[filter]['Air Carrier Name']\n",
    "    try: \n",
    "        air_carrier_names.append(name.values[0])\n",
    "    except IndexError:\n",
    "        air_carrier_names.append(np.nan)"
   ]
  },
  {
   "cell_type": "code",
   "execution_count": null,
   "id": "5dd72bce",
   "metadata": {},
   "outputs": [],
   "source": [
    "delay_df['air_carrier_names'] = air_carrier_names"
   ]
  },
  {
   "cell_type": "markdown",
   "id": "62c57a88",
   "metadata": {},
   "source": [
    "4. NumTail"
   ]
  },
  {
   "cell_type": "code",
   "execution_count": null,
   "id": "b8118fa8",
   "metadata": {},
   "outputs": [],
   "source": [
    "print(delay_df['TailNum'].value_counts())\n",
    "print(len(delay_df['TailNum'].unique()))"
   ]
  },
  {
   "cell_type": "markdown",
   "id": "1a1bf15f-3a32-49bb-9123-0554aecdf58a",
   "metadata": {},
   "source": [
    "5. Quins són els trajectes més freqüents? Amb els camps d'origen i destí, crearem un nou, la ruta."
   ]
  },
  {
   "cell_type": "code",
   "execution_count": null,
   "id": "a548f6f2-7eb7-4843-86fa-1297b487dc9b",
   "metadata": {},
   "outputs": [],
   "source": [
    "delay_df['Route'] = delay_df['Origin'] + '-' + delay_df['Dest']"
   ]
  },
  {
   "cell_type": "code",
   "execution_count": null,
   "id": "7bce988f-88ea-43fa-bf5c-73a931a289e3",
   "metadata": {},
   "outputs": [],
   "source": [
    "delay_df['Route'].value_counts()"
   ]
  },
  {
   "cell_type": "markdown",
   "id": "5b68963f-2a40-4392-9d05-847347d232c4",
   "metadata": {},
   "source": [
    "Estes sigles corresponen al codi de la IATA i les podem traduir als aeroports per fer més fàcil reconèixer què rutes són, utilitzem aquesta relació dels codis:\n",
    "    \n",
    "https://datahub.io/core/airport-codes#resource-airport-codes"
   ]
  },
  {
   "cell_type": "code",
   "execution_count": null,
   "id": "2a197d2b-570d-47bc-84aa-5b38cc2e46ff",
   "metadata": {},
   "outputs": [],
   "source": [
    "file_name = 'airport-codes_csv.csv'\n",
    "file = data_path / file_name\n",
    "IATA_airport_df = pd.read_csv(file, sep = ',')"
   ]
  },
  {
   "cell_type": "code",
   "execution_count": null,
   "id": "2caca282-900f-4982-a4fb-8547d026768d",
   "metadata": {},
   "outputs": [],
   "source": [
    "IATA_airport_df"
   ]
  },
  {
   "cell_type": "code",
   "execution_count": null,
   "id": "87572331-58b4-4444-b124-08191a4923f6",
   "metadata": {},
   "outputs": [],
   "source": [
    "# airport_name = []\n",
    "# for code in delay_df['Origin']:\n",
    "#     search = IATA_airport_df['iata_code'] == code\n",
    "#     name = IATA_airport_df[search]['name']\n",
    "#     try: \n",
    "#         airport_name.append(name.values[0])\n",
    "#     except IndexError:\n",
    "#         airport_name.append(np.nan)\n",
    "        \n",
    "# delay_df['Origin_name'] = airport_name\n",
    "\n",
    "\n",
    "# airport_name = []\n",
    "# for code in delay_df['Dest']:\n",
    "#     search = IATA_airport_df['iata_code'] == code\n",
    "#     name = IATA_airport_df[search]['name']\n",
    "#     try: \n",
    "#         airport_name.append(name.values[0])\n",
    "#     except IndexError:\n",
    "#         airport_name.append(np.nan)\n",
    "        \n",
    "# delay_df['Dest_name'] = airport_name"
   ]
  },
  {
   "cell_type": "code",
   "execution_count": null,
   "id": "765116aa-d21a-4c98-a997-0e250e869311",
   "metadata": {},
   "outputs": [],
   "source": []
  },
  {
   "cell_type": "code",
   "execution_count": null,
   "id": "e8695a7e-951f-44dd-98e7-d0355ee49eea",
   "metadata": {},
   "outputs": [],
   "source": []
  },
  {
   "cell_type": "markdown",
   "id": "d21b6c7a-0d25-4019-95fb-29dff8e13f89",
   "metadata": {},
   "source": [
    "Tarda massa fer-ho per a tota la df, així que ho aplicarem directament als resultats"
   ]
  },
  {
   "cell_type": "code",
   "execution_count": null,
   "id": "b7d8bf81-041d-4f86-b42b-17e02de5d90c",
   "metadata": {},
   "outputs": [],
   "source": [
    "busiest_routes = delay_df['Route'].value_counts()"
   ]
  },
  {
   "cell_type": "code",
   "execution_count": null,
   "id": "ebffd8d2-2813-48bf-bd09-d24935f3812c",
   "metadata": {},
   "outputs": [],
   "source": [
    "busiest_routes"
   ]
  },
  {
   "cell_type": "code",
   "execution_count": null,
   "id": "48c9f6aa-a4cc-4e22-8689-0dc5a442578a",
   "metadata": {},
   "outputs": [],
   "source": [
    "busiest_routes.index[0:5]"
   ]
  },
  {
   "cell_type": "code",
   "execution_count": null,
   "id": "7c5569a0-f23f-4bd9-b84b-8ce80b7226cd",
   "metadata": {},
   "outputs": [],
   "source": [
    "len(delay_df[delay_df.Cancelled == 1])"
   ]
  },
  {
   "cell_type": "code",
   "execution_count": null,
   "id": "90e06fd3-e026-4e00-bac3-d26385e9c331",
   "metadata": {},
   "outputs": [],
   "source": [
    "busiest_routes_names = []\n",
    "length = 5\n",
    "\n",
    "for i in busiest_routes.index[0:length]:\n",
    "    print(i)\n",
    "    route_name = []\n",
    "    i = i.split('-')   \n",
    "    search = IATA_airport_df['iata_code'] == i[0] \n",
    "    origin = IATA_airport_df[search]['name'].values[0]\n",
    "    search = IATA_airport_df['iata_code'] == i[0] \n",
    "    dest = IATA_airport_df[search]['name'].values[0]\n",
    "    busiest_routes_names.append(origin + ' - ' + dest)"
   ]
  },
  {
   "cell_type": "code",
   "execution_count": null,
   "id": "18d76598-3152-4ab1-a432-31d26d2b87e2",
   "metadata": {},
   "outputs": [],
   "source": [
    "busiest_routes_names = []\n",
    "length = 5\n",
    "\n",
    "for i in range(length):\n",
    "    code = busiest_routes.index[i]\n",
    "    route_name = []\n",
    "    code = code.split('-')   \n",
    "    search = IATA_airport_df['iata_code'] == code[0] \n",
    "    origin = IATA_airport_df[search]['name'].values[0]\n",
    "    search = IATA_airport_df['iata_code'] == code[1] \n",
    "    dest = IATA_airport_df[search]['name'].values[0]\n",
    "    busiest_routes_names.append(origin + ' - ' + dest + ' (' + str(busiest_routes.values[i]) + ')')\n",
    "    "
   ]
  },
  {
   "cell_type": "code",
   "execution_count": null,
   "id": "c2b6293c-1373-4dbf-b831-675c047f9992",
   "metadata": {},
   "outputs": [],
   "source": [
    "busiest_routes_names"
   ]
  },
  {
   "cell_type": "markdown",
   "id": "13b22064-7217-4a3a-9233-a389b743a298",
   "metadata": {},
   "source": [
    "Ara pense que també han d'existir les rutes inverses, i les podriem intentar sumar? Per exemple, la primera ruta és.\n",
    "ORD-LGA. Per tant, ha d'exisir també la ruta LGA - ORD. Anem a buscar-lo.\n"
   ]
  },
  {
   "cell_type": "code",
   "execution_count": null,
   "id": "3b4e3589-c641-49ac-8d2a-4160ba0c2ba3",
   "metadata": {},
   "outputs": [],
   "source": [
    "search = delay_df['Route'] == 'LGA-ORD'\n",
    "delay_df['Route'][search]"
   ]
  },
  {
   "cell_type": "code",
   "execution_count": null,
   "id": "4b10659a-87a2-411f-aef4-dbd1a3472900",
   "metadata": {},
   "outputs": [],
   "source": [
    "len(delay_df['Route'][search])"
   ]
  },
  {
   "cell_type": "code",
   "execution_count": null,
   "id": "7df7361d-b90f-44d4-b46c-a56e2fd8c0fe",
   "metadata": {},
   "outputs": [],
   "source": [
    "route_preunique = delay_df['Route'].unique()\n",
    "route_unique = []\n",
    "\n",
    "for route in route_preunique:\n",
    "    route_inv = route.split('-')\n",
    "    route_inv = route_inv[1] + '-' + route_inv[0]\n",
    "    if (route not in route_unique and route_inv not in route_unique):\n",
    "        route_unique.append(route)"
   ]
  },
  {
   "cell_type": "code",
   "execution_count": null,
   "id": "624f7199-ff7c-494e-8add-fbb1389eca9d",
   "metadata": {},
   "outputs": [],
   "source": [
    "len(route_preunique)"
   ]
  },
  {
   "cell_type": "code",
   "execution_count": null,
   "id": "06b80e84-bb3e-434b-99c7-56478c2d24df",
   "metadata": {},
   "outputs": [],
   "source": [
    "len(route_unique)"
   ]
  },
  {
   "cell_type": "code",
   "execution_count": null,
   "id": "276efb83-10a8-4b03-b838-b8c150039006",
   "metadata": {},
   "outputs": [],
   "source": [
    "route_dict = {}\n",
    "for route in route_unique:\n",
    "    search = delay_df['Route'] == route\n",
    "    count = len(delay_df['Route'][search])\n",
    "    route = route.split('-')\n",
    "    route_2 = route[1] + '-' + route[0]\n",
    "    search = delay_df['Route'] == route_2\n",
    "    count += len(delay_df['Route'][search])\n",
    "    route_dict[route_2] = count"
   ]
  },
  {
   "cell_type": "code",
   "execution_count": null,
   "id": "1a9d2433-80bc-4106-b75a-2d40b1968fb7",
   "metadata": {},
   "outputs": [],
   "source": [
    "len(delay_df[delay_df.Cancelled == 1])"
   ]
  },
  {
   "cell_type": "code",
   "execution_count": null,
   "id": "ca4d8a94-6882-4f72-9aa2-7e1f28fe540a",
   "metadata": {},
   "outputs": [],
   "source": [
    "route_df = pd.DataFrame.from_dict(data=route_dict, orient='index', columns=['count'])"
   ]
  },
  {
   "cell_type": "code",
   "execution_count": null,
   "id": "0af6b08b-269e-49bb-a745-7e3cf847a480",
   "metadata": {},
   "outputs": [],
   "source": [
    "busiest_routes_2 = route_df.sort_values(by=['count'], ascending = False)"
   ]
  },
  {
   "cell_type": "code",
   "execution_count": null,
   "id": "efd6f8f4-2780-4b36-a267-bc159dda60f4",
   "metadata": {},
   "outputs": [],
   "source": [
    "busiest_routes_names_2 = []\n",
    "length = 10\n",
    "\n",
    "for i in range(length):\n",
    "    code = busiest_routes_2.index[i]\n",
    "    route_name = []\n",
    "    code = code.split('-')   \n",
    "    search = IATA_airport_df['iata_code'] == code[0] \n",
    "    origin = IATA_airport_df[search]['name'].values[0]\n",
    "    search = IATA_airport_df['iata_code'] == code[1] \n",
    "    dest = IATA_airport_df[search]['name'].values[0]\n",
    "    busiest_routes_names_2.append(origin + ' - ' + dest + ' (' + str(busiest_routes_2.values[i]) + ')')"
   ]
  },
  {
   "cell_type": "code",
   "execution_count": null,
   "id": "6037f71e-cd62-477c-84a3-279d3611fcd8",
   "metadata": {},
   "outputs": [],
   "source": [
    "busiest_routes_names_2"
   ]
  },
  {
   "cell_type": "markdown",
   "id": "fb27ae98-e688-4c6f-bd88-6a4086b5b060",
   "metadata": {},
   "source": [
    "6. Estudiem els endarreriments...:\n",
    "\n",
    "- Quin % de vols presenten endarreriments?\n",
    "- Classificació dels retards\n",
    "- Quines rutes tenen més endarreriments?\n",
    "- Quines línies?\n",
    "- Afecten a uns avions més que d'altres?\n"
   ]
  },
  {
   "cell_type": "markdown",
   "id": "4e86946e-94f0-40fd-8184-c4639f9517a9",
   "metadata": {
    "tags": []
   },
   "source": [
    "Creem una nova columna i classifiquem els endarreriments. Podem considerar que si arriba en menys de 15 minuts no hi ha hagut retard.\n",
    "\n",
    "Menys de 15 minuts: Sense retard\\\n",
    "Entre 15 y 30 minuts: Retard lleuger\\\n",
    "Entre 30 y 60 minuts: Retard moderat\\\n",
    "Més de 60 minuts: Gran retard\n",
    "\n",
    "Hi han dades NA, aquestes perquè ocorren? Poden ser vols que no hagen tingut endarreriment, s'hagin cancel·lat? Ens calen de nou les dades, reals d'arribada."
   ]
  },
  {
   "cell_type": "code",
   "execution_count": null,
   "id": "07f59be1-fa3d-4ae2-abd4-9faf75e5bef6",
   "metadata": {},
   "outputs": [],
   "source": [
    "delay_df[delay_df['ArrDelay'] > 15]"
   ]
  },
  {
   "cell_type": "code",
   "execution_count": null,
   "id": "95eb447a-f6a3-4f3a-a6b0-c5bd0a1ff366",
   "metadata": {},
   "outputs": [],
   "source": [
    "nan_delay = delay_df[np.isnan(delay_df['ArrDelay'])]\n",
    "nan_delay[np.isnan(nan_delay['ArrTime'])]"
   ]
  },
  {
   "cell_type": "code",
   "execution_count": null,
   "id": "ae80a20a-f25f-4eec-a82b-6e642871324a",
   "metadata": {},
   "outputs": [],
   "source": [
    "len(delay_df[delay_df.Cancelled == 1])"
   ]
  },
  {
   "cell_type": "markdown",
   "id": "145a1682-f56f-4599-a899-50234d221c86",
   "metadata": {},
   "source": [
    "Observem que la major part dels Nans es deuen a que falta l'hora d'arribada real, tot i que sí que hi han dades del retard en l'eixida. Així descartem els registres amb Nans."
   ]
  },
  {
   "cell_type": "code",
   "execution_count": null,
   "id": "3ccc7593-74c5-450a-b48c-a5457726b6aa",
   "metadata": {},
   "outputs": [],
   "source": [
    "delay_df_notna = delay_df[delay_df['ArrDelay'].notna()]"
   ]
  },
  {
   "cell_type": "code",
   "execution_count": null,
   "id": "2d6650fd-71c0-4bb7-8dd9-5efad60bc1e4",
   "metadata": {},
   "outputs": [],
   "source": [
    "len(delay_df[delay_df.Cancelled == 1])"
   ]
  },
  {
   "cell_type": "code",
   "execution_count": null,
   "id": "d0146416-86df-4825-9a1d-abf9abbf5047",
   "metadata": {},
   "outputs": [],
   "source": [
    "delay_df.loc[delay_df.ArrDelay < 15, 'ArrDelay_Class'] = 'Sense retard'\n",
    "delay_df.loc[(delay_df.ArrDelay >= 15) & (delay_df.ArrDelay < 30), 'ArrDelay_Class'] = 'Petit'\n",
    "delay_df.loc[(delay_df.ArrDelay >= 30) & (delay_df.ArrDelay < 60), 'ArrDelay_Class'] = 'Mitjà'\n",
    "delay_df.loc[delay_df.ArrDelay > 60, 'ArrDelay_Class'] = 'Gran'"
   ]
  },
  {
   "cell_type": "code",
   "execution_count": null,
   "id": "2e943b1a-21e0-4022-bfdb-5a4ec40e1c49",
   "metadata": {},
   "outputs": [],
   "source": [
    "delay_class_count = delay_df['ArrDelay_Class'].value_counts()[['Sense retard', 'Petit', 'Mitjà', 'Gran']] \n",
    "delay_class_count"
   ]
  },
  {
   "cell_type": "markdown",
   "id": "1b27c856-88e7-43fe-809b-71563924af92",
   "metadata": {},
   "source": [
    "Un 35 % dels vols no tenen retards i més d'un 20 % tenen retards superiors a l'hora"
   ]
  },
  {
   "cell_type": "code",
   "execution_count": null,
   "id": "ca9c36de-4307-4cc8-a00c-b0a2a5f5e7f0",
   "metadata": {},
   "outputs": [],
   "source": [
    "delay_class_count  / len(delay_df) * 100"
   ]
  },
  {
   "cell_type": "markdown",
   "id": "bbd715bb-c5dd-4cc9-9b15-82f59e439d80",
   "metadata": {},
   "source": [
    "- Retards classificats per aerolínia:"
   ]
  },
  {
   "cell_type": "code",
   "execution_count": null,
   "id": "b4a68ec3-507d-4635-bd0d-b36664cb47f0",
   "metadata": {},
   "outputs": [],
   "source": [
    "carrier_delay_dict = {}\n",
    "\n",
    "for carrier in delay_df['UniqueCarrier'].unique():\n",
    "    subset = delay_df[delay_df['UniqueCarrier'] == carrier]\n",
    "    delay_class_count = subset['ArrDelay_Class'].value_counts()[['Sense retard', 'Petit', 'Mitjà', 'Gran']] \n",
    "    carrier_delay_dict[carrier] = delay_class_count"
   ]
  },
  {
   "cell_type": "code",
   "execution_count": null,
   "id": "64f03030-81b8-4f7d-8980-b7280d70cc60",
   "metadata": {},
   "outputs": [],
   "source": [
    "carrier_delay_df = pd.DataFrame.from_dict(data=carrier_delay_dict, orient='index')"
   ]
  },
  {
   "cell_type": "code",
   "execution_count": null,
   "id": "4031f629-04c4-4d92-8a92-3f69fa3809d2",
   "metadata": {},
   "outputs": [],
   "source": [
    "carrier_delay_df['Total'] = carrier_delay_df['Sense retard'] + carrier_delay_df['Petit'] + carrier_delay_df['Mitjà'] + carrier_delay_df['Gran']"
   ]
  },
  {
   "cell_type": "code",
   "execution_count": null,
   "id": "79345ac3-ea78-4f2e-89cb-e29e3f12e420",
   "metadata": {},
   "outputs": [],
   "source": [
    "carrier_delay_df['Sense retard %'] = round(carrier_delay_df['Sense retard'] / carrier_delay_df['Total'] * 100, 1)\n",
    "carrier_delay_df['Petit %'] = round(carrier_delay_df['Petit'] / carrier_delay_df['Total'] * 100, 1)\n",
    "carrier_delay_df['Mitjà %'] = round(carrier_delay_df['Mitjà'] / carrier_delay_df['Total'] * 100, 1)\n",
    "carrier_delay_df['Gran %'] = round(carrier_delay_df['Gran'] / carrier_delay_df['Total'] * 100, 1)"
   ]
  },
  {
   "cell_type": "code",
   "execution_count": null,
   "id": "e651be98-a62d-4db3-a597-99b2ba1fc4e6",
   "metadata": {},
   "outputs": [],
   "source": [
    "carrier_delay_df.sort_values(by = 'Sense retard %', ascending = False)"
   ]
  },
  {
   "cell_type": "code",
   "execution_count": null,
   "id": "36d06240-32fe-4938-bc72-a5356d4b05db",
   "metadata": {},
   "outputs": [],
   "source": [
    "len(delay_df[delay_df.Cancelled == 1])"
   ]
  },
  {
   "cell_type": "markdown",
   "id": "bba2cde8-de6c-4d65-8c7e-ea2a4a09e35d",
   "metadata": {},
   "source": [
    "- Quines rutes tenen més retards?"
   ]
  },
  {
   "cell_type": "code",
   "execution_count": null,
   "id": "3024d97d-dc65-4410-875b-830e276825fc",
   "metadata": {},
   "outputs": [],
   "source": [
    "for route in route_unique:\n",
    "    delay_df.loc[delay_df.Route  == route, 'RouteUnique'] = route\n",
    "    route_split = route.split('-')\n",
    "    route_2 = route_split[1] + '-' + route_split[0]\n",
    "    delay_df.loc[delay_df.Route  == route_2, 'RouteUnique'] = route"
   ]
  },
  {
   "cell_type": "code",
   "execution_count": null,
   "id": "ed3485ea-0ef8-4424-a448-97b0d284923c",
   "metadata": {},
   "outputs": [],
   "source": []
  },
  {
   "cell_type": "code",
   "execution_count": null,
   "id": "eb25173d-cc77-4a6b-8b7c-f65354d0f840",
   "metadata": {},
   "outputs": [],
   "source": [
    "route_delay_dict = {}\n",
    "\n",
    "for route in route_unique:\n",
    "    subset = delay_df[delay_df['RouteUnique'] == route]\n",
    "    delay_class_count = subset['ArrDelay_Class'].value_counts()\n",
    "    route_delay_dict[route] = delay_class_count"
   ]
  },
  {
   "cell_type": "code",
   "execution_count": null,
   "id": "8d2fff8c-ebc0-48bd-9605-f1694cd311c6",
   "metadata": {},
   "outputs": [],
   "source": [
    "route_delay_df = pd.DataFrame.from_dict(data=route_delay_dict, orient='index')"
   ]
  },
  {
   "cell_type": "code",
   "execution_count": null,
   "id": "35d46cfb-aa38-4b22-9f10-54936c4c12b7",
   "metadata": {},
   "outputs": [],
   "source": [
    "route_delay_df['Total'] = route_delay_df['Sense retard'] + route_delay_df['Petit'] + route_delay_df['Mitjà'] + route_delay_df['Gran']"
   ]
  },
  {
   "cell_type": "code",
   "execution_count": null,
   "id": "07caa03f-a10c-4538-b729-be9a7d220be5",
   "metadata": {},
   "outputs": [],
   "source": [
    "route_delay_df['Sense retard %'] = round(route_delay_df['Sense retard'] / route_delay_df['Total'] * 100, 1)\n",
    "route_delay_df['Petit %'] = round(route_delay_df['Petit'] / route_delay_df['Total'] * 100, 1)\n",
    "route_delay_df['Mitjà %'] = round(route_delay_df['Mitjà'] / route_delay_df['Total'] * 100, 1)\n",
    "route_delay_df['Gran %'] = round(route_delay_df['Gran'] / route_delay_df['Total'] * 100, 1)"
   ]
  },
  {
   "cell_type": "markdown",
   "id": "5aee733c-4a92-4a12-8ecc-6d5ecbaa347d",
   "metadata": {},
   "source": []
  },
  {
   "cell_type": "code",
   "execution_count": null,
   "id": "92cdbee3-d8fd-4535-8b6c-72d9db3696c5",
   "metadata": {},
   "outputs": [],
   "source": [
    "route_delay_df.sort_values(by = 'Total', ascending = False)"
   ]
  },
  {
   "cell_type": "markdown",
   "id": "55b5086d-9cad-4264-896c-6206130de36b",
   "metadata": {},
   "source": [
    "Abans convé er algo amb els NaN, ja que afecta per a obtindre el valor Total"
   ]
  },
  {
   "cell_type": "code",
   "execution_count": null,
   "id": "1f68a248-c15e-4788-824e-a19967055239",
   "metadata": {},
   "outputs": [],
   "source": [
    "route_delay_df = route_delay_df.fillna(0)"
   ]
  },
  {
   "cell_type": "code",
   "execution_count": null,
   "id": "3e6a0e62-6ff2-44fd-972e-67218808c467",
   "metadata": {},
   "outputs": [],
   "source": [
    "route_delay_df['Total'] = route_delay_df['Sense retard'] + route_delay_df['Petit'] + route_delay_df['Mitjà'] + route_delay_df['Gran']"
   ]
  },
  {
   "cell_type": "code",
   "execution_count": null,
   "id": "18d816a8-df72-448e-8ad4-930955260d43",
   "metadata": {},
   "outputs": [],
   "source": [
    "route_delay_df['Sense retard %'] = round(route_delay_df['Sense retard'] / route_delay_df['Total'] * 100, 1)\n",
    "route_delay_df['Petit %'] = round(route_delay_df['Petit'] / route_delay_df['Total'] * 100, 1)\n",
    "route_delay_df['Mitjà %'] = round(route_delay_df['Mitjà'] / route_delay_df['Total'] * 100, 1)\n",
    "route_delay_df['Gran %'] = round(route_delay_df['Gran'] / route_delay_df['Total'] * 100, 1)"
   ]
  },
  {
   "cell_type": "code",
   "execution_count": null,
   "id": "5f114015-2d03-424d-9a3a-ecaf5376472f",
   "metadata": {},
   "outputs": [],
   "source": [
    "route_delay_df.sort_values(by = 'Total', ascending = False)"
   ]
  },
  {
   "cell_type": "code",
   "execution_count": null,
   "id": "338a4f01-05cf-4d54-b2fa-34c708762f6d",
   "metadata": {},
   "outputs": [],
   "source": [
    "route_delay_df.sort_values(by = 'Sense retard %', ascending = False)"
   ]
  },
  {
   "cell_type": "markdown",
   "id": "b1c2bb0e-3e81-4e99-93ad-19f5dbca8983",
   "metadata": {},
   "source": [
    "I anem a excloure les rutes que tenen pocs viatge (Per davall del percentil 5)."
   ]
  },
  {
   "cell_type": "code",
   "execution_count": null,
   "id": "59f3f872-0e79-4c8d-9eff-27a08db7e4bd",
   "metadata": {},
   "outputs": [],
   "source": [
    "route_delay_df.Total.quantile(0.1)\n",
    "\n",
    "route_delay_df_q01 = route_delay_df[route_delay_df.Total >= route_delay_df.Total.quantile(0.1)]"
   ]
  },
  {
   "cell_type": "code",
   "execution_count": null,
   "id": "a821aaa0-0d6d-46f1-8e87-ff1b8d336eb9",
   "metadata": {},
   "outputs": [],
   "source": [
    "route_delay_df_q01.sort_values(by = 'Sense retard %', ascending = False)"
   ]
  },
  {
   "cell_type": "markdown",
   "id": "b9e3f2b7-5d4c-4918-8661-0a441efc1ca9",
   "metadata": {},
   "source": [
    "- Motius principals dels retards. Cercarem per cada vol, quin ha sigut el motiu més important del retard"
   ]
  },
  {
   "cell_type": "code",
   "execution_count": null,
   "id": "30a6042e-0acc-4122-b819-cedb113e698d",
   "metadata": {},
   "outputs": [],
   "source": [
    "delay_df"
   ]
  },
  {
   "cell_type": "code",
   "execution_count": null,
   "id": "d0a3c8bf-5c8a-449a-97bf-e9925be1aca7",
   "metadata": {},
   "outputs": [],
   "source": [
    "t = [False, False, False, False, True, True, False, True, False, False, False, False, False, False, False, False]\n",
    "[i for i, x in enumerate(t) if x]\n",
    "[4, 5, 7]"
   ]
  },
  {
   "cell_type": "code",
   "execution_count": null,
   "id": "5da2ea18-36b5-4453-be5d-e245b68067c8",
   "metadata": {},
   "outputs": [],
   "source": [
    "columns_req = ['CarrierDelay', 'WeatherDelay', 'NASDelay', 'SecurityDelay', 'LateAircraftDelay']\n",
    "col_req_index = []\n",
    "\n",
    "for column in columns_req:\n",
    "    lst = delay_df.columns == column\n",
    "    col_req_index.append([i for i, x in enumerate(lst) if x][0])"
   ]
  },
  {
   "cell_type": "code",
   "execution_count": null,
   "id": "c1b8b637-696a-4dc9-9c48-c94dc2a6bf19",
   "metadata": {},
   "outputs": [],
   "source": [
    "col_req_index "
   ]
  },
  {
   "cell_type": "code",
   "execution_count": null,
   "id": "6e5d42fa-4e5f-4c63-9635-752b0a63fb6a",
   "metadata": {},
   "outputs": [],
   "source": [
    "col_extract = []\n",
    "for item in col_req_index:\n",
    "    col_extract.append(flight[item])"
   ]
  },
  {
   "cell_type": "code",
   "execution_count": null,
   "id": "826f6f8f-660b-4e5c-b9d4-994d4e07b790",
   "metadata": {},
   "outputs": [],
   "source": [
    "main_reason_delay = []\n",
    "for flight in delay_df.iterrows():\n",
    "    min_delays = []\n",
    "    for item in col_req_index:\n",
    "        min_delays.append(flight[1][item])\n",
    "    print(min_delays)\n",
    "    max_index = []\n",
    "    max_value = min_delays[0]\n",
    "    for i, val in ((i, val) for i, val in enumerate(min_delays) if val >= max_value):\n",
    "        if val == max_value:\n",
    "            max_index.append(i)\n",
    "        else:\n",
    "            max_val = val\n",
    "            max_index = [i]\n",
    "    print(max_index)\n",
    "    print('---')\n",
    "    main_reason_delay.append(max_index)"
   ]
  },
  {
   "cell_type": "code",
   "execution_count": null,
   "id": "9ef820e1-a2aa-4e66-8780-bf23a53e5c5d",
   "metadata": {},
   "outputs": [],
   "source": [
    "main_reason_delay"
   ]
  },
  {
   "cell_type": "code",
   "execution_count": null,
   "id": "66f5bc2b-e0ea-401d-8c44-a85a1d23840e",
   "metadata": {},
   "outputs": [],
   "source": [
    "\n",
    "\n",
    "max_indices = []\n",
    "if seq:\n",
    "    max_val = seq[0]\n",
    "    for i,val in ((i,val) for i,val in enumerate(seq) if val >= max_val):\n",
    "        if val == max_val:\n",
    "            max_indices.append(i)\n",
    "        else:\n",
    "            max_val = val\n",
    "            max_indices = [i]\n",
    "            \n",
    "            "
   ]
  },
  {
   "cell_type": "markdown",
   "id": "2003e0d9-5f4a-4df5-aa5c-74d4e7f3a6eb",
   "metadata": {},
   "source": [
    "- Quina és la velocitat mitjana dels trajectes?"
   ]
  },
  {
   "cell_type": "code",
   "execution_count": null,
   "id": "143189d0-999e-4dd0-9ee4-02b793570945",
   "metadata": {},
   "outputs": [],
   "source": [
    "delay_df['MeanSpeed'] = round((delay_df['Distance'] / delay_df['AirTime']) * (1.609344 * 60), 1)"
   ]
  },
  {
   "cell_type": "code",
   "execution_count": null,
   "id": "7e57d985-2ee9-49e5-a8aa-fb2d58d3aff8",
   "metadata": {},
   "outputs": [],
   "source": []
  },
  {
   "cell_type": "code",
   "execution_count": null,
   "id": "52ae6e28-7d91-4a20-899f-f2aecc0f00cf",
   "metadata": {},
   "outputs": [],
   "source": [
    "delay_df"
   ]
  },
  {
   "cell_type": "markdown",
   "id": "393d7e77-5f95-479e-b9b3-46027c6d4eb6",
   "metadata": {},
   "source": [
    "- Quin és el percentatge i el motiu principal de cancel·lació? (A = Aerolinia; B = Temps; C = Retards en el Sistema d'espai aeri nacional que inclou condicions meteorologiques no extremes, operacions en l'aeroport, alt volum de tràfic, etc...; D = Seguretat)"
   ]
  },
  {
   "cell_type": "code",
   "execution_count": null,
   "id": "5eb1d846-e1d5-4392-beb6-94142fcde3c9",
   "metadata": {},
   "outputs": [],
   "source": [
    "(len(delay_df[delay_df.Cancelled == 1]) / len(delay_df))*100"
   ]
  },
  {
   "cell_type": "code",
   "execution_count": null,
   "id": "dfbc61d7-8bb9-4fa5-b087-221492b6493c",
   "metadata": {},
   "outputs": [],
   "source": []
  },
  {
   "cell_type": "code",
   "execution_count": null,
   "id": "9a9a3f37-4cb5-4838-ba6a-9a17d42a2d68",
   "metadata": {},
   "outputs": [],
   "source": [
    "cancod_delay_df = delay_df[delay_df.CancellationCode != 'N']['CancellationCode']"
   ]
  },
  {
   "cell_type": "code",
   "execution_count": null,
   "id": "465efebb-d7a3-4d6e-a181-442eeecedae8",
   "metadata": {},
   "outputs": [],
   "source": [
    "round(cancod_delay_df.value_counts() / len(cancod_delay_df)*100, 1)"
   ]
  },
  {
   "cell_type": "code",
   "execution_count": null,
   "id": "8fd4c9b3-5284-421a-b8e6-f57a54c1cb13",
   "metadata": {},
   "outputs": [],
   "source": []
  },
  {
   "cell_type": "code",
   "execution_count": null,
   "id": "2c2089a9-da99-4c10-a4c6-a028c042f62e",
   "metadata": {},
   "outputs": [],
   "source": []
  },
  {
   "cell_type": "code",
   "execution_count": null,
   "id": "578a3c55-812e-4d0d-930d-297833083fc8",
   "metadata": {},
   "outputs": [],
   "source": []
  },
  {
   "cell_type": "code",
   "execution_count": null,
   "id": "920363d4-e3fb-48f7-91b4-669b6144eef3",
   "metadata": {},
   "outputs": [],
   "source": [
    "delay_df['Cancelled'].sort_values(ascending = False)"
   ]
  },
  {
   "cell_type": "code",
   "execution_count": null,
   "id": "04106cd4-f2b7-4d5b-b745-fd73ea3367c2",
   "metadata": {},
   "outputs": [],
   "source": [
    "len(delay_df[delay_df.Cancelled == 1])"
   ]
  },
  {
   "cell_type": "code",
   "execution_count": null,
   "id": "bf5d6443-c361-4b7f-9c68-05a644bd2e1b",
   "metadata": {},
   "outputs": [],
   "source": [
    "len(delay_df[delay_df.Cancelled == 1]) / len(delay_df)"
   ]
  },
  {
   "cell_type": "code",
   "execution_count": null,
   "id": "c51a73fa-8660-4471-b38d-51ea163f1474",
   "metadata": {},
   "outputs": [],
   "source": []
  }
 ],
 "metadata": {
  "kernelspec": {
   "display_name": "Python 3 (ipykernel)",
   "language": "python",
   "name": "python3"
  },
  "language_info": {
   "codemirror_mode": {
    "name": "ipython",
    "version": 3
   },
   "file_extension": ".py",
   "mimetype": "text/x-python",
   "name": "python",
   "nbconvert_exporter": "python",
   "pygments_lexer": "ipython3",
   "version": "3.9.7"
  }
 },
 "nbformat": 4,
 "nbformat_minor": 5
}
