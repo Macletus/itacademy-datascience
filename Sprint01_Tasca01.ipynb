{
 "cells": [
  {
   "cell_type": "code",
   "execution_count": 1,
   "id": "d3b8d08f-0c0c-47f6-8976-e8bd1c21fd9d",
   "metadata": {},
   "outputs": [
    {
     "name": "stdout",
     "output_type": "stream",
     "text": [
      "<mysql.connector.connection.MySQLConnection object at 0x000001658ADCEBB0>\n"
     ]
    }
   ],
   "source": [
    "import mysql.connector\n",
    "\n",
    "mydb = mysql.connector.connect(\n",
    "  host='localhost',\n",
    "  user='root',\n",
    "  password='ItAcademy383',\n",
    "  database='movies' \n",
    ")\n",
    "\n",
    "print(mydb)"
   ]
  },
  {
   "cell_type": "code",
   "execution_count": 2,
   "id": "86a7d063-baa7-418a-8e1f-73330a2df7b0",
   "metadata": {},
   "outputs": [
    {
     "data": {
      "text/plain": [
       "<mysql.connector.connection.MySQLConnection at 0x1658adcebb0>"
      ]
     },
     "execution_count": 2,
     "metadata": {},
     "output_type": "execute_result"
    }
   ],
   "source": [
    "mydb"
   ]
  },
  {
   "cell_type": "code",
   "execution_count": 3,
   "id": "17273677-4610-49f6-9b0d-6ae0ce1f7d88",
   "metadata": {},
   "outputs": [],
   "source": [
    "cursor = mydb.cursor()"
   ]
  },
  {
   "cell_type": "markdown",
   "id": "83c90a52-3d6c-48c5-9e16-7656348cabce",
   "metadata": {},
   "source": [
    "**Exercici 2**"
   ]
  },
  {
   "cell_type": "code",
   "execution_count": 4,
   "id": "eaf453d9-ccfa-4373-9cd5-8d6e60979d30",
   "metadata": {},
   "outputs": [
    {
     "name": "stdout",
     "output_type": "stream",
     "text": [
      "('John Williams', 'United States', datetime.date(1928, 8, 8))\n",
      "('Vera Miles', 'United States', datetime.date(1929, 8, 23))\n",
      "('Sean Connery', 'Scotland', datetime.date(1930, 7, 8))\n",
      "('Robert Duvall', 'United States', datetime.date(1931, 1, 5))\n",
      "('Morgan Freeman', 'United States', datetime.date(1935, 10, 1))\n",
      "('Francis Ford Coppola', 'United States', datetime.date(1939, 4, 7))\n",
      "('Gary Kurtz', 'United States', datetime.date(1940, 7, 27))\n",
      "('Martin Sheen', 'United States', datetime.date(1940, 8, 3))\n",
      "('Harrison Ford', 'United States', datetime.date(1942, 7, 13))\n",
      "('George Lucas', 'United States', datetime.date(1944, 5, 14))\n",
      "('Carmine Coppola', 'United States', datetime.date(1945, 7, 8))\n",
      "('Steven Spielberg', 'United States', datetime.date(1946, 12, 18))\n",
      "('Tim Robbins', 'United States', datetime.date(1949, 6, 7))\n",
      "('Mel Gibson', 'Australia', datetime.date(1950, 8, 9))\n",
      "('Tom Hanks', 'United States', datetime.date(1956, 7, 9))\n",
      "('Emilio Martinez Lazaro', 'Spain', datetime.date(1956, 9, 9))\n",
      "('Karra Elejalde', 'Spain', datetime.date(1960, 3, 6))\n",
      "('Emilio Estevez', 'United States', datetime.date(1962, 5, 12))\n",
      "('Ramón Estevez', 'United States', datetime.date(1963, 8, 7))\n",
      "('Carmen Machi', 'Spain', datetime.date(1964, 8, 9))\n",
      "('Charlie Sheen', 'United States', datetime.date(1965, 9, 3))\n",
      "('Reneé Estevez', 'United States', datetime.date(1967, 4, 2))\n",
      "('Catherine Zeta-Jones', 'Wales', datetime.date(1969, 9, 25))\n",
      "('Robert Alamo', 'Spain', datetime.date(1970, 5, 6))\n",
      "('Daniel Sanchez Arevalo', 'Spain', datetime.date(1970, 6, 8))\n",
      "('Quim Gutierrez', 'Spain', datetime.date(1981, 3, 27))\n",
      "('Veronica Echegui', 'Spain', datetime.date(1983, 3, 14))\n",
      "('Taylor Levi Estevez', 'United States', datetime.date(1984, 6, 22))\n",
      "('Dani Rovira', 'Spain', datetime.date(1984, 7, 1))\n",
      "('Paula Speert Sheen', 'United States', datetime.date(1986, 1, 6))\n",
      "('Paloma Rae Estevez', 'United States', datetime.date(1986, 2, 15))\n",
      "('Clara Lago', 'Spain', datetime.date(1986, 4, 17))\n",
      "('Patrick Criado', 'Spain', datetime.date(1995, 9, 23))\n",
      "('Paula Jones-Sheen', 'United States', datetime.date(2003, 7, 6))\n",
      "('Sam Sheen', 'United States', datetime.date(2004, 3, 9))\n",
      "('Lola Sheen', 'United States', datetime.date(2005, 6, 1))\n",
      "('Bob Sheen', 'United States', datetime.date(2009, 5, 1))\n",
      "('Max Sheen', 'United States', datetime.date(2009, 5, 1))\n"
     ]
    }
   ],
   "source": [
    "# Exercici 2\n",
    "query = \"\"\"\n",
    "SELECT person_name, person_country, person_dob FROM tb_person\n",
    "WHERE person_dod is NULL\n",
    "ORDER BY person_dob\n",
    "\"\"\"\n",
    "cursor.execute(query)\n",
    "rows = cursor.fetchall()\n",
    "for row in rows:\n",
    "    print(row)"
   ]
  },
  {
   "cell_type": "markdown",
   "id": "f976f412-8d94-45aa-a7ce-8b2e2c52028c",
   "metadata": {},
   "source": [
    "**Exercici 3**\n",
    "\n",
    "Has d'obtenir el nom del gènere i el nombre total de pel·lícules d'aquest gènere i ordenar-ho per ordre descendent de nombre total de pel·lícules.  "
   ]
  },
  {
   "cell_type": "code",
   "execution_count": 5,
   "id": "11fcaadf-de29-4777-99ab-bbdad9ef2b34",
   "metadata": {},
   "outputs": [
    {
     "name": "stdout",
     "output_type": "stream",
     "text": [
      "('Comedia', 3)\n",
      "('Acción', 2)\n",
      "('Ciencia Ficción', 2)\n",
      "('Drama', 2)\n",
      "('Romance', 2)\n",
      "('Suspense', 2)\n",
      "('Fantasía', 1)\n",
      "('Terror', 1)\n",
      "('Bélico', 1)\n",
      "('Melodrama', 0)\n",
      "('Musical', 0)\n"
     ]
    }
   ],
   "source": [
    "query = \"\"\"\n",
    "SELECT genre_name, COUNT(tb_movie.movie_id) as num_movies\n",
    "FROM tb_genre\n",
    "LEFT JOIN tb_movie ON tb_genre.genre_id = tb_movie.movie_genre_id\n",
    "GROUP BY genre_name\n",
    "ORDER BY num_movies DESC\n",
    "\"\"\"\n",
    "cursor.execute(query)\n",
    "rows = cursor.fetchall()\n",
    "for row in rows:\n",
    "    print(row)"
   ]
  },
  {
   "cell_type": "markdown",
   "id": "694093cf-a403-4a03-a745-a0064e5dd217",
   "metadata": {},
   "source": [
    "**Exercici 4**\n",
    "Has d'obtenir, per a cada persona, el seu nom i el nombre màxim de rols diferents que ha tingut en una mateixa pel·lícula. \n",
    "\n",
    "Posteriorment, mostra únicament aquelles persones que hagin assumit més d'un rol en una mateixa pel·lícula."
   ]
  },
  {
   "cell_type": "code",
   "execution_count": 6,
   "id": "a762a08e-3f00-4198-8827-eafb381d7bfb",
   "metadata": {},
   "outputs": [
    {
     "name": "stdout",
     "output_type": "stream",
     "text": [
      "('Francis Ford Coppola', 3)\n",
      "('Carmine Coppola', 1)\n",
      "('Marlon Brando', 1)\n",
      "('Robert Duvall', 1)\n",
      "('Martin Sheen', 1)\n",
      "('Harrison Ford', 3)\n",
      "('George Lucas', 3)\n",
      "('Gary Kurtz', 1)\n",
      "('Steven Spielberg', 5)\n",
      "('John Williams', 1)\n",
      "('Tom Hanks', 1)\n",
      "('Catherine Zeta-Jones', 1)\n",
      "('Alfred Joseph Hitchcock', 3)\n",
      "('Anthony Perkins', 1)\n",
      "('Vera Miles', 1)\n",
      "('Emilio Martinez Lazaro', 3)\n",
      "('Dani Rovira', 2)\n",
      "('Clara Lago', 2)\n",
      "('Carmen Machi', 2)\n",
      "('Karra Elejalde', 2)\n",
      "('Daniel Sanchez Arevalo', 2)\n",
      "('Quim Gutierrez', 1)\n",
      "('Robert Alamo', 1)\n",
      "('Hector Colome', 1)\n",
      "('Veronica Echegui', 1)\n",
      "('Patrick Criado', 1)\n",
      "('Sean Connery', 1)\n",
      "('Mel Gibson', 2)\n",
      "('Morgan Freeman', 1)\n",
      "('Tim Robbins', 1)\n",
      "('Charlie Sheen', 1)\n",
      "('Emilio Estevez', 1)\n",
      "('Ramón Estevez', 1)\n",
      "('Reneé Estevez', 1)\n",
      "('Paula Speert Sheen', 1)\n",
      "('Bob Sheen', 1)\n",
      "('Max Sheen', 1)\n",
      "('Sam Sheen', 1)\n",
      "('Lola Sheen', 1)\n",
      "('Paula Jones-Sheen', 1)\n",
      "('Paloma Rae Estevez', 1)\n",
      "('Taylor Levi Estevez', 1)\n"
     ]
    }
   ],
   "source": [
    "query = \"\"\"\n",
    "SELECT person_name, COUNT(tb_person.person_name) as max_roles\n",
    "FROM tb_person\n",
    "LEFT JOIN tb_movie_person ON tb_person.person_id = tb_movie_person.person_id\n",
    "GROUP BY person_name\n",
    "\n",
    "\n",
    "\"\"\"\n",
    "cursor.execute(query)\n",
    "rows = cursor.fetchall()\n",
    "for row in rows:\n",
    "    print(row)"
   ]
  },
  {
   "cell_type": "code",
   "execution_count": 7,
   "id": "026a16a5-6a0a-4e28-ae89-9fae64a5b2bd",
   "metadata": {},
   "outputs": [
    {
     "name": "stdout",
     "output_type": "stream",
     "text": [
      "('Francis Ford Coppola', 3)\n",
      "('Harrison Ford', 3)\n",
      "('George Lucas', 3)\n",
      "('Steven Spielberg', 5)\n",
      "('Alfred Joseph Hitchcock', 3)\n",
      "('Emilio Martinez Lazaro', 3)\n",
      "('Dani Rovira', 2)\n",
      "('Clara Lago', 2)\n",
      "('Carmen Machi', 2)\n",
      "('Karra Elejalde', 2)\n",
      "('Daniel Sanchez Arevalo', 2)\n",
      "('Mel Gibson', 2)\n"
     ]
    }
   ],
   "source": [
    "query = \"\"\"\n",
    "SELECT person_name, COUNT(tb_person.person_name) as max_roles\n",
    "FROM tb_person\n",
    "LEFT JOIN tb_movie_person ON tb_person.person_id = tb_movie_person.person_id\n",
    "GROUP BY person_name\n",
    "HAVING COUNT(tb_person.person_name) > 1\n",
    "\n",
    "\n",
    "\"\"\"\n",
    "cursor.execute(query)\n",
    "rows = cursor.fetchall()\n",
    "for row in rows:\n",
    "    print(row)"
   ]
  },
  {
   "cell_type": "markdown",
   "id": "f35bc0b5-33f5-4af6-9cf9-fc689948fd44",
   "metadata": {},
   "source": [
    "**Exercici 5**\n",
    "\n",
    "Has de crear un nou gènere anomenat \"Documental\" el qual tingui com a identificador el nombre 69."
   ]
  },
  {
   "cell_type": "code",
   "execution_count": 20,
   "id": "8cde9952-c4c8-4fe1-a284-b4934c43f5b0",
   "metadata": {},
   "outputs": [],
   "source": [
    "query = \"\"\"\n",
    "INSERT INTO tb_genre (genre_id, genre_name)\n",
    "VALUES (69, 'Documental');\n",
    "\n",
    "\n",
    "\"\"\"\n",
    "cursor.execute(query)"
   ]
  },
  {
   "cell_type": "code",
   "execution_count": 21,
   "id": "259ea3e4-a816-4015-a5de-50ccf65e3c3b",
   "metadata": {},
   "outputs": [
    {
     "name": "stdout",
     "output_type": "stream",
     "text": [
      "(1, 'Acción')\n",
      "(2, 'Ciencia Ficción')\n",
      "(3, 'Comedia')\n",
      "(4, 'Drama')\n",
      "(5, 'Fantasía')\n",
      "(6, 'Melodrama')\n",
      "(7, 'Musical')\n",
      "(8, 'Romance')\n",
      "(9, 'Suspense')\n",
      "(10, 'Terror')\n",
      "(11, 'Bélico')\n",
      "(69, 'Documental')\n"
     ]
    }
   ],
   "source": [
    "query = \"\"\"\n",
    "Select genre_id, genre_name\n",
    "From tb_genre\n",
    "\n",
    "\n",
    "\"\"\"\n",
    "cursor.execute(query)\n",
    "rows = cursor.fetchall()\n",
    "for row in rows:\n",
    "    print(row)"
   ]
  },
  {
   "cell_type": "markdown",
   "id": "6bf73e23-df17-49b9-8bef-063fb22f861e",
   "metadata": {},
   "source": [
    "**Exercici 6**\n",
    "\n",
    "Elimina la pel·lícula \"La Gran Familia Española\" de la base de dades."
   ]
  },
  {
   "cell_type": "code",
   "execution_count": 14,
   "id": "9e4268b7-5766-41b1-aca3-37b48131ab18",
   "metadata": {},
   "outputs": [],
   "source": [
    "query = \"\"\"\n",
    "DELETE FROM tb_movie_person\n",
    "WHERE movie_id = 11;\n",
    "\"\"\"\n",
    "cursor.execute(query)\n",
    "\n",
    "query = \"\"\"\n",
    "DELETE FROM tb_movie\n",
    "WHERE movie_title = \"La Gran Familia Española\";\n",
    "\"\"\"\n",
    "cursor.execute(query)"
   ]
  },
  {
   "cell_type": "code",
   "execution_count": 15,
   "id": "b325a070-b856-4566-9419-7d9993e55b66",
   "metadata": {},
   "outputs": [
    {
     "name": "stdout",
     "output_type": "stream",
     "text": [
      "('Apocalypse Now',)\n",
      "('Star Wars:Episode IV - A New Hope',)\n",
      "('Indiana Jones and the Temple of Doom',)\n",
      "('The Terminal',)\n",
      "('Jaws',)\n",
      "('ET The Extraterrestrial',)\n",
      "('Psycho',)\n",
      "('Ocho Apellidos Vascos',)\n",
      "('Ocho Apellidos Catalanes',)\n",
      "('El otro lado de la cama',)\n",
      "('El dia de la bestia',)\n",
      "('Braveheart',)\n",
      "('The Shawshank Redemption',)\n",
      "('Las brujas de Zugarramurdi',)\n",
      "('Blade Runner',)\n"
     ]
    }
   ],
   "source": [
    "query = \"\"\"\n",
    "Select movie_title\n",
    "From tb_movie\n",
    "\n",
    "\n",
    "\"\"\"\n",
    "cursor.execute(query)\n",
    "rows = cursor.fetchall()\n",
    "for row in rows:\n",
    "    print(row)"
   ]
  },
  {
   "cell_type": "markdown",
   "id": "755bb496-f5c6-498d-baea-d4510e1283e9",
   "metadata": {},
   "source": [
    "**Exercici 7**\n",
    "\n",
    "Canvia el gènere de la pel·lícula \"Ocho apellidos catalanes\" perquè consti com a comèdia i no com a romàntica."
   ]
  },
  {
   "cell_type": "code",
   "execution_count": 17,
   "id": "4463f489-3115-4c4d-b7b6-6a9fae9bd305",
   "metadata": {},
   "outputs": [],
   "source": [
    "query = \"\"\"\n",
    "UPDATE tb_movie\n",
    "SET movie_genre_id = 3\n",
    "WHERE movie_title = 'Ocho apellidos catalanes';\n",
    "\"\"\"\n",
    "cursor.execute(query)\n"
   ]
  },
  {
   "cell_type": "code",
   "execution_count": 18,
   "id": "976a6513-b48b-44c3-89c5-9604e71bc7ed",
   "metadata": {},
   "outputs": [
    {
     "name": "stdout",
     "output_type": "stream",
     "text": [
      "('Apocalypse Now', 11, 'Bélico')\n",
      "('Star Wars:Episode IV - A New Hope', 2, 'Ciencia Ficción')\n",
      "('Indiana Jones and the Temple of Doom', 1, 'Acción')\n",
      "('The Terminal', 3, 'Comedia')\n",
      "('Jaws', 10, 'Terror')\n",
      "('ET The Extraterrestrial', 5, 'Fantasía')\n",
      "('Psycho', 9, 'Suspense')\n",
      "('Ocho Apellidos Vascos', 3, 'Comedia')\n",
      "('Ocho Apellidos Catalanes', 3, 'Comedia')\n",
      "('El otro lado de la cama', 8, 'Romance')\n",
      "('El dia de la bestia', 1, 'Acción')\n",
      "('Braveheart', 4, 'Drama')\n",
      "('The Shawshank Redemption', 4, 'Drama')\n",
      "('Las brujas de Zugarramurdi', 9, 'Suspense')\n",
      "('Blade Runner', 2, 'Ciencia Ficción')\n"
     ]
    }
   ],
   "source": [
    "query = \"\"\"\n",
    "Select movie_title, genre_id, genre_name\n",
    "From tb_movie\n",
    "LEFT JOIN tb_genre ON tb_movie.movie_genre_id = tb_genre.genre_id\n",
    "\n",
    "\n",
    "\"\"\"\n",
    "cursor.execute(query)\n",
    "rows = cursor.fetchall()\n",
    "for row in rows:\n",
    "    print(row)"
   ]
  },
  {
   "cell_type": "code",
   "execution_count": null,
   "id": "67ace64a-16c9-477f-afc8-99f5137d657e",
   "metadata": {},
   "outputs": [],
   "source": []
  }
 ],
 "metadata": {
  "kernelspec": {
   "display_name": "Python 3 (ipykernel)",
   "language": "python",
   "name": "python3"
  },
  "language_info": {
   "codemirror_mode": {
    "name": "ipython",
    "version": 3
   },
   "file_extension": ".py",
   "mimetype": "text/x-python",
   "name": "python",
   "nbconvert_exporter": "python",
   "pygments_lexer": "ipython3",
   "version": "3.9.7"
  }
 },
 "nbformat": 4,
 "nbformat_minor": 5
}
