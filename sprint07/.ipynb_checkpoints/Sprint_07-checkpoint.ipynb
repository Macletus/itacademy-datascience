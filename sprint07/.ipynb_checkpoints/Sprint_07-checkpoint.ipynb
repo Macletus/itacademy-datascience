{
 "cells": [
  {
   "cell_type": "markdown",
   "id": "a424f79e-430c-458b-9ab4-c494cca92438",
   "metadata": {},
   "source": [
    "<h1><center>Sprint 7</center></h1>\n",
    "<h2><center>Tasca 1: Algoritmes d’aprenentatge supervisat: Classificació.</center></h2>"
   ]
  },
  {
   "cell_type": "code",
   "execution_count": null,
   "id": "7ad8520a-14b7-4627-9799-9df605500fcb",
   "metadata": {},
   "outputs": [],
   "source": [
    "# Packages\n",
    "from pathlib import Path\n",
    "import numpy as np\n",
    "import pandas as pd\n",
    "from scipy import stats\n",
    "import math\n",
    "import seaborn as sns\n",
    "import matplotlib\n",
    "import matplotlib.pyplot as plt\n",
    "import itertools\n",
    "import warnings\n",
    "\n",
    "from sklearn.model_selection import train_test_split\n",
    "from sklearn.tree import DecisionTreeClassifier\n",
    "from sklearn import tree\n",
    "from sklearn.preprocessing import MinMaxScaler\n",
    "from sklearn.neighbors import KNeighborsClassifier\n",
    "from sklearn.metrics import f1_score, confusion_matrix, log_loss\n",
    "from sklearn.metrics import precision_recall_fscore_support, accuracy_score, classification_report\n",
    "from sklearn.model_selection import cross_validate"
   ]
  },
  {
   "cell_type": "code",
   "execution_count": null,
   "id": "56ec987c-c908-4b11-96fb-49bfa6538008",
   "metadata": {},
   "outputs": [],
   "source": [
    "# file paths\n",
    "data_path = 'D:/Sistema_Solar/Python/itacademy/sprint07/data/'\n",
    "data_path = Path(data_path)"
   ]
  },
  {
   "cell_type": "markdown",
   "id": "75783aa9-8649-4f0a-bddd-4ac10a68765b",
   "metadata": {
    "tags": []
   },
   "source": [
    "- Exercici 1\n",
    "Crea almenys dos models de classificació diferents per intentar predir el millor les classes de l'arxiu adjunt.\n",
    "\n",
    "\n",
    "\n",
    "- Exercici 2\n",
    "Compara els models de classificació utilitzant la precisió (accuracy), una matriu de confusió i d’altres mètriques més avançades.\n",
    "\n",
    "\n",
    "\n",
    "- Exercici 3\n",
    "Entrena’ls usant els diferents paràmetres que admeten per tal de millorar-ne la predicció.\n",
    "\n",
    "\n",
    "\n",
    "- Exercici 4\n",
    "Compara el seu rendiment fent servir l’aproximació traint/test o cross-validation.\n",
    "\n",
    "\n",
    "\n",
    "- Exercici 5\n",
    "Aplica algun procés d'enginyeria per millorar els resultats (normalització, estandardització, mostreig...)\n",
    "\n",
    "\n",
    "\n",
    "**_Es realitzen els diferents exercicis de manera conjunta per a cada tipus de model aplicat_**"
   ]
  },
  {
   "cell_type": "code",
   "execution_count": null,
   "id": "a61bc34b-643d-4fbb-8d6f-e00cff14b69a",
   "metadata": {},
   "outputs": [],
   "source": [
    "# Apugem l'arxiu csv\n",
    "file_name = 'wineData.txt'\n",
    "file = data_path / file_name\n",
    "wines = pd.read_csv(file, sep=',', header=None, encoding=\"ISO-8859-1\")\n",
    "\n",
    "# Afegim els noms de les columnes\n",
    "colnames = ['Class', 'Alcohol', 'Malic', 'Ash', 'Alcalinity', 'Mg', 'Total phenols', 'Flavanoids', 'Nonflavanoids', 'Proanthocyanins', 'Color intensity', 'Hue', 'OD280/OD315', 'Proline']\n",
    "wines.columns = colnames"
   ]
  },
  {
   "cell_type": "code",
   "execution_count": null,
   "id": "ef475fae-2169-4b26-830e-662091dddb9e",
   "metadata": {},
   "outputs": [],
   "source": [
    "wines.info()"
   ]
  },
  {
   "cell_type": "code",
   "execution_count": null,
   "id": "b5c73f6e-9ca0-4a58-8aeb-3805b1505267",
   "metadata": {},
   "outputs": [],
   "source": [
    "print(wines.describe())"
   ]
  },
  {
   "cell_type": "code",
   "execution_count": null,
   "id": "6cb1f6a5-b227-441e-88fd-d71901c6abdf",
   "metadata": {},
   "outputs": [],
   "source": [
    "wines_matrix = wines.corr()\n",
    "\n",
    "# Eliminarem les correlacions entre iguals per millorar la visualització posterior\n",
    "for i in range(len(wines_matrix.columns)):\n",
    "    for j in range(len(wines_matrix.columns)):\n",
    "        if i == j:\n",
    "            wines_matrix.iloc[i][j] = np.nan"
   ]
  },
  {
   "cell_type": "code",
   "execution_count": null,
   "id": "1a56ca59-6071-45a7-9502-47514b91260d",
   "metadata": {},
   "outputs": [],
   "source": [
    "fig, ax = plt.subplots(figsize=(18,10))         # Sample figsize in inches\n",
    "#sns.heatmap(df1.iloc[:, 1:6:], annot=True, linewidths=.5, ax=ax)\n",
    "\n",
    "sns.heatmap(wines_matrix, annot=True, linewidth=.5, ax=ax, cmap=\"PiYG\", center=0)"
   ]
  },
  {
   "cell_type": "markdown",
   "id": "7cfa46ec-445f-4509-a94d-c2131a269b2c",
   "metadata": {},
   "source": [
    "De totes les variables de ls que disposem, algunes tenen poca relació amb la classe de vins i les descartarem com són: **Ash**, **Mg** i **Color intensity**"
   ]
  },
  {
   "cell_type": "code",
   "execution_count": null,
   "id": "9b2a038e-06e7-4bf3-bca5-56c2f0f7540b",
   "metadata": {},
   "outputs": [],
   "source": [
    "wines.drop(['Ash', 'Mg', 'Color intensity'], axis=1, inplace=True)"
   ]
  },
  {
   "cell_type": "code",
   "execution_count": null,
   "id": "367fb565-cd1d-4877-8e30-9d34c211f8c0",
   "metadata": {},
   "outputs": [],
   "source": [
    "fig, ax = plt.subplots(4, 3, figsize=(23,18))\n",
    "nrow = 0\n",
    "ncol = 0\n",
    "\n",
    "for col in wines.columns:\n",
    "    sns.histplot(wines[col], ax=ax[nrow][ncol])\n",
    "    ncol += 1\n",
    "    if ncol == 3:\n",
    "        nrow += 1\n",
    "        ncol = 0"
   ]
  },
  {
   "cell_type": "code",
   "execution_count": null,
   "id": "c5ca56bd-8d12-4330-b758-99497933abdf",
   "metadata": {},
   "outputs": [],
   "source": [
    "# Dataframe on emmagatzarem els coeficients MSE i R2 per comparar els diferents models.\n",
    "\n",
    "coef_df = pd.DataFrame(index = ['Accuracy', 'Precision', 'Recall', 'F1score'])"
   ]
  },
  {
   "cell_type": "markdown",
   "id": "f70004ab-17ed-40a3-9742-c92d129667cb",
   "metadata": {},
   "source": [
    "#### 1. Model d'arbre de decisió"
   ]
  },
  {
   "cell_type": "code",
   "execution_count": null,
   "id": "f7f049a3-9ce8-4243-9780-439509462d4b",
   "metadata": {},
   "outputs": [],
   "source": [
    "# Separem el dataframe en un conjunt per entrenar el model i un altre per aplicar-lo.\n",
    "\n",
    "test_size_sel = 0.3\n",
    "\n",
    "wines_train, wines_test = train_test_split(wines, test_size=test_size_sel, random_state=42)"
   ]
  },
  {
   "cell_type": "code",
   "execution_count": null,
   "id": "f6bbd70d",
   "metadata": {},
   "outputs": [],
   "source": [
    "#col_sel = ['Alcohol', 'Malic', 'Alcalinity', 'Total phenols', 'Flavanoids', 'Nonflavanoids', 'Proanthocyanins', 'Hue', 'OD280/OD315', 'Proline']\n",
    "\n",
    "x_col = wines.columns[1:]\n",
    "\n",
    "x_train = wines_train[x_col]\n",
    "y_train = wines_train['Class']\n",
    "\n",
    "x_test = wines_test[x_col]\n",
    "y_test = wines_test['Class']"
   ]
  },
  {
   "cell_type": "markdown",
   "id": "ed464e5e-7f02-44b8-945d-ebb3290868ce",
   "metadata": {},
   "source": [
    "Ajustem un primer model d'arbre de decisions sense definir cap paràmetre."
   ]
  },
  {
   "cell_type": "code",
   "execution_count": null,
   "id": "f456d172-55de-4d6f-9176-d0609ee826d8",
   "metadata": {},
   "outputs": [],
   "source": [
    "# Model d'arbre de decisió categòric\n",
    "\n",
    "dt = DecisionTreeClassifier(random_state=42)\n",
    "\n",
    "dt.fit(x_train, y_train)\n",
    "dt_depth = dt.get_depth()\n",
    "print(f'Decision Tree depth: {dt_depth}')\n",
    "y_pred = dt.predict(x_test)\n",
    "y_pred_train = dt.predict(x_train)"
   ]
  },
  {
   "cell_type": "code",
   "execution_count": null,
   "id": "fc119a9f-99fd-4709-91d3-0ccf1ad56826",
   "metadata": {},
   "outputs": [],
   "source": [
    "plt.figure(dpi=250)\n",
    "\n",
    "cn = ['I', 'II', 'III'] \n",
    "\n",
    "plt.show(tree.plot_tree(dt,\n",
    "               feature_names = x_col, \n",
    "               class_names=cn,\n",
    "               filled = True))"
   ]
  },
  {
   "cell_type": "markdown",
   "id": "dae51bb1-570b-4637-9cb8-cc94ac7a7a2f",
   "metadata": {},
   "source": [
    "El model té 4 nivells i es pot observar en el gràfic els diferents punts de bifurcació i com tots els nivells més baixos, les fulles, són totalment homogenis amb relació a les classes que contenen. Avaluem-lo amb diferents mètodes per veure el seu rendiment i si aquest es pot millorar."
   ]
  },
  {
   "cell_type": "code",
   "execution_count": null,
   "id": "d1b4243c-eb64-4069-b9a1-a3117055a3cd",
   "metadata": {},
   "outputs": [],
   "source": [
    "# funció per plotejar matrius de confusió\n",
    "\n",
    "warnings.filterwarnings( \"ignore\")\n",
    "\n",
    "def plot_confusion_matrix(cm, classes,\n",
    "                          normalize=False,\n",
    "                          title='Confusion matrix',\n",
    "                          cmap=plt.cm.Blues):\n",
    "\n",
    "    if normalize:\n",
    "        cm = cm.astype('float') / cm.sum(axis=1)[:, np.newaxis]\n",
    "        print(\"Normalized confusion matrix\")\n",
    "    else:\n",
    "        print('Confusion matrix, without normalization')\n",
    "\n",
    "    print(cm)\n",
    "    plt.imshow(cm, interpolation='nearest', cmap=cmap)\n",
    "    plt.title(title)\n",
    "    plt.colorbar()\n",
    "    tick_marks = np.arange(len(classes))\n",
    "    plt.xticks(tick_marks, classes, rotation=0)\n",
    "    plt.yticks(tick_marks, classes)\n",
    "\n",
    "    fmt = '.2f' if normalize else 'd'\n",
    "    thresh = cm.max() / 2.\n",
    "    for i, j in itertools.product(range(cm.shape[0]), range(cm.shape[1])):\n",
    "        plt.text(j, i, format(cm[i, j], fmt),\n",
    "                 horizontalalignment=\"center\",\n",
    "                 color=\"white\" \n",
    "                 if cm[i, j] > thresh \n",
    "                 else \"black\")\n",
    "\n",
    "    plt.tight_layout()\n",
    "    plt.ylabel('Clase vertadera')\n",
    "    plt.xlabel('Clase prevista')"
   ]
  },
  {
   "cell_type": "code",
   "execution_count": null,
   "id": "4f4ce03d-c312-4782-bf8f-e5392edca592",
   "metadata": {},
   "outputs": [],
   "source": [
    "# Avaluació del model\n",
    "\n",
    "# accuracy\n",
    "accuracy = accuracy_score(y_test, y_pred)\n",
    "print(f'model accuracy: {np.round(accuracy, 2)}')"
   ]
  },
  {
   "cell_type": "code",
   "execution_count": null,
   "id": "e44bb54a-d003-4b5b-9705-feb3571af0ba",
   "metadata": {},
   "outputs": [],
   "source": [
    "# matriu de confusió\n",
    "\n",
    "confusion_train = confusion_matrix(y_train, y_pred_train, labels=[1, 2, 3])\n",
    "confusion_test = confusion_matrix(y_test, y_pred, labels=[1, 2, 3])"
   ]
  },
  {
   "cell_type": "code",
   "execution_count": null,
   "id": "cd57ba77-9fc5-4e58-9985-580b95bcea33",
   "metadata": {},
   "outputs": [],
   "source": [
    "#fig, ax = plt.subplots(1, 2, figsize=(23,18))\n",
    "plt.figure(figsize=(5, 5))\n",
    "sns.set(font_scale=1.3)\n",
    "plot_confusion_matrix(confusion_train, \n",
    "                      classes=['I','II', 'III'],\n",
    "                      normalize= False,  \n",
    "                      title='Dades d\\'entrenament')"
   ]
  },
  {
   "cell_type": "code",
   "execution_count": null,
   "id": "dc48199a-3a61-4b35-9d74-8960ffaf476b",
   "metadata": {},
   "outputs": [],
   "source": [
    "plt.figure(figsize=(5, 5))\n",
    "sns.set(font_scale=1.3)\n",
    "plot_confusion_matrix(confusion_test, \n",
    "                      classes=['I','II', 'III'],\n",
    "                      normalize= False,  \n",
    "                      title='Dades de testatge')"
   ]
  },
  {
   "cell_type": "markdown",
   "id": "fb4d91ba-2d53-4b8e-b6b0-56f52ba310c9",
   "metadata": {},
   "source": [
    "La matriu de confusió mostra com per a les dades de d'entrenament, el rendiment és perfecte, mentre que amb les dades per al testeig, 5 clases de vins no són correctament clasificades."
   ]
  },
  {
   "cell_type": "code",
   "execution_count": null,
   "id": "3bdc135f-91fd-4c5a-9be7-cb4b05c4809a",
   "metadata": {},
   "outputs": [],
   "source": [
    "# Més coeficients d'avaluació\n",
    "precision = precision_recall_fscore_support(y_test, y_pred, average='macro')[0]\n",
    "recall = precision_recall_fscore_support(y_test, y_pred, average='macro')[1]\n",
    "f1score = f1_score(y_test, y_pred, average='micro')\n",
    "print(f'Precision: {np.round(precision, 2)}')\n",
    "print(f'Recall: {np.round(recall, 2)}')\n",
    "print(f'F1 score: {np.round(f1score, 2)}')"
   ]
  },
  {
   "cell_type": "code",
   "execution_count": null,
   "id": "c52aec40-aeb1-4d66-8d06-227250a1e5b4",
   "metadata": {},
   "outputs": [],
   "source": [
    "coef_df['DecTree_O'] = [np.round(accuracy,2), np.round(precision, 2), np.round(recall, 2), np.round(f1score, 2)]"
   ]
  },
  {
   "cell_type": "code",
   "execution_count": null,
   "id": "bd0a0869-cf4f-4955-b248-2babceba87b3",
   "metadata": {},
   "outputs": [],
   "source": [
    "coef_df"
   ]
  },
  {
   "cell_type": "markdown",
   "id": "4716d628-1032-4954-ac3a-90dde476c314",
   "metadata": {},
   "source": [
    "El número de nivells de divisions d'aquest model era de 4, pero podem aconseguir diferents resultats si ajustem aquest paràmetre. Provarem diferents nivells màxims de 2 a 5."
   ]
  },
  {
   "cell_type": "code",
   "execution_count": null,
   "id": "da42f804-7320-436b-ac6c-8233d9f416e6",
   "metadata": {},
   "outputs": [],
   "source": [
    "dpi_sel = [125, 210, 280]\n",
    "for depth in range(2, 5):\n",
    "\n",
    "    dt = DecisionTreeClassifier(max_depth=depth, random_state=42)\n",
    "\n",
    "    dt.fit(x_train, y_train)\n",
    "    dt_depth = dt.get_depth()\n",
    "    y_pred = dt.predict(x_test)\n",
    "    y_pred_train = dt.predict(x_train)\n",
    "\n",
    "\n",
    "    plt.figure(dpi=dpi_sel[depth-2])\n",
    "\n",
    "    cn = ['I', 'II', 'III'] \n",
    "\n",
    "    plt.show(tree.plot_tree(dt,\n",
    "                   feature_names = x_col, \n",
    "                   class_names=cn,\n",
    "                   filled = True))\n",
    "    print(f'Decision Tree depth: {dt_depth}')\n",
    "    accuracy = accuracy_score(y_test, y_pred)\n",
    "    print(f'Accuracy: {np.round(accuracy, 2)}')\n",
    "    \n",
    "    precision = precision_recall_fscore_support(y_test, y_pred, average='macro')[0]\n",
    "    recall = precision_recall_fscore_support(y_test, y_pred, average='macro')[1]\n",
    "    f1score = f1_score(y_test, y_pred, average='micro')\n",
    "    print(f'Precision: {np.round(precision, 2)}')\n",
    "    print(f'Recall: {np.round(recall, 2)}')\n",
    "    print(f'F1 score: {np.round(f1score, 2)}')\n",
    "    print('----------------')"
   ]
  },
  {
   "cell_type": "markdown",
   "id": "44868f69-042b-4dfc-949a-b63685992b51",
   "metadata": {},
   "source": [
    "El model es comporta millor amb un maxim_depth de 3 o 4. Encara que algunes de les fulles finals ja no són totalment pures, la precisió és major. Si ens quedem sols amb 3 nivells, el nombre de variables que utilitza el model per anar separant les mostres són de 5 (OD280/OD315, HUE, ALCOHOL, FLAVANOIDS i PROLINE), en canvi, amb 4 nivells s'afegeix ALCALINITY tot i que sols serveix per variar el resultat en una mostra. Potser podem trobar més difer+ènciès en les mostres d'entrenament, cosa que podem comprovar amb el mètode de la validació creuada."
   ]
  },
  {
   "cell_type": "code",
   "execution_count": null,
   "id": "dbe88a28-53dd-4f07-aaa2-30d6cdd340fd",
   "metadata": {},
   "outputs": [],
   "source": [
    "for depth in range(2, 5):\n",
    "\n",
    "    dt = DecisionTreeClassifier(max_depth=depth)\n",
    "\n",
    "    dt.fit(x_train, y_train)\n",
    "    dt_depth = dt.get_depth()\n",
    "    y_pred = dt.predict(x_test)\n",
    "    y_pred_train = dt.predict(x_train)\n",
    "\n",
    "    scores = cross_validate(dt, x_train, y_train, cv=5, scoring='accuracy', return_train_score=True)\n",
    "    \n",
    "    print(f'Decision Tree depth: {dt_depth}')\n",
    "    print(f'Entrenament: {scores[\"train_score\"]}')\n",
    "    print(f'Test       : {scores[\"test_score\"]}')\n",
    "    print('----------------')"
   ]
  },
  {
   "cell_type": "markdown",
   "id": "22147d51-b5ab-4989-bac1-8f3ce6a01c02",
   "metadata": {},
   "source": [
    "Amb aquest mètode, veiem com els resultats amb les dades d'entrenament milloren amb un max_depth major. De fet, fent servir un max_depth de 2 és quan es pateix menys d'overfitting. Així i tot, s'ha vist que amb sols dos nivells de profunditat, s'obtenen moltes fulles impures i a més, el model potser prescindeix de massa variables perquè sols en gasta 3. Però en el cas de 4, el overfitting és major. Provarem de limitar el nombre mínim de mostres necessàries per a crear una altra fulla ajustant el paràmetre min_samples_leaf i emprant un max_depth de 3 o de 4."
   ]
  },
  {
   "cell_type": "code",
   "execution_count": null,
   "id": "ab7426b6-5631-44b1-9264-84f9ce66d6ef",
   "metadata": {},
   "outputs": [],
   "source": [
    "print('-------------------------------------------\\n-------------- max_depth: 3 ---------------\\n-------------------------------------------')\n",
    "for leaf in range(1, 6):\n",
    "\n",
    "    dt = DecisionTreeClassifier(max_depth=3, min_samples_leaf=leaf, random_state=42)\n",
    "\n",
    "    dt.fit(x_train, y_train)\n",
    "    dt_depth = dt.get_depth()\n",
    "    y_pred = dt.predict(x_test)\n",
    "    y_pred_train = dt.predict(x_train)\n",
    "\n",
    "    print(f'min_samples_leaf: {leaf}')\n",
    "    accuracy = accuracy_score(y_test, y_pred)\n",
    "    print(f'Accuracy: {np.round(accuracy, 2)}')\n",
    "    precision = precision_recall_fscore_support(y_test, y_pred, average='macro')[0]\n",
    "    recall = precision_recall_fscore_support(y_test, y_pred, average='macro')[1]\n",
    "    f1score = f1_score(y_test, y_pred, average='micro')\n",
    "    print(f'Precision: {np.round(precision, 2)}')\n",
    "    print(f'Recall: {np.round(recall, 2)}')\n",
    "    print(f'F1 score: {np.round(f1score, 2)}')\n",
    "    scores = cross_validate(dt, x_train, y_train, cv=5, scoring='accuracy', return_train_score=True)\n",
    "    print(f'Entrenament: {scores[\"train_score\"]}')\n",
    "    print(f'Test       : {scores[\"test_score\"]}')\n",
    "    print('----------------')"
   ]
  },
  {
   "cell_type": "code",
   "execution_count": null,
   "id": "3d350754-83b7-443b-ae2b-c6e262f18b46",
   "metadata": {},
   "outputs": [],
   "source": [
    "print('-------------------------------------------\\n-------------- max_depth: 4 ---------------\\n-------------------------------------------')\n",
    "for leaf in range(1, 6):\n",
    "\n",
    "    dt = DecisionTreeClassifier(max_depth=4, min_samples_leaf=leaf, random_state=42)\n",
    "\n",
    "    dt.fit(x_train, y_train)\n",
    "    dt_depth = dt.get_depth()\n",
    "    y_pred = dt.predict(x_test)\n",
    "    y_pred_train = dt.predict(x_train)\n",
    "\n",
    "    print(f'min_samples_leaf: {leaf}')\n",
    "    accuracy = accuracy_score(y_test, y_pred)\n",
    "    print(f'Accuracy: {np.round(accuracy, 2)}')\n",
    "    precision = precision_recall_fscore_support(y_test, y_pred, average='macro')[0]\n",
    "    recall = precision_recall_fscore_support(y_test, y_pred, average='macro')[1]\n",
    "    f1score = f1_score(y_test, y_pred, average='micro')\n",
    "    print(f'Precision: {np.round(precision, 2)}')\n",
    "    print(f'Recall: {np.round(recall, 2)}')\n",
    "    print(f'F1 score: {np.round(f1score, 2)}')\n",
    "    scores = cross_validate(dt, x_train, y_train, cv=5, scoring='accuracy', return_train_score=True)\n",
    "    print(f'Entrenament: {scores[\"train_score\"]}')\n",
    "    print(f'Test       : {scores[\"test_score\"]}')\n",
    "    print('----------------')   "
   ]
  },
  {
   "cell_type": "markdown",
   "id": "37f086ad-7bae-41dc-b406-f92419fb7503",
   "metadata": {
    "tags": []
   },
   "source": [
    "Si sols modifiquem el paràmetre max_depth, podem quedar-nos amb un valor de 3, però podem obtenir un millor rendiment si, amb un max_depth de 4, modifiquem el paràmetre min_samples_leaf amb un valor de 3 o 4. A més, que es redueix l'overfitting."
   ]
  },
  {
   "cell_type": "code",
   "execution_count": null,
   "id": "21df0686-481b-4ea5-b176-e34173de1726",
   "metadata": {},
   "outputs": [],
   "source": [
    "dt = DecisionTreeClassifier(max_depth=4, min_samples_leaf=3, random_state=42)\n",
    "\n",
    "dt.fit(x_train, y_train)\n",
    "dt_depth = dt.get_depth()\n",
    "y_pred = dt.predict(x_test)\n",
    "y_pred_train = dt.predict(x_train)\n",
    "\n",
    "plt.figure(dpi=250)\n",
    "\n",
    "cn = ['I', 'II', 'III'] \n",
    "\n",
    "plt.show(tree.plot_tree(dt,\n",
    "               feature_names = x_col, \n",
    "               class_names=cn,\n",
    "               filled = True))\n",
    "\n",
    "accuracy = accuracy_score(y_test, y_pred)\n",
    "precision = precision_recall_fscore_support(y_test, y_pred, average='macro')[0]\n",
    "recall = precision_recall_fscore_support(y_test, y_pred, average='macro')[1]\n",
    "f1score = f1_score(y_test, y_pred, average='micro')"
   ]
  },
  {
   "cell_type": "code",
   "execution_count": null,
   "id": "58572a20-442f-495a-a0df-101534bc7f42",
   "metadata": {},
   "outputs": [],
   "source": [
    "coef_df['DecTree_D4_L3'] = [np.round(accuracy,2), np.round(precision, 2), np.round(recall, 2), np.round(f1score, 2)]"
   ]
  },
  {
   "cell_type": "code",
   "execution_count": null,
   "id": "93fdf364-aeee-4cd3-a86a-cf6cef06ef28",
   "metadata": {},
   "outputs": [],
   "source": [
    "coef_df"
   ]
  },
  {
   "cell_type": "markdown",
   "id": "cc6360f7-46bb-4764-8722-4ac554cc1a24",
   "metadata": {
    "tags": []
   },
   "source": [
    "#### 2. Model k-nearest neighbors"
   ]
  },
  {
   "cell_type": "markdown",
   "id": "d4907af0-6e76-4855-8bd8-b6fe07cc429f",
   "metadata": {},
   "source": [
    "Provem amb un model de K-nearest neighbors. En aquest model cal elegir el nombre de k nearest neighbors. S'elegeix inicialment 10."
   ]
  },
  {
   "cell_type": "code",
   "execution_count": null,
   "id": "db1d58a2-8b9a-4e55-a54e-a1dee026bde7",
   "metadata": {},
   "outputs": [],
   "source": [
    "classifier = KNeighborsClassifier(n_neighbors=10)\n",
    "classifier.fit(x_train, y_train)\n",
    "unknown_points = x_test\n",
    "y_pred = classifier.predict(unknown_points)"
   ]
  },
  {
   "cell_type": "code",
   "execution_count": null,
   "id": "9db4e337-0f42-4054-ae01-f8ed91d92c06",
   "metadata": {},
   "outputs": [],
   "source": [
    "x = 'Alcohol'\n",
    "y = 'Hue'\n",
    "\n",
    "d = {x:x_test[x], y:x_test[y], 'y_pred':y_pred}\n",
    "plot_df = pd.DataFrame(data = d)\n",
    "\n",
    "fig = plt.figure(dpi=100)\n",
    "ax = fig.add_subplot()\n",
    "lab_class = ['I', 'II', 'III']\n",
    "\n",
    "colors = ['red', 'brown', 'black']\n",
    "for i in range(1, 4):\n",
    "    filter = plot_df['y_pred'] == i\n",
    "    plot_class = plot_df[filter]\n",
    "    ax.scatter(plot_class[x], plot_class[y],  c=colors[i-1], label=lab_class[i-1])\n",
    "    plt.xlabel(x)\n",
    "    plt.ylabel(y)\n",
    "    \n",
    "ax.legend()"
   ]
  },
  {
   "cell_type": "markdown",
   "id": "2fbab5a6-dc4c-40bc-9934-e63175e88458",
   "metadata": {},
   "source": [
    "Es pot comprovar amb un scatter plot com el model assigna cada mostra a una classe diferent. De moment, i si es compara **Hue** amb **Alcohol**, no sembla que aquest model sigui massa fiable."
   ]
  },
  {
   "cell_type": "code",
   "execution_count": null,
   "id": "85646d3b-da28-40c4-b1f1-2224f0f30c35",
   "metadata": {},
   "outputs": [],
   "source": [
    "x = 'Flavanoids'\n",
    "y = 'OD280/OD315'\n",
    "\n",
    "d = {x:x_test[x], y:x_test[y], 'y_pred':y_pred}\n",
    "plot_df = pd.DataFrame(data = d)\n",
    "\n",
    "fig = plt.figure(dpi=100)\n",
    "ax = fig.add_subplot()\n",
    "lab_class = ['I', 'II', 'III']\n",
    "\n",
    "colors = ['red', 'brown', 'black']\n",
    "for i in range(1, 4):\n",
    "    filter = plot_df['y_pred'] == i\n",
    "    plot_class = plot_df[filter]\n",
    "    ax.scatter(plot_class[x], plot_class[y],  c=colors[i-1], label=lab_class[i-1])\n",
    "    plt.xlabel(x)\n",
    "    plt.ylabel(y)\n",
    "    \n",
    "ax.legend()"
   ]
  },
  {
   "cell_type": "markdown",
   "id": "c0e0a4fa-ed24-440b-a7a0-c92a6afc29ad",
   "metadata": {},
   "source": [
    "També ho podem veure si enfronem **OD280/OD315** amb **Flavanoids**"
   ]
  },
  {
   "cell_type": "code",
   "execution_count": null,
   "id": "79ba4712-3b5e-418e-bfcc-960c70f3fc01",
   "metadata": {},
   "outputs": [],
   "source": [
    "accuracy = accuracy_score(y_test, y_pred)\n",
    "print(f'model accuracy: {np.round(accuracy, 2)}')\n",
    "\n",
    "confusion_test = confusion_matrix(y_test, y_pred, labels=[1, 2, 3])"
   ]
  },
  {
   "cell_type": "code",
   "execution_count": null,
   "id": "e908d1fd-fd1c-4876-b182-7d14ee34f4c0",
   "metadata": {},
   "outputs": [],
   "source": [
    "plt.figure(figsize=(10, 6))\n",
    "sns.set(font_scale=1.3)\n",
    "plot_confusion_matrix(confusion_test, \n",
    "                      classes=['I','II', 'III'],\n",
    "                      normalize= False,  \n",
    "                      title='Matriu de confusió')"
   ]
  },
  {
   "cell_type": "markdown",
   "id": "731b5895-05bb-4cba-a70c-d10709485600",
   "metadata": {},
   "source": [
    "És evident que respecte amb el model anterior, aquest té un rendiment molt dolent. Fins a 18 mostres no están bé classificades."
   ]
  },
  {
   "cell_type": "code",
   "execution_count": null,
   "id": "c2ba0ec9-c701-41bd-8e03-de9dd026696c",
   "metadata": {},
   "outputs": [],
   "source": [
    "precision = precision_recall_fscore_support(y_test, y_pred, average='macro')[0]\n",
    "recall = precision_recall_fscore_support(y_test, y_pred, average='macro')[1]\n",
    "print(f'Precision: {np.round(precision, 2)}')\n",
    "print(f'Recall: {np.round(recall, 2)}')\n",
    "f1score = f1_score(y_test, y_pred, average='micro')\n",
    "print(f'F1 score: {np.round(f1score, 2)}')"
   ]
  },
  {
   "cell_type": "code",
   "execution_count": null,
   "id": "27febec8-6730-4193-a59e-5ed482cc6f6d",
   "metadata": {},
   "outputs": [],
   "source": [
    "coef_df['NK_O'] = [np.round(accuracy,2), np.round(precision, 2), np.round(recall, 2), np.round(f1score, 2)]"
   ]
  },
  {
   "cell_type": "code",
   "execution_count": null,
   "id": "3926236c-81d5-4ccc-861d-efd1b1822d2f",
   "metadata": {},
   "outputs": [],
   "source": [
    "coef_df"
   ]
  },
  {
   "cell_type": "markdown",
   "id": "1745458b-e84f-489f-99b4-513bb8bb2acf",
   "metadata": {},
   "source": [
    "El rendiment es prou roí si es comparara amb l'arbre de decissió. En aquest cas, per a un model tipus k-nearest neighbors, convé normalitzar les dades d'entrada. Sinó, les variables amb magnituds d'ordre superiors afecten més en el resultat que els altres."
   ]
  },
  {
   "cell_type": "code",
   "execution_count": null,
   "id": "875e33a4-1649-4f84-847e-3f3d71ede462",
   "metadata": {},
   "outputs": [],
   "source": [
    "mmscaler = MinMaxScaler()\n",
    "\n",
    "for col in x_col:\n",
    "    \n",
    "    reshaped = np.array(wines[col]).reshape(-1,1)\n",
    "    \n",
    "    normalized = mmscaler.fit_transform(reshaped)\n",
    "    \n",
    "    if col == 'Alcohol':\n",
    "        wines_norm = pd.DataFrame(normalized, columns=[col])\n",
    "    else:\n",
    "        wines_norm[col] = normalized\n",
    "    \n",
    "# Separem el dataframe en un conjunt per entrenar el model i un altre per aplicar-lo.\n",
    "wines_train_n, wines_test_n = train_test_split(wines_norm, test_size=test_size_sel, random_state=42)\n",
    "\n",
    "x_train_n = wines_train_n[x_col]\n",
    "x_test_n = wines_test_n[x_col]"
   ]
  },
  {
   "cell_type": "code",
   "execution_count": null,
   "id": "cb27b82d-7459-4b7d-94c2-d1ce69756fcb",
   "metadata": {},
   "outputs": [],
   "source": [
    "x_train_n.describe() # Comprovem que es troben normalitzades les dades"
   ]
  },
  {
   "cell_type": "code",
   "execution_count": null,
   "id": "20137d79-cf86-44f0-9c38-d145966a4152",
   "metadata": {},
   "outputs": [],
   "source": [
    "classifier = KNeighborsClassifier(n_neighbors=10)\n",
    "classifier.fit(x_train_n, y_train)\n",
    "unknown_points = x_test_n\n",
    "y_pred = classifier.predict(unknown_points)\n",
    "\n",
    "accuracy = accuracy_score(y_test, y_pred)\n",
    "print(f'model accuracy: {np.round(accuracy, 2)}')\n",
    "\n",
    "# confusion matrix\n",
    "\n",
    "confusion_test = confusion_matrix(y_test, y_pred, labels=[1, 2, 3])"
   ]
  },
  {
   "cell_type": "code",
   "execution_count": null,
   "id": "3bb798dc-e258-402b-87ef-d4d9d405efc9",
   "metadata": {},
   "outputs": [],
   "source": [
    "plt.figure(figsize=(10, 6))\n",
    "sns.set(font_scale=1.3)\n",
    "plot_confusion_matrix(confusion_test, \n",
    "                      classes=['I','II', 'III'],\n",
    "                      normalize= False,  \n",
    "                      title='Matriu de confusió')"
   ]
  },
  {
   "cell_type": "code",
   "execution_count": null,
   "id": "c50f1534-034d-439e-8b2f-c21f67c0cb96",
   "metadata": {},
   "outputs": [],
   "source": [
    "x = 'Alcohol'\n",
    "y = 'Hue'\n",
    "\n",
    "d = {x:x_test[x], y:x_test[y], 'y_pred':y_pred}\n",
    "plot_df = pd.DataFrame(data = d)\n",
    "\n",
    "fig = plt.figure(dpi=100)\n",
    "ax = fig.add_subplot()\n",
    "lab_class = ['I', 'II', 'III']\n",
    "\n",
    "colors = ['red', 'brown', 'black']\n",
    "for i in range(1, 4):\n",
    "    filter = plot_df['y_pred'] == i\n",
    "    plot_class = plot_df[filter]\n",
    "    ax.scatter(plot_class[x], plot_class[y],  c=colors[i-1], label=lab_class[i-1])\n",
    "    plt.xlabel(x)\n",
    "    plt.ylabel(y)\n",
    "    \n",
    "ax.legend()"
   ]
  },
  {
   "cell_type": "code",
   "execution_count": null,
   "id": "58e07c9c-c596-4f1f-b6f6-8ea095b8ef66",
   "metadata": {},
   "outputs": [],
   "source": [
    "precision = precision_recall_fscore_support(y_test, y_pred, average='macro')[0]\n",
    "recall = precision_recall_fscore_support(y_test, y_pred, average='macro')[1]\n",
    "print(f'Precision: {np.round(precision, 2)}')\n",
    "print(f'Recall: {np.round(recall, 2)}')\n",
    "f1score = f1_score(y_test, y_pred, average='micro')\n",
    "print(f'F1 score: {np.round(f1score, 2)}')"
   ]
  },
  {
   "cell_type": "code",
   "execution_count": null,
   "id": "c78385af-402e-4490-a292-b610df635c2a",
   "metadata": {},
   "outputs": [],
   "source": [
    "coef_df['NK_Normalized'] = [np.round(accuracy,2), np.round(precision, 2), np.round(recall, 2), np.round(f1score, 2)]"
   ]
  },
  {
   "cell_type": "code",
   "execution_count": null,
   "id": "397baa44-d7e2-491b-b8c0-8c1ff06d87e0",
   "metadata": {},
   "outputs": [],
   "source": [
    "coef_df"
   ]
  },
  {
   "cell_type": "markdown",
   "id": "6a0959eb-078d-42cf-9b5d-053b857adb94",
   "metadata": {},
   "source": [
    "El rendiment millora de manera molt notable.\n",
    "\n",
    "En el model KN podem variar el número k. A mesura que utilitzem un número menor, podem incrementar la precisió del model però podem acabar sobreajustant el model. Iterarem augmentant de manera progresiva per veure com reacciona el model als diferents valors de k."
   ]
  },
  {
   "cell_type": "code",
   "execution_count": null,
   "id": "7e04c0d2-af2d-4afd-a10f-c7a510d8f52d",
   "metadata": {},
   "outputs": [],
   "source": [
    "for k in range(1, 10):\n",
    "    classifier = KNeighborsClassifier(n_neighbors=k)\n",
    "    classifier.fit(x_train_n, y_train)\n",
    "    unknown_points = x_test_n\n",
    "    y_pred = classifier.predict(unknown_points)\n",
    "    accuracy = accuracy_score(y_test, y_pred)\n",
    "    print(f'n_neighbors:{k}')\n",
    "    print(f'accuracy {np.round(accuracy, 3)}')\n",
    "    scores = cross_validate(classifier, x_train_n, y_train, cv=5, scoring='accuracy', return_train_score=True)\n",
    "    print(f'Entrenament: {scores[\"train_score\"]}')\n",
    "    print(f'Test       : {scores[\"test_score\"]}')\n",
    "    print('-------------------')"
   ]
  },
  {
   "cell_type": "markdown",
   "id": "84cf3a35-abd9-4568-8211-05efc7b4bac1",
   "metadata": {},
   "source": [
    "En aquest cas, les diferències entre les diferents classes son tan notables que la precisió quasi no varia. Convé  elegir un k superior a 1, ja que el model agafa de referència sols el valor més proper per a categoritzar una mostra i es produeix overfitting."
   ]
  },
  {
   "cell_type": "code",
   "execution_count": null,
   "id": "92de1e15-0a27-42d7-a57a-51a73177d1fa",
   "metadata": {
    "tags": []
   },
   "outputs": [],
   "source": [
    "k = 5\n",
    "\n",
    "classifier = KNeighborsClassifier(n_neighbors=k)\n",
    "classifier.fit(x_train_n, y_train)\n",
    "unknown_points = x_test_n\n",
    "y_pred = classifier.predict(unknown_points)\n",
    "accuracy = accuracy_score(y_test, y_pred)\n",
    "\n",
    "precision = precision_recall_fscore_support(y_test, y_pred, average='macro')[0]\n",
    "recall = precision_recall_fscore_support(y_test, y_pred, average='macro')[1]\n",
    "f1score = f1_score(y_test, y_pred, average='micro')\n",
    "\n",
    "\n",
    "coef_df['NK_Normalized_k5'] = [np.round(accuracy,2), np.round(precision, 2), np.round(recall, 2), np.round(f1score, 2)]"
   ]
  },
  {
   "cell_type": "markdown",
   "id": "e7bb093f-ec13-41a5-85fe-bb9ee2797c58",
   "metadata": {},
   "source": [
    "#### 3. Random Forest"
   ]
  },
  {
   "cell_type": "markdown",
   "id": "1d8ddca7-4d31-4c58-8666-74c18d7e96ec",
   "metadata": {},
   "source": [
    "Finalment, de manera similar a com feiem amb l'arbre de decisió. Podem provar un model una mica més complexe amb el Random Forest."
   ]
  },
  {
   "cell_type": "code",
   "execution_count": null,
   "id": "824eeccf-5cd7-4232-bb34-ff79bb6c0c79",
   "metadata": {},
   "outputs": [],
   "source": [
    "from sklearn.ensemble import RandomForestClassifier\n",
    "\n",
    "rfc = RandomForestClassifier(random_state=42)\n",
    "rfc.fit(x_train, y_train)\n",
    "y_pred = rfc.predict(x_test)"
   ]
  },
  {
   "cell_type": "code",
   "execution_count": null,
   "id": "a6e6989b-96e9-4ab8-9910-362cb647071f",
   "metadata": {},
   "outputs": [],
   "source": [
    "accuracy = accuracy_score(y_test, y_pred)\n",
    "print(f'model accuracy: {np.round(accuracy,2)}')\n",
    "\n"
   ]
  },
  {
   "cell_type": "code",
   "execution_count": null,
   "id": "29c3a79a-f574-4de9-a052-d9c2b73cd7d8",
   "metadata": {},
   "outputs": [],
   "source": [
    "confusion_test = confusion_matrix(y_test, y_pred, labels=[1, 2, 3])\n",
    "plt.figure(figsize=(5, 5))\n",
    "sns.set(font_scale=1.3)\n",
    "plot_confusion_matrix(confusion_test, \n",
    "                      classes=['I','II', 'III'],\n",
    "                      normalize= False,  \n",
    "                      title='Matriu de confusió')"
   ]
  },
  {
   "cell_type": "code",
   "execution_count": null,
   "id": "71146ab5-6ad0-426e-83e6-ed8f0222a290",
   "metadata": {},
   "outputs": [],
   "source": [
    "precision = precision_recall_fscore_support(y_test, y_pred, average='macro')[0]\n",
    "recall = precision_recall_fscore_support(y_test, y_pred, average='macro')[1]\n",
    "print(f'Precision: {np.round(precision, 2)}')\n",
    "print(f'Recall: {np.round(recall, 2)}')\n",
    "f1score = f1_score(y_test, y_pred, average='micro')\n",
    "print(f'F1 score: {np.round(f1score, 2)}')"
   ]
  },
  {
   "cell_type": "markdown",
   "id": "e179c07d-d529-4978-a4f9-c23e0a3c44fc",
   "metadata": {},
   "source": [
    "El rendiment és el millor que hem pogut obtindre."
   ]
  },
  {
   "cell_type": "markdown",
   "id": "fab51d09-c367-4674-839e-1a285b5cb6e7",
   "metadata": {},
   "source": [
    "En Random Forest també podem elegir un **max_depth** determinat. Anem a provar amb diferents valors i estudiar la seua precissió"
   ]
  },
  {
   "cell_type": "code",
   "execution_count": null,
   "id": "f58abdb4-1970-46a6-a62b-9bda9bed3c2b",
   "metadata": {},
   "outputs": [],
   "source": [
    "for k in range(1, 9):\n",
    "\n",
    "    rfc = RandomForestClassifier(max_depth=k, random_state=42)\n",
    "    rfc.fit(x_train, y_train)\n",
    "    y_pred = rfc.predict(x_test)\n",
    "    accuracy = accuracy_score(y_test, y_pred)\n",
    "    print(f'max_depth: {k}')\n",
    "    print(f'model accuracy: {np.round(accuracy,2)}')\n",
    "    scores = cross_validate(rfc, x_train, y_train, cv=5, scoring='accuracy', return_train_score=True)\n",
    "    print(f'Entrenament: {scores[\"train_score\"]}')\n",
    "    print(f'Test       : {scores[\"test_score\"]}')\n",
    "    print('-------------------')"
   ]
  },
  {
   "cell_type": "markdown",
   "id": "9d0ecfa8-994d-4c0c-9744-19a5ea7ddc9f",
   "metadata": {},
   "source": [
    "Obtenim una precisió molt bona pràcticament amb qualsevol k però el model pateix d'overfitting si el max_depth supera el 3. Així que ens quedem amb eixe valor."
   ]
  },
  {
   "cell_type": "code",
   "execution_count": null,
   "id": "54b08e31-8a72-4bad-8c88-9d4c66b9e680",
   "metadata": {},
   "outputs": [],
   "source": [
    "rfc = RandomForestClassifier(max_depth=3, random_state=42)\n",
    "rfc.fit(x_train, y_train)\n",
    "y_pred = rfc.predict(x_test)\n",
    "accuracy = accuracy_score(y_test, y_pred)"
   ]
  },
  {
   "cell_type": "code",
   "execution_count": null,
   "id": "78195700-22c8-494e-a387-f10bf9925724",
   "metadata": {},
   "outputs": [],
   "source": [
    "x = 'Alcohol'\n",
    "y = 'Hue'\n",
    "\n",
    "d = {x:x_test[x], y:x_test[y], 'y_pred':y_pred}\n",
    "plot_df = pd.DataFrame(data = d)\n",
    "\n",
    "fig = plt.figure(dpi=100)\n",
    "ax = fig.add_subplot()\n",
    "lab_class = ['I', 'II', 'III']\n",
    "\n",
    "colors = ['red', 'brown', 'black']\n",
    "for i in range(1, 4):\n",
    "    filter = plot_df['y_pred'] == i\n",
    "    plot_class = plot_df[filter]\n",
    "    ax.scatter(plot_class[x], plot_class[y],  c=colors[i-1], label=lab_class[i-1])\n",
    "    plt.xlabel(x)\n",
    "    plt.ylabel(y)\n",
    "    \n",
    "ax.legend()"
   ]
  },
  {
   "cell_type": "code",
   "execution_count": null,
   "id": "b04ada2c-96f6-4064-bc2b-9f3b1adc4b08",
   "metadata": {},
   "outputs": [],
   "source": [
    "x = 'OD280/OD315'\n",
    "y = 'Hue'\n",
    "\n",
    "d = {x:x_test[x], y:x_test[y], 'y_pred':y_pred}\n",
    "plot_df = pd.DataFrame(data = d)\n",
    "\n",
    "fig = plt.figure(dpi=100)\n",
    "ax = fig.add_subplot()\n",
    "lab_class = ['I', 'II', 'III']\n",
    "\n",
    "colors = ['red', 'brown', 'black']\n",
    "for i in range(1, 4):\n",
    "    filter = plot_df['y_pred'] == i\n",
    "    plot_class = plot_df[filter]\n",
    "    ax.scatter(plot_class[x], plot_class[y],  c=colors[i-1], label=lab_class[i-1])\n",
    "    plt.xlabel(x)\n",
    "    plt.ylabel(y)\n",
    "    \n",
    "ax.legend()"
   ]
  },
  {
   "cell_type": "code",
   "execution_count": null,
   "id": "3a328dac-933c-4506-9923-01c8a02568a3",
   "metadata": {},
   "outputs": [],
   "source": [
    "precision = precision_recall_fscore_support(y_test, y_pred, average='macro')[0]\n",
    "recall = precision_recall_fscore_support(y_test, y_pred, average='macro')[1]\n",
    "f1score = f1_score(y_test, y_pred, average='micro')"
   ]
  },
  {
   "cell_type": "code",
   "execution_count": null,
   "id": "e36e0bf5-af0f-4a6d-8ccf-01bd558cfe4b",
   "metadata": {},
   "outputs": [],
   "source": [
    "coef_df['RF_5'] = [np.round(accuracy,2), np.round(precision, 2), np.round(recall, 2), np.round(f1score, 2)]"
   ]
  },
  {
   "cell_type": "code",
   "execution_count": null,
   "id": "2039c6e5-e935-419e-b2da-78fa2f151b74",
   "metadata": {},
   "outputs": [],
   "source": [
    "coef_df"
   ]
  },
  {
   "cell_type": "markdown",
   "id": "1c723389-b99e-413e-86ec-a752bb68d04e",
   "metadata": {},
   "source": [
    "Vegem com el model que millor rendeix és, sense dubte, el Random Forest. Mentre que els altres dos, una vegada elegits bé els paràmetres, mostren un rendiment similar."
   ]
  }
 ],
 "metadata": {
  "kernelspec": {
   "display_name": "Python 3 (ipykernel)",
   "language": "python",
   "name": "python3"
  },
  "language_info": {
   "codemirror_mode": {
    "name": "ipython",
    "version": 3
   },
   "file_extension": ".py",
   "mimetype": "text/x-python",
   "name": "python",
   "nbconvert_exporter": "python",
   "pygments_lexer": "ipython3",
   "version": "3.9.7"
  }
 },
 "nbformat": 4,
 "nbformat_minor": 5
}
