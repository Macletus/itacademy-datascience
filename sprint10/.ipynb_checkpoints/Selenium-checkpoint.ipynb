{
 "cells": [
  {
   "cell_type": "code",
   "execution_count": null,
   "id": "45086276-75f4-446f-a8dd-b5df422c70fa",
   "metadata": {},
   "outputs": [],
   "source": []
  },
  {
   "cell_type": "code",
   "execution_count": 11,
   "id": "5fa18727-24b3-4711-b266-d5fc61229b6a",
   "metadata": {},
   "outputs": [
    {
     "name": "stderr",
     "output_type": "stream",
     "text": [
      "D:\\Programes\\Anaconda3\\lib\\site-packages\\outdated\\utils.py:14: OutdatedPackageWarning: The package pingouin is out of date. Your version is 0.5.2, the latest is 0.5.3.\n",
      "Set the environment variable OUTDATED_IGNORE=1 to disable these warnings.\n",
      "  return warn(\n"
     ]
    }
   ],
   "source": [
    "# Packages\n",
    "from pathlib import Path\n",
    "import numpy as np\n",
    "import pandas as pd\n",
    "from scipy import stats\n",
    "import math\n",
    "import seaborn as sns\n",
    "import matplotlib.pyplot as plt\n",
    "import pingouin as pg"
   ]
  },
  {
   "cell_type": "code",
   "execution_count": null,
   "id": "3a0fd053-2b35-40ae-af9e-0161d3039969",
   "metadata": {},
   "outputs": [],
   "source": [
    "from selenium import webdriver\n",
    "import csv\n",
    "\n",
    "# URL de la página\n",
    "url = \"https://www.bolsasymercados.es/bme-exchange/es/Mercados-y-Cotizaciones/Acciones/Mercado-Continuo/Precios/ibex-35-ES0SI0000005\"\n",
    "\n",
    "# Ruta del driver de Selenium para Google Chrome\n",
    "driver_path = \"ruta/al/driver/chrome\"\n",
    "\n",
    "# Creamos una instancia del navegador Chrome con Selenium\n",
    "driver = webdriver.Chrome(executable_path=driver_path)\n",
    "\n",
    "# Accedemos a la página\n",
    "driver.get(url)\n",
    "\n",
    "# Esperamos a que se cargue la tabla\n",
    "table = driver.find_element_by_class_name(\"tblDataTable\")\n",
    "rows = table.find_elements_by_tag_name(\"tr\")\n",
    "\n",
    "# Creamos un archivo CSV para guardar los datos\n",
    "with open(\"datos_ibex35.csv\", \"w\", newline=\"\") as f:\n",
    "    writer = csv.writer(f)\n",
    "\n",
    "    # Procesamos cada fila de la tabla\n",
    "    for row in rows:\n",
    "        # Obtenemos las celdas de la fila\n",
    "        cells = row.find_elements_by_tag_name(\"td\")\n",
    "\n",
    "        # Si la fila tiene celdas, escribimos sus valores en el archivo CSV\n",
    "        if cells:\n",
    "            row_values = [cell.text.strip() for cell in cells]\n",
    "            writer.writerow(row_values)\n",
    "\n",
    "# Cerramos el navegador\n",
    "driver.quit()"
   ]
  },
  {
   "cell_type": "code",
   "execution_count": null,
   "id": "8248f104-e983-478d-9f14-b0fe3a745887",
   "metadata": {},
   "outputs": [],
   "source": [
    "from selenium.webdriver import Edge, EdgeOptions\n",
    "from selenium.webdriver.common.by import By\n",
    "from selenium.webdriver.support.ui import WebDriverWait\n",
    "from selenium.webdriver.support import expected_conditions as EC\n",
    "\n",
    "# Definir opciones del navegador Microsoft Edge\n",
    "options = EdgeOptions()\n",
    "options.use_chromium = True\n",
    "options.add_argument(\"--start-maximized\")\n",
    "options.add_argument(\"--disable-extensions\")\n",
    "options.add_argument(\"--disable-gpu\")\n",
    "options.add_argument(\"--disable-infobars\")\n",
    "options.add_argument(\"--headless\")\n",
    "\n",
    "# Definir ruta donde se descargará el archivo\n",
    "download_folder = \"C:/Users/Usuario/Downloads\"\n",
    "\n",
    "# Definir URL de la página\n",
    "url = \"https://www.bolsasymercados.es/bme-exchange/es/Mercados-y-Cotizaciones/Acciones/Mercado-Continuo/Precios/ibex-35-ES0SI0000005\"\n",
    "\n",
    "# Inicializar el navegador Microsoft Edge\n",
    "driver = Edge(options=options)\n",
    "\n",
    "# Abrir la página web\n",
    "driver.get(url)\n",
    "\n",
    "# Esperar a que se cargue la página y luego hacer clic en el botón \"Exportar a Excel\"\n",
    "wait = WebDriverWait(driver, 10)\n",
    "export_button = wait.until(EC.element_to_be_clickable((By.XPATH, \"//a[@title='Exportar a Excel']\")))\n",
    "export_button.click()\n",
    "\n",
    "# Esperar a que el archivo se descargue\n",
    "wait.until(EC.url_contains(\".xlsx\"))\n",
    "\n",
    "# Cerrar el navegador\n",
    "driver.quit()"
   ]
  },
  {
   "cell_type": "code",
   "execution_count": 12,
   "id": "b7c53138-9d43-429c-a34b-5fbdbde0928d",
   "metadata": {},
   "outputs": [],
   "source": [
    "# file paths\n",
    "data_path = 'D:/Sistema_Solar/Python/itacademy/sprint10/data/'\n",
    "data_path = Path(data_path)"
   ]
  },
  {
   "cell_type": "code",
   "execution_count": 13,
   "id": "b8d4b3ad-e168-43c9-b776-796933b103ae",
   "metadata": {},
   "outputs": [
    {
     "ename": "TimeoutException",
     "evalue": "Message: \nStacktrace:\nBacktrace:\n\tMicrosoft::Applications::Events::EventProperties::SetProperty [0x00007FF60A7448E2+14722]\n\tMicrosoft::Applications::Events::EventProperty::EventProperty [0x00007FF60A6DB972+817410]\n\t(No symbol) [0x00007FF60A36DB50]\n\t(No symbol) [0x00007FF60A3B0585]\n\t(No symbol) [0x00007FF60A3B070C]\n\t(No symbol) [0x00007FF60A3EC277]\n\t(No symbol) [0x00007FF60A3D06CF]\n\t(No symbol) [0x00007FF60A3A3121]\n\t(No symbol) [0x00007FF60A3E96FE]\n\t(No symbol) [0x00007FF60A3D0343]\n\t(No symbol) [0x00007FF60A3A1FFC]\n\t(No symbol) [0x00007FF60A3A0F7E]\n\t(No symbol) [0x00007FF60A3A27EE]\n\tMicrosoft::Applications::Events::EventProperties::SetProperty [0x00007FF60A5BF580+181072]\n\t(No symbol) [0x00007FF60A4707F7]\n\tMicrosoft::Applications::Events::EventProperty::EventProperty [0x00007FF60A620252+49634]\n\tMicrosoft::Applications::Events::EventProperty::EventProperty [0x00007FF60A623455+62437]\n\tMicrosoft::Applications::Events::ILogManager::DispatchEventBroadcast [0x00007FF60A932018+1407928]\n\tMicrosoft::Applications::Events::EventProperty::EventProperty [0x00007FF60A6E3E7F+851471]\n\tMicrosoft::Applications::Events::EventProperty::EventProperty [0x00007FF60A6E8EE4+872052]\n\tMicrosoft::Applications::Events::EventProperty::EventProperty [0x00007FF60A6E903C+872396]\n\tMicrosoft::Applications::Events::EventProperty::EventProperty [0x00007FF60A6F134B+905947]\n\tBaseThreadInitThunk [0x00007FFDD3D37614+20]\n\tRtlUserThreadStart [0x00007FFDD4F826A1+33]\n",
     "output_type": "error",
     "traceback": [
      "\u001b[1;31m---------------------------------------------------------------------------\u001b[0m",
      "\u001b[1;31mTimeoutException\u001b[0m                          Traceback (most recent call last)",
      "\u001b[1;32m~\\AppData\\Local\\Temp\\ipykernel_19952\\1982196128.py\u001b[0m in \u001b[0;36m<module>\u001b[1;34m\u001b[0m\n\u001b[0;32m     34\u001b[0m \u001b[1;31m# Esperar a que se cargue la página y luego hacer clic en el botón \"Exportar a Excel\"\u001b[0m\u001b[1;33m\u001b[0m\u001b[1;33m\u001b[0m\u001b[0m\n\u001b[0;32m     35\u001b[0m \u001b[0mwait\u001b[0m \u001b[1;33m=\u001b[0m \u001b[0mWebDriverWait\u001b[0m\u001b[1;33m(\u001b[0m\u001b[0mdriver\u001b[0m\u001b[1;33m,\u001b[0m \u001b[1;36m10\u001b[0m\u001b[1;33m)\u001b[0m\u001b[1;33m\u001b[0m\u001b[1;33m\u001b[0m\u001b[0m\n\u001b[1;32m---> 36\u001b[1;33m \u001b[0mexport_button\u001b[0m \u001b[1;33m=\u001b[0m \u001b[0mwait\u001b[0m\u001b[1;33m.\u001b[0m\u001b[0muntil\u001b[0m\u001b[1;33m(\u001b[0m\u001b[0mEC\u001b[0m\u001b[1;33m.\u001b[0m\u001b[0melement_to_be_clickable\u001b[0m\u001b[1;33m(\u001b[0m\u001b[1;33m(\u001b[0m\u001b[0mBy\u001b[0m\u001b[1;33m.\u001b[0m\u001b[0mXPATH\u001b[0m\u001b[1;33m,\u001b[0m \u001b[1;34m\"//a[@title='Exportar a Excel']\"\u001b[0m\u001b[1;33m)\u001b[0m\u001b[1;33m)\u001b[0m\u001b[1;33m)\u001b[0m\u001b[1;33m\u001b[0m\u001b[1;33m\u001b[0m\u001b[0m\n\u001b[0m\u001b[0;32m     37\u001b[0m \u001b[0mexport_button\u001b[0m\u001b[1;33m.\u001b[0m\u001b[0mclick\u001b[0m\u001b[1;33m(\u001b[0m\u001b[1;33m)\u001b[0m\u001b[1;33m\u001b[0m\u001b[1;33m\u001b[0m\u001b[0m\n\u001b[0;32m     38\u001b[0m \u001b[1;33m\u001b[0m\u001b[0m\n",
      "\u001b[1;32mD:\\Programes\\Anaconda3\\lib\\site-packages\\selenium\\webdriver\\support\\wait.py\u001b[0m in \u001b[0;36muntil\u001b[1;34m(self, method, message)\u001b[0m\n\u001b[0;32m     93\u001b[0m             \u001b[1;32mif\u001b[0m \u001b[0mtime\u001b[0m\u001b[1;33m.\u001b[0m\u001b[0mmonotonic\u001b[0m\u001b[1;33m(\u001b[0m\u001b[1;33m)\u001b[0m \u001b[1;33m>\u001b[0m \u001b[0mend_time\u001b[0m\u001b[1;33m:\u001b[0m\u001b[1;33m\u001b[0m\u001b[1;33m\u001b[0m\u001b[0m\n\u001b[0;32m     94\u001b[0m                 \u001b[1;32mbreak\u001b[0m\u001b[1;33m\u001b[0m\u001b[1;33m\u001b[0m\u001b[0m\n\u001b[1;32m---> 95\u001b[1;33m         \u001b[1;32mraise\u001b[0m \u001b[0mTimeoutException\u001b[0m\u001b[1;33m(\u001b[0m\u001b[0mmessage\u001b[0m\u001b[1;33m,\u001b[0m \u001b[0mscreen\u001b[0m\u001b[1;33m,\u001b[0m \u001b[0mstacktrace\u001b[0m\u001b[1;33m)\u001b[0m\u001b[1;33m\u001b[0m\u001b[1;33m\u001b[0m\u001b[0m\n\u001b[0m\u001b[0;32m     96\u001b[0m \u001b[1;33m\u001b[0m\u001b[0m\n\u001b[0;32m     97\u001b[0m     \u001b[1;32mdef\u001b[0m \u001b[0muntil_not\u001b[0m\u001b[1;33m(\u001b[0m\u001b[0mself\u001b[0m\u001b[1;33m,\u001b[0m \u001b[0mmethod\u001b[0m\u001b[1;33m,\u001b[0m \u001b[0mmessage\u001b[0m\u001b[1;33m:\u001b[0m \u001b[0mstr\u001b[0m \u001b[1;33m=\u001b[0m \u001b[1;34m\"\"\u001b[0m\u001b[1;33m)\u001b[0m\u001b[1;33m:\u001b[0m\u001b[1;33m\u001b[0m\u001b[1;33m\u001b[0m\u001b[0m\n",
      "\u001b[1;31mTimeoutException\u001b[0m: Message: \nStacktrace:\nBacktrace:\n\tMicrosoft::Applications::Events::EventProperties::SetProperty [0x00007FF60A7448E2+14722]\n\tMicrosoft::Applications::Events::EventProperty::EventProperty [0x00007FF60A6DB972+817410]\n\t(No symbol) [0x00007FF60A36DB50]\n\t(No symbol) [0x00007FF60A3B0585]\n\t(No symbol) [0x00007FF60A3B070C]\n\t(No symbol) [0x00007FF60A3EC277]\n\t(No symbol) [0x00007FF60A3D06CF]\n\t(No symbol) [0x00007FF60A3A3121]\n\t(No symbol) [0x00007FF60A3E96FE]\n\t(No symbol) [0x00007FF60A3D0343]\n\t(No symbol) [0x00007FF60A3A1FFC]\n\t(No symbol) [0x00007FF60A3A0F7E]\n\t(No symbol) [0x00007FF60A3A27EE]\n\tMicrosoft::Applications::Events::EventProperties::SetProperty [0x00007FF60A5BF580+181072]\n\t(No symbol) [0x00007FF60A4707F7]\n\tMicrosoft::Applications::Events::EventProperty::EventProperty [0x00007FF60A620252+49634]\n\tMicrosoft::Applications::Events::EventProperty::EventProperty [0x00007FF60A623455+62437]\n\tMicrosoft::Applications::Events::ILogManager::DispatchEventBroadcast [0x00007FF60A932018+1407928]\n\tMicrosoft::Applications::Events::EventProperty::EventProperty [0x00007FF60A6E3E7F+851471]\n\tMicrosoft::Applications::Events::EventProperty::EventProperty [0x00007FF60A6E8EE4+872052]\n\tMicrosoft::Applications::Events::EventProperty::EventProperty [0x00007FF60A6E903C+872396]\n\tMicrosoft::Applications::Events::EventProperty::EventProperty [0x00007FF60A6F134B+905947]\n\tBaseThreadInitThunk [0x00007FFDD3D37614+20]\n\tRtlUserThreadStart [0x00007FFDD4F826A1+33]\n"
     ]
    }
   ],
   "source": [
    "import os\n",
    "import selenium.webdriver as webdriver\n",
    "from selenium.webdriver.edge.service import Service\n",
    "from selenium.webdriver.edge.options import Options\n",
    "\n",
    "# intialzie chrome service\n",
    "user_agent = 'Mozilla/5.0 (Windows NT 10.0; Win64; x64) AppleWebKit/537.36 (KHTML, like Gecko) Chrome/110.0.0.0 Safari/537.36 Edg/110.0.1587.63'\n",
    "edge_driver_path = os.path.join(os.getcwd(), 'msedgedriver.exe')\n",
    "edge_service = Service(edge_driver_path)\n",
    "edge_options = Options()\n",
    "edge_options.add_argument(f'user-agent={user_agent}')\n",
    "browser = webdriver.Edge(service=edge_service, options=edge_options)\n",
    "\n",
    "\n",
    "edge_options.use_chromium = True\n",
    "edge_options.add_argument(\"--start-maximized\")\n",
    "edge_options.add_argument(\"--disable-extensions\")\n",
    "edge_options.add_argument(\"--disable-gpu\")\n",
    "edge_options.add_argument(\"--disable-infobars\")\n",
    "edge_options.add_argument(\"--headless\")\n",
    "\n",
    "# Definir ruta donde se descargará el archivo\n",
    "download_folder = data_path\n",
    "\n",
    "# Definir URL de la página\n",
    "url = \"https://www.bolsasymercados.es/bme-exchange/es/Mercados-y-Cotizaciones/Acciones/Mercado-Continuo/Precios/ibex-35-ES0SI0000005\"\n",
    "\n",
    "# Inicializar el navegador Microsoft Edge\n",
    "driver = Edge(options=options)\n",
    "\n",
    "# Abrir la página web\n",
    "driver.get(url)\n",
    "\n",
    "# Esperar a que se cargue la página y luego hacer clic en el botón \"Exportar a Excel\"\n",
    "wait = WebDriverWait(driver, 10)\n",
    "export_button = wait.until(EC.element_to_be_clickable((By.XPATH, \"//a[@title='Exportar a Excel']\")))\n",
    "export_button.click()\n",
    "\n",
    "# Esperar a que el archivo se descargue\n",
    "wait.until(EC.url_contains(\".xlsx\"))\n",
    "\n",
    "# Cerrar el navegador\n",
    "driver.quit()"
   ]
  },
  {
   "cell_type": "code",
   "execution_count": 32,
   "id": "40b76cac-554f-440b-b663-c19115cfa7e2",
   "metadata": {},
   "outputs": [
    {
     "ename": "IndexError",
     "evalue": "list index out of range",
     "output_type": "error",
     "traceback": [
      "\u001b[1;31m---------------------------------------------------------------------------\u001b[0m",
      "\u001b[1;31mIndexError\u001b[0m                                Traceback (most recent call last)",
      "\u001b[1;32m~\\AppData\\Local\\Temp\\ipykernel_19952\\3292082765.py\u001b[0m in \u001b[0;36m<module>\u001b[1;34m\u001b[0m\n\u001b[0;32m     38\u001b[0m     \u001b[0mrows\u001b[0m\u001b[1;33m.\u001b[0m\u001b[0mappend\u001b[0m\u001b[1;33m(\u001b[0m\u001b[0mdata\u001b[0m\u001b[1;33m)\u001b[0m\u001b[1;33m\u001b[0m\u001b[1;33m\u001b[0m\u001b[0m\n\u001b[0;32m     39\u001b[0m \u001b[1;33m\u001b[0m\u001b[0m\n\u001b[1;32m---> 40\u001b[1;33m \u001b[0mibex35\u001b[0m \u001b[1;33m=\u001b[0m \u001b[0mpd\u001b[0m\u001b[1;33m.\u001b[0m\u001b[0mDataFrame\u001b[0m\u001b[1;33m(\u001b[0m\u001b[0mrows\u001b[0m\u001b[1;33m[\u001b[0m\u001b[1;36m1\u001b[0m\u001b[1;33m:\u001b[0m\u001b[1;33m]\u001b[0m\u001b[1;33m,\u001b[0m \u001b[0mcolumns\u001b[0m \u001b[1;33m=\u001b[0m \u001b[0mrows\u001b[0m\u001b[1;33m[\u001b[0m\u001b[1;36m0\u001b[0m\u001b[1;33m]\u001b[0m\u001b[1;33m)\u001b[0m\u001b[1;33m\u001b[0m\u001b[1;33m\u001b[0m\u001b[0m\n\u001b[0m\u001b[0;32m     41\u001b[0m \u001b[0mprint\u001b[0m\u001b[1;33m(\u001b[0m\u001b[0mibex35\u001b[0m\u001b[1;33m)\u001b[0m\u001b[1;33m\u001b[0m\u001b[1;33m\u001b[0m\u001b[0m\n\u001b[0;32m     42\u001b[0m \u001b[1;33m\u001b[0m\u001b[0m\n",
      "\u001b[1;31mIndexError\u001b[0m: list index out of range"
     ]
    }
   ],
   "source": [
    "import os\n",
    "import selenium.webdriver as webdriver\n",
    "from selenium.webdriver.edge.service import Service\n",
    "from selenium.webdriver.edge.options import Options\n",
    "\n",
    "# intialzie chrome service\n",
    "user_agent = 'Mozilla/5.0 (Windows NT 10.0; Win64; x64) AppleWebKit/537.36 (KHTML, like Gecko) Chrome/110.0.0.0 Safari/537.36 Edg/110.0.1587.63'\n",
    "edge_driver_path = os.path.join(os.getcwd(), 'msedgedriver.exe')\n",
    "edge_service = Service(edge_driver_path)\n",
    "edge_options = Options()\n",
    "edge_options.add_argument(f'user-agent={user_agent}')\n",
    "browser = webdriver.Edge(service=edge_service, options=edge_options)\n",
    "\n",
    "edge_options.use_chromium = True\n",
    "edge_options.add_argument(\"--start-maximized\")\n",
    "edge_options.add_argument(\"--disable-extensions\")\n",
    "edge_options.add_argument(\"--disable-gpu\")\n",
    "edge_options.add_argument(\"--disable-infobars\")\n",
    "edge_options.add_argument(\"--headless\")\n",
    "\n",
    "# Definir ruta donde se descargará el archivo\n",
    "download_folder = data_path\n",
    "\n",
    "# Definir URL de la página\n",
    "url = \"https://www.bolsasymercados.es/bme-exchange/es/Mercados-y-Cotizaciones/Acciones/Mercado-Continuo/Precios/ibex-35-ES0SI0000005\"\n",
    "\n",
    "# Inicializar el navegador Microsoft Edge\n",
    "driver = Edge(options=options)\n",
    "\n",
    "# Abrir la página web\n",
    "driver.get(url)\n",
    "\n",
    "rows = []\n",
    "table = driver.find_elements(by= By.XPATH, value = '//*[contains(@class,\"index-table\")]//tr')\n",
    "for row in table:\n",
    "    print(table)\n",
    "    data = [item.text for item in row.find_elements(by= By.XPATH, value= \".//*[self::td or self::th]\")]\n",
    "    # afegim les dades per files\n",
    "    rows.append(data)\n",
    "\n",
    "ibex35 = pd.DataFrame(rows[1:], columns = rows[0])\n",
    "print(ibex35)\n",
    "\n",
    "rows = []\n",
    "for table in driver.find_elements(by= By.XPATH, value = '//*[contains(@class,\"shares-table\")]//tr'):\n",
    "    data = [item.text for item in table.find_elements(by= By.XPATH, value= \".//*[self::td or self::th]\")]\n",
    "    # afegim les dades per files\n",
    "    rows.append(data)\n",
    "        \n",
    "# la primera filera és la que pertany als noms de les columnes.\n",
    "stock_indices = pd.DataFrame(rows[1:], columns = rows[0])\n",
    "stock_indices"
   ]
  },
  {
   "cell_type": "code",
   "execution_count": 41,
   "id": "5e502151-f89a-405d-90ab-983a0aa4f93e",
   "metadata": {},
   "outputs": [
    {
     "data": {
      "text/plain": [
       "<selenium.webdriver.remote.webelement.WebElement (session=\"7421e96ba2363a317d8266b446ea6aa4\", element=\"45b7d812-1012-4171-b41f-8ffc470c5ae7\")>"
      ]
     },
     "execution_count": 41,
     "metadata": {},
     "output_type": "execute_result"
    }
   ],
   "source": [
    "driver.find_elements(by= By.XPATH, value = '//*[contains(@class,\"index-table\")]//tr')[0]"
   ]
  },
  {
   "cell_type": "code",
   "execution_count": 40,
   "id": "b4da4931-75e7-4af5-9ed9-b2dcf083859b",
   "metadata": {},
   "outputs": [
    {
     "data": {
      "text/plain": [
       "'Índice'"
      ]
     },
     "execution_count": 40,
     "metadata": {},
     "output_type": "execute_result"
    }
   ],
   "source": [
    "table.find_elements(by= By.XPATH, value= \".//*[self::td or self::th]\")[0].text"
   ]
  },
  {
   "cell_type": "code",
   "execution_count": 46,
   "id": "5677e7b7-f36e-460d-9af9-f689a8fb5225",
   "metadata": {},
   "outputs": [
    {
     "name": "stdout",
     "output_type": "stream",
     "text": [
      "[<selenium.webdriver.remote.webelement.WebElement (session=\"7421e96ba2363a317d8266b446ea6aa4\", element=\"45b7d812-1012-4171-b41f-8ffc470c5ae7\")>, <selenium.webdriver.remote.webelement.WebElement (session=\"7421e96ba2363a317d8266b446ea6aa4\", element=\"caf062fc-0636-4db1-9829-ee640114693f\")>]\n",
      "[<selenium.webdriver.remote.webelement.WebElement (session=\"7421e96ba2363a317d8266b446ea6aa4\", element=\"45b7d812-1012-4171-b41f-8ffc470c5ae7\")>, <selenium.webdriver.remote.webelement.WebElement (session=\"7421e96ba2363a317d8266b446ea6aa4\", element=\"caf062fc-0636-4db1-9829-ee640114693f\")>]\n"
     ]
    }
   ],
   "source": [
    "rows = []\n",
    "table = driver.find_elements(by= By.XPATH, value = '//*[contains(@class,\"index-table\")]//tr')\n",
    "for row in table:\n",
    "    print(table)\n",
    "    data = [item.text for item in row.find_elements(by= By.XPATH, value= \".//*[self::td or self::th]\")]\n",
    "    # afegim les dades per files\n",
    "    rows.append(data)"
   ]
  },
  {
   "cell_type": "code",
   "execution_count": 43,
   "id": "1e25e81b-6293-41fe-9ae0-f0aab9e99380",
   "metadata": {},
   "outputs": [
    {
     "data": {
      "text/plain": [
       "[['Índice',\n",
       "  'Último',\n",
       "  '% Dif.',\n",
       "  'Máximo',\n",
       "  'Mínimo',\n",
       "  'Fecha',\n",
       "  'Hora',\n",
       "  '% Dif. Año'],\n",
       " ['IBEX 35®',\n",
       "  '9.285,00',\n",
       "  '-1,47%',\n",
       "  '9.296,50',\n",
       "  '9.182,70',\n",
       "  '10/03/2023',\n",
       "  '17:38:00',\n",
       "  '12,83%']]"
      ]
     },
     "execution_count": 43,
     "metadata": {},
     "output_type": "execute_result"
    }
   ],
   "source": [
    "rows"
   ]
  }
 ],
 "metadata": {
  "kernelspec": {
   "display_name": "Python 3 (ipykernel)",
   "language": "python",
   "name": "python3"
  },
  "language_info": {
   "codemirror_mode": {
    "name": "ipython",
    "version": 3
   },
   "file_extension": ".py",
   "mimetype": "text/x-python",
   "name": "python",
   "nbconvert_exporter": "python",
   "pygments_lexer": "ipython3",
   "version": "3.9.7"
  }
 },
 "nbformat": 4,
 "nbformat_minor": 5
}
