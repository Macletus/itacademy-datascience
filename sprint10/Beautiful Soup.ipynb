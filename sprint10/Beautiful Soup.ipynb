{
 "cells": [
  {
   "cell_type": "code",
   "execution_count": 9,
   "id": "9e73d824-e173-481a-b0ac-94cc260cdafd",
   "metadata": {},
   "outputs": [
    {
     "name": "stdout",
     "output_type": "stream",
     "text": [
      "“The world as we have created it is a process of our thinking. It cannot be changed without changing our thinking.” - Albert Einstein - ['change', 'deep-thoughts', 'thinking', 'world']\n",
      "“It is our choices, Harry, that show what we truly are, far more than our abilities.” - J.K. Rowling - ['abilities', 'choices']\n",
      "“There are only two ways to live your life. One is as though nothing is a miracle. The other is as though everything is a miracle.” - Albert Einstein - ['inspirational', 'life', 'live', 'miracle', 'miracles']\n",
      "“The person, be it gentleman or lady, who has not pleasure in a good novel, must be intolerably stupid.” - Jane Austen - ['aliteracy', 'books', 'classic', 'humor']\n",
      "“Imperfection is beauty, madness is genius and it's better to be absolutely ridiculous than absolutely boring.” - Marilyn Monroe - ['be-yourself', 'inspirational']\n",
      "“Try not to become a man of success. Rather become a man of value.” - Albert Einstein - ['adulthood', 'success', 'value']\n",
      "“It is better to be hated for what you are than to be loved for what you are not.” - André Gide - ['life', 'love']\n",
      "“I have not failed. I've just found 10,000 ways that won't work.” - Thomas A. Edison - ['edison', 'failure', 'inspirational', 'paraphrased']\n",
      "“A woman is like a tea bag; you never know how strong it is until it's in hot water.” - Eleanor Roosevelt - ['misattributed-eleanor-roosevelt']\n",
      "“A day without sunshine is like, you know, night.” - Steve Martin - ['humor', 'obvious', 'simile']\n"
     ]
    }
   ],
   "source": [
    "import requests\n",
    "from bs4 import BeautifulSoup\n",
    "\n",
    "# URL de la página\n",
    "url = \"http://quotes.toscrape.com/\"\n",
    "\n",
    "# Realizamos la petición a la página\n",
    "r = requests.get(url)\n",
    "\n",
    "# Creamos un objeto BeautifulSoup con el contenido HTML de la página\n",
    "soup = BeautifulSoup(r.content, \"html.parser\")\n",
    "\n",
    "# Buscamos los datos de interés en la página\n",
    "quotes = soup.find_all(\"div\", {\"class\": \"quote\"})\n",
    "\n",
    "# Procesamos cada cita obtenida\n",
    "for quote in quotes:\n",
    "    text = quote.find(\"span\", {\"class\": \"text\"}).text\n",
    "    author = quote.find(\"small\", {\"class\": \"author\"}).text\n",
    "    tags = [tag.text for tag in quote.find_all(\"a\", {\"class\": \"tag\"})]\n",
    "\n",
    "    print(f\"{text} - {author} - {tags}\")"
   ]
  },
  {
   "cell_type": "code",
   "execution_count": 4,
   "id": "c6dd5d48-b7f7-4e2e-a883-21698dc09551",
   "metadata": {},
   "outputs": [
    {
     "ename": "UnicodeEncodeError",
     "evalue": "'charmap' codec can't encode character '\\u2212' in position 0: character maps to <undefined>",
     "output_type": "error",
     "traceback": [
      "\u001b[1;31m---------------------------------------------------------------------------\u001b[0m",
      "\u001b[1;31mUnicodeEncodeError\u001b[0m                        Traceback (most recent call last)",
      "\u001b[1;32m~\\AppData\\Local\\Temp\\ipykernel_18084\\1365389848.py\u001b[0m in \u001b[0;36m<module>\u001b[1;34m\u001b[0m\n\u001b[0;32m     31\u001b[0m         \u001b[1;32mif\u001b[0m \u001b[0mcells\u001b[0m\u001b[1;33m:\u001b[0m\u001b[1;33m\u001b[0m\u001b[1;33m\u001b[0m\u001b[0m\n\u001b[0;32m     32\u001b[0m             \u001b[0mrow_values\u001b[0m \u001b[1;33m=\u001b[0m \u001b[1;33m[\u001b[0m\u001b[0mcell\u001b[0m\u001b[1;33m.\u001b[0m\u001b[0mtext\u001b[0m\u001b[1;33m.\u001b[0m\u001b[0mstrip\u001b[0m\u001b[1;33m(\u001b[0m\u001b[1;33m)\u001b[0m \u001b[1;32mfor\u001b[0m \u001b[0mcell\u001b[0m \u001b[1;32min\u001b[0m \u001b[0mcells\u001b[0m\u001b[1;33m]\u001b[0m\u001b[1;33m\u001b[0m\u001b[1;33m\u001b[0m\u001b[0m\n\u001b[1;32m---> 33\u001b[1;33m             \u001b[0mwriter\u001b[0m\u001b[1;33m.\u001b[0m\u001b[0mwriterow\u001b[0m\u001b[1;33m(\u001b[0m\u001b[0mrow_values\u001b[0m\u001b[1;33m)\u001b[0m\u001b[1;33m\u001b[0m\u001b[1;33m\u001b[0m\u001b[0m\n\u001b[0m\u001b[0;32m     34\u001b[0m \u001b[1;33m\u001b[0m\u001b[0m\n\u001b[0;32m     35\u001b[0m \u001b[1;31m# Imprimimos un mensaje de éxito\u001b[0m\u001b[1;33m\u001b[0m\u001b[1;33m\u001b[0m\u001b[0m\n",
      "\u001b[1;32mD:\\Programes\\Anaconda3\\lib\\encodings\\cp1252.py\u001b[0m in \u001b[0;36mencode\u001b[1;34m(self, input, final)\u001b[0m\n\u001b[0;32m     17\u001b[0m \u001b[1;32mclass\u001b[0m \u001b[0mIncrementalEncoder\u001b[0m\u001b[1;33m(\u001b[0m\u001b[0mcodecs\u001b[0m\u001b[1;33m.\u001b[0m\u001b[0mIncrementalEncoder\u001b[0m\u001b[1;33m)\u001b[0m\u001b[1;33m:\u001b[0m\u001b[1;33m\u001b[0m\u001b[1;33m\u001b[0m\u001b[0m\n\u001b[0;32m     18\u001b[0m     \u001b[1;32mdef\u001b[0m \u001b[0mencode\u001b[0m\u001b[1;33m(\u001b[0m\u001b[0mself\u001b[0m\u001b[1;33m,\u001b[0m \u001b[0minput\u001b[0m\u001b[1;33m,\u001b[0m \u001b[0mfinal\u001b[0m\u001b[1;33m=\u001b[0m\u001b[1;32mFalse\u001b[0m\u001b[1;33m)\u001b[0m\u001b[1;33m:\u001b[0m\u001b[1;33m\u001b[0m\u001b[1;33m\u001b[0m\u001b[0m\n\u001b[1;32m---> 19\u001b[1;33m         \u001b[1;32mreturn\u001b[0m \u001b[0mcodecs\u001b[0m\u001b[1;33m.\u001b[0m\u001b[0mcharmap_encode\u001b[0m\u001b[1;33m(\u001b[0m\u001b[0minput\u001b[0m\u001b[1;33m,\u001b[0m\u001b[0mself\u001b[0m\u001b[1;33m.\u001b[0m\u001b[0merrors\u001b[0m\u001b[1;33m,\u001b[0m\u001b[0mencoding_table\u001b[0m\u001b[1;33m)\u001b[0m\u001b[1;33m[\u001b[0m\u001b[1;36m0\u001b[0m\u001b[1;33m]\u001b[0m\u001b[1;33m\u001b[0m\u001b[1;33m\u001b[0m\u001b[0m\n\u001b[0m\u001b[0;32m     20\u001b[0m \u001b[1;33m\u001b[0m\u001b[0m\n\u001b[0;32m     21\u001b[0m \u001b[1;32mclass\u001b[0m \u001b[0mIncrementalDecoder\u001b[0m\u001b[1;33m(\u001b[0m\u001b[0mcodecs\u001b[0m\u001b[1;33m.\u001b[0m\u001b[0mIncrementalDecoder\u001b[0m\u001b[1;33m)\u001b[0m\u001b[1;33m:\u001b[0m\u001b[1;33m\u001b[0m\u001b[1;33m\u001b[0m\u001b[0m\n",
      "\u001b[1;31mUnicodeEncodeError\u001b[0m: 'charmap' codec can't encode character '\\u2212' in position 0: character maps to <undefined>"
     ]
    }
   ],
   "source": [
    "import requests\n",
    "from bs4 import BeautifulSoup\n",
    "import csv\n",
    "\n",
    "# URL de la página\n",
    "url = \"https://en.wikipedia.org/wiki/Valencia\"\n",
    "\n",
    "# Realizamos la petición HTTP y obtenemos el HTML de la página\n",
    "response = requests.get(url)\n",
    "html = response.content\n",
    "\n",
    "# Creamos una instancia de BeautifulSoup para procesar el HTML\n",
    "soup = BeautifulSoup(html, \"html.parser\")\n",
    "\n",
    "# Buscamos la tabla de datos climatológicos por su clase CSS\n",
    "table = soup.find(\"table\", {\"class\": \"wikitable\"})\n",
    "\n",
    "# Procesamos cada fila de la tabla y escribimos sus valores en un archivo CSV\n",
    "with open(\"datos_climaticos.csv\", \"w\", newline=\"\") as f:\n",
    "    writer = csv.writer(f)\n",
    "\n",
    "    # Obtenemos las filas de la tabla\n",
    "    rows = table.find_all(\"tr\")\n",
    "\n",
    "    # Procesamos cada fila\n",
    "    for row in rows:\n",
    "        # Obtenemos las celdas de la fila\n",
    "        cells = row.find_all(\"td\")\n",
    "\n",
    "        # Si la fila tiene celdas, escribimos sus valores en el archivo CSV\n",
    "        if cells:\n",
    "            row_values = [cell.text.strip() for cell in cells]\n",
    "            writer.writerow(row_values)\n",
    "\n",
    "# Imprimimos un mensaje de éxito\n",
    "print(\"Datos climatológicos descargados correctamente.\")"
   ]
  },
  {
   "cell_type": "code",
   "execution_count": 100,
   "id": "212ca241-6798-4899-8a58-c266270c98e5",
   "metadata": {},
   "outputs": [
    {
     "name": "stdout",
     "output_type": "stream",
     "text": [
      "Datos climatológicos descargados correctamente.\n"
     ]
    }
   ],
   "source": [
    "import requests\n",
    "from bs4 import BeautifulSoup\n",
    "import pandas as pd\n",
    "\n",
    "# URL de la página\n",
    "url = \"https://en.wikipedia.org/wiki/Valencia\"\n",
    "\n",
    "# Realizamos la petición HTTP y obtenemos el HTML de la página\n",
    "response = requests.get(url)\n",
    "html = response.content\n",
    "\n",
    "# Creamos una instancia de BeautifulSoup para procesar el HTML\n",
    "soup = BeautifulSoup(html, \"html.parser\")\n",
    "\n",
    "# Buscamos la tabla de datos climatológicos por su clase CSS\n",
    "table = soup.find(\"table\", {\"class\": \"wikitable\"})\n",
    "\n",
    "# Procesamos cada fila de la tabla y escribimos sus valores en un DataFrame\n",
    "rows = table.find_all(\"tr\")\n",
    "data = []\n",
    "columns = []\n",
    "index_names = []\n",
    "\n",
    "for i, row in enumerate(rows):\n",
    "    # Obtenemos las celdas de la fila\n",
    "    head = row.find_all(\"th\")\n",
    "    cells = row.find_all(\"td\")\n",
    "    \n",
    "    # Si la fila tiene celdas, procesamos sus valores\n",
    "    if head:\n",
    "        row_values = [cell.text.strip() for cell in head]\n",
    "        if 'Jan' in row_values:\n",
    "            months = row_values\n",
    "        elif len(row_values[0]) < 40:\n",
    "            index_names.append(row_values)\n",
    "    \n",
    "    # Si la fila tiene celdas, procesamos sus valores\n",
    "    if cells:\n",
    "        row_values = [cell.text.strip() for cell in cells]\n",
    "        if 'Source' not in row_values[0]:\n",
    "            data.append(row_values)\n",
    "months = [months for months in months if 'Month' not in months]\n",
    "\n",
    "# Creamos el DataFrame\n",
    "\n",
    "import itertools\n",
    "index_names_l = list(itertools.chain.from_iterable(index_names))\n",
    "\n",
    "df = pd.DataFrame(data, index=index_names_l,columns=months)"
   ]
  },
  {
   "cell_type": "code",
   "execution_count": null,
   "id": "583f49d4-9cdc-454c-bf37-357f77a3d794",
   "metadata": {},
   "outputs": [],
   "source": []
  },
  {
   "cell_type": "code",
   "execution_count": null,
   "id": "48b9e118-aac3-45a5-bbc7-3b992f5b6c16",
   "metadata": {},
   "outputs": [],
   "source": []
  }
 ],
 "metadata": {
  "kernelspec": {
   "display_name": "Python 3 (ipykernel)",
   "language": "python",
   "name": "python3"
  },
  "language_info": {
   "codemirror_mode": {
    "name": "ipython",
    "version": 3
   },
   "file_extension": ".py",
   "mimetype": "text/x-python",
   "name": "python",
   "nbconvert_exporter": "python",
   "pygments_lexer": "ipython3",
   "version": "3.9.7"
  }
 },
 "nbformat": 4,
 "nbformat_minor": 5
}
