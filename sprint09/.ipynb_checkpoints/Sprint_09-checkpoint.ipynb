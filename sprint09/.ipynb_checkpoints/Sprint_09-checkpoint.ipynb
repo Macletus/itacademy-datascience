{
 "cells": [
  {
   "cell_type": "markdown",
   "id": "de4a74a3-8a1a-4f1a-a74f-e2c1c4b07ee2",
   "metadata": {},
   "source": [
    "<h1><center>Sprint 9</center></h1>\n",
    "<h2><center>Tasca 1: anàlisi de sentiment i textos.</center></h2>"
   ]
  },
  {
   "cell_type": "markdown",
   "id": "47673eff-1a57-4aac-97fe-e76180bbfc5e",
   "metadata": {},
   "source": [
    "- **Exercici 1**\n",
    "\n",
    "Agafa un text en anglès que vulguis, i calcula'n la freqüència de les paraules.\n",
    "\n",
    "\n",
    "- **Exercici 2**\n",
    "\n",
    "Treu les stopwords i realitza stemming al teu conjunt de dades.\n",
    "\n",
    "\n",
    "- **Exercici 3**\n",
    "\n",
    "Realitza sentiment analysis al teu conjunt de dades."
   ]
  },
  {
   "cell_type": "code",
   "execution_count": 3,
   "id": "c5a2e080-0e6f-4f6c-a1e8-2508178ebea5",
   "metadata": {},
   "outputs": [],
   "source": [
    "from pathlib import Path\n",
    "import numpy as np\n",
    "import pandas as pd"
   ]
  },
  {
   "cell_type": "code",
   "execution_count": 4,
   "id": "fdeb4b73-f069-45b6-8578-a40ef4c98233",
   "metadata": {},
   "outputs": [],
   "source": [
    "# file paths\n",
    "data_path = 'D:\\Sistema_Solar\\Python\\itacademy\\sprint09\\data\\mmo'\n",
    "data_path = Path(data_path)"
   ]
  },
  {
   "cell_type": "code",
   "execution_count": 14,
   "id": "ff904898-1445-48f8-b800-c230ef0ff61c",
   "metadata": {},
   "outputs": [
    {
     "ename": "UnicodeDecodeError",
     "evalue": "'charmap' codec can't decode byte 0x9d in position 635: character maps to <undefined>",
     "output_type": "error",
     "traceback": [
      "\u001b[1;31m---------------------------------------------------------------------------\u001b[0m",
      "\u001b[1;31mUnicodeDecodeError\u001b[0m                        Traceback (most recent call last)",
      "\u001b[1;32m~\\AppData\\Local\\Temp\\ipykernel_12964\\2055918795.py\u001b[0m in \u001b[0;36m<module>\u001b[1;34m\u001b[0m\n\u001b[0;32m      3\u001b[0m \u001b[0mfile\u001b[0m \u001b[1;33m=\u001b[0m \u001b[0mdata_path\u001b[0m \u001b[1;33m/\u001b[0m \u001b[0mfile_name\u001b[0m\u001b[1;33m\u001b[0m\u001b[1;33m\u001b[0m\u001b[0m\n\u001b[0;32m      4\u001b[0m \u001b[0mf\u001b[0m \u001b[1;33m=\u001b[0m \u001b[0mopen\u001b[0m\u001b[1;33m(\u001b[0m\u001b[0mfile\u001b[0m\u001b[1;33m,\u001b[0m \u001b[1;34m\"r\"\u001b[0m\u001b[1;33m)\u001b[0m\u001b[1;33m\u001b[0m\u001b[1;33m\u001b[0m\u001b[0m\n\u001b[1;32m----> 5\u001b[1;33m \u001b[0mprint\u001b[0m\u001b[1;33m(\u001b[0m\u001b[0mf\u001b[0m\u001b[1;33m.\u001b[0m\u001b[0mread\u001b[0m\u001b[1;33m(\u001b[0m\u001b[1;33m)\u001b[0m\u001b[1;33m)\u001b[0m\u001b[1;33m\u001b[0m\u001b[1;33m\u001b[0m\u001b[0m\n\u001b[0m",
      "\u001b[1;32mD:\\Programes\\Anaconda3\\lib\\encodings\\cp1252.py\u001b[0m in \u001b[0;36mdecode\u001b[1;34m(self, input, final)\u001b[0m\n\u001b[0;32m     21\u001b[0m \u001b[1;32mclass\u001b[0m \u001b[0mIncrementalDecoder\u001b[0m\u001b[1;33m(\u001b[0m\u001b[0mcodecs\u001b[0m\u001b[1;33m.\u001b[0m\u001b[0mIncrementalDecoder\u001b[0m\u001b[1;33m)\u001b[0m\u001b[1;33m:\u001b[0m\u001b[1;33m\u001b[0m\u001b[1;33m\u001b[0m\u001b[0m\n\u001b[0;32m     22\u001b[0m     \u001b[1;32mdef\u001b[0m \u001b[0mdecode\u001b[0m\u001b[1;33m(\u001b[0m\u001b[0mself\u001b[0m\u001b[1;33m,\u001b[0m \u001b[0minput\u001b[0m\u001b[1;33m,\u001b[0m \u001b[0mfinal\u001b[0m\u001b[1;33m=\u001b[0m\u001b[1;32mFalse\u001b[0m\u001b[1;33m)\u001b[0m\u001b[1;33m:\u001b[0m\u001b[1;33m\u001b[0m\u001b[1;33m\u001b[0m\u001b[0m\n\u001b[1;32m---> 23\u001b[1;33m         \u001b[1;32mreturn\u001b[0m \u001b[0mcodecs\u001b[0m\u001b[1;33m.\u001b[0m\u001b[0mcharmap_decode\u001b[0m\u001b[1;33m(\u001b[0m\u001b[0minput\u001b[0m\u001b[1;33m,\u001b[0m\u001b[0mself\u001b[0m\u001b[1;33m.\u001b[0m\u001b[0merrors\u001b[0m\u001b[1;33m,\u001b[0m\u001b[0mdecoding_table\u001b[0m\u001b[1;33m)\u001b[0m\u001b[1;33m[\u001b[0m\u001b[1;36m0\u001b[0m\u001b[1;33m]\u001b[0m\u001b[1;33m\u001b[0m\u001b[1;33m\u001b[0m\u001b[0m\n\u001b[0m\u001b[0;32m     24\u001b[0m \u001b[1;33m\u001b[0m\u001b[0m\n\u001b[0;32m     25\u001b[0m \u001b[1;32mclass\u001b[0m \u001b[0mStreamWriter\u001b[0m\u001b[1;33m(\u001b[0m\u001b[0mCodec\u001b[0m\u001b[1;33m,\u001b[0m\u001b[0mcodecs\u001b[0m\u001b[1;33m.\u001b[0m\u001b[0mStreamWriter\u001b[0m\u001b[1;33m)\u001b[0m\u001b[1;33m:\u001b[0m\u001b[1;33m\u001b[0m\u001b[1;33m\u001b[0m\u001b[0m\n",
      "\u001b[1;31mUnicodeDecodeError\u001b[0m: 'charmap' codec can't decode byte 0x9d in position 635: character maps to <undefined>"
     ]
    }
   ],
   "source": [
    "# Apugem l'arxiu csv\n",
    "file_name = 'mmo.txt'\n",
    "file = data_path / file_name\n",
    "f = open(file, \"r\")\n",
    "print(f.read())"
   ]
  },
  {
   "cell_type": "code",
   "execution_count": 16,
   "id": "5afd8483-3e5d-4715-8bb1-06551af9f372",
   "metadata": {},
   "outputs": [
    {
     "name": "stdout",
     "output_type": "stream",
     "text": [
      "While first impressions are all well and good, the mark of a solid MMO release is whether or not it can sustain interest and high opinions over the long haul. So now that we’re a couple of months into Dragonflight, how’s it holding up?\n",
      "\n",
      "\n",
      "\n",
      "Gamer Lady P is still undecided with an opinion pulled in both directions: “I still have a few things I want to accomplish and some content I want to explore, but overall I’d have to give this expansion a low grade when it comes to keeping me engaged long term. There are some major strides in the right direction, but they still haven’t made end-game something I feel is sustainable.”\n",
      "\n",
      "\n",
      "\n",
      "\n",
      "\n",
      "\n",
      "\n",
      "\n",
      "\n",
      "Going Commando doesn’t quite see the appeal of SWTOR’s new and improved map: “Now, the old map is still there, so before you tell me that I could always just keep using that… it’s not that simple. You see, there are parts of the new pull-out map that I really like and don’t really want to be without anymore! However, there are also ways in which it kinda sucks.”\n",
      "\n",
      "\n",
      "\n",
      "Leo’s Life is on a Final Fantasy XIV bender as of late: “I’ve spent the last few weeks trying to complete as many systems as I could. It feels like going to a buffet, being stuffed, and realizing there are 3 dozen more buffets down the line.”\n",
      "\n",
      "\n",
      "\n",
      "\n",
      "\n",
      "\n",
      "\n",
      "Star Shadow explained why LOTRO’s Treebeard server, frankly, rocks: “The community, on the whole, is helpful and pleasant. Most of the kins are in contact with each other and the Treebeard discord helps with maintaining a community. It does get quiet at times and obviously we don’t have the population of the live servers, but there is always someone on and if you are in a kin, there is always company.”\n",
      "\n",
      "\n",
      "\n",
      "Galactic Antics has oh-so-many opinions on SWTOR’s galactic seasons: “I like the core system of Galactic Seasons quite a bit, especially with the majority of the changes introduced with season 2. It started out as being very tedious, but has since shifted into something that’s relatively easy to focus on without going overboard too much.”\n",
      "\n",
      "\n",
      "\n",
      "Always the level.\n",
      "\n",
      "\n",
      "\n",
      "MMO Folklorist looked at the terminology behind MMO rogue servers: “Many of these servers have active communities across social platforms, have been featured on major gaming news sites, and present themselves in a legitimate manner. They’re really anything but private as they attempt to make as many old (and new) players aware of their existence.”\n",
      "\n",
      "\n",
      "\n",
      "Indiecator is having a terrific time in Valheim: “Honestly, Valheim’s lovely though. It can be grindy but at the same time, there are lots of things to do… and it just sort of feels like OSRS but in modern and I like that a lot. Grinding up the running skill and jumping for no reason whatsoever… is fun.”\n",
      "\n"
     ]
    }
   ],
   "source": [
    "import codecs\n",
    "with codecs.open(file, encoding='utf-8') as f:\n",
    "    for line in f:\n",
    "        print (line)"
   ]
  }
 ],
 "metadata": {
  "kernelspec": {
   "display_name": "Python 3 (ipykernel)",
   "language": "python",
   "name": "python3"
  },
  "language_info": {
   "codemirror_mode": {
    "name": "ipython",
    "version": 3
   },
   "file_extension": ".py",
   "mimetype": "text/x-python",
   "name": "python",
   "nbconvert_exporter": "python",
   "pygments_lexer": "ipython3",
   "version": "3.9.7"
  }
 },
 "nbformat": 4,
 "nbformat_minor": 5
}
