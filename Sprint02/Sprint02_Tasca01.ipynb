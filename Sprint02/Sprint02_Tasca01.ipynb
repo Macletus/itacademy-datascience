{
 "cells": [
  {
   "cell_type": "markdown",
   "id": "05277453-c6a7-4379-baa1-81913f7d77c8",
   "metadata": {},
   "source": [
    "___Sprint 2___\n",
    "\n",
    "**Bàsics de Python**\n",
    "\n",
    "*Tasca 1*"
   ]
  },
  {
   "cell_type": "markdown",
   "id": "0d88f691-8270-4f01-9e06-4fd4b3cfe1dd",
   "metadata": {},
   "source": [
    "__Exercici 1__\n",
    "\n",
    "Crea una llista que agrupi els mesos de l’any en trimestres (1T: gener, febrer i març; 2T: abril, maig, juny...), és a dir, una llista amb 4 llistes dins.\n",
    "\n"
   ]
  },
  {
   "cell_type": "code",
   "execution_count": 1,
   "id": "4664fa04-378a-451b-91cc-ddd8e330465b",
   "metadata": {},
   "outputs": [],
   "source": [
    "mesos = [['gener','febrer','març'],['abril','maig','juny'],['juliol','agost','setembre'],['octubre','novembre','desembre']]"
   ]
  },
  {
   "cell_type": "markdown",
   "id": "8713bc3c-efc7-4c41-bc8f-88ebf13718f4",
   "metadata": {},
   "source": [
    "__Exercici 2__\n",
    "\n",
    "Crea un codi que et permeti accedir a:\n",
    "\n",
    "- El segon mes del primer trimestre.\n",
    "- Els mesos del primer trimestre.\n",
    "- Setembre i octubre."
   ]
  },
  {
   "cell_type": "code",
   "execution_count": 10,
   "id": "a92fb301-1313-49e4-8949-2f52da702c69",
   "metadata": {},
   "outputs": [
    {
     "name": "stdout",
     "output_type": "stream",
     "text": [
      "febrer\n",
      "['gener', 'febrer', 'març']\n",
      "setembre\n",
      "octubre\n",
      "['setembre', 'octubre']\n"
     ]
    }
   ],
   "source": [
    "tri1_mes2 = mesos[0][1]\n",
    "tri1 = mesos[0]\n",
    "setembre = mesos[2][2]\n",
    "octubre = mesos[3][0]\n",
    "set_oct = [setembre, octubre]\n",
    "\n",
    "print(tri1_mes2)\n",
    "print(tri1)\n",
    "print(setembre)\n",
    "print(octubre)\n",
    "print(set_oct)"
   ]
  },
  {
   "cell_type": "markdown",
   "id": "08856e55-d32f-4c19-bb57-61834f152f54",
   "metadata": {},
   "source": [
    "__Exercici 3__\n",
    "\n",
    "Crea una llista amb nombres desordenats i respon a les següents preguntes:\n",
    "\n",
    "\n",
    "\n",
    "\n",
    "\n",
    "\n",
    "\n"
   ]
  },
  {
   "cell_type": "code",
   "execution_count": 3,
   "id": "af16b520-ee6b-4756-ab80-fb3cbd72e7c3",
   "metadata": {},
   "outputs": [
    {
     "name": "stdout",
     "output_type": "stream",
     "text": [
      "[5, 0, 7, 1, 10, 10, 8, 6, 9, 4, 0, 4, 8, 7, 4, 9, 3, 10, 4, 8, 4, 6, 4, 6, 4, 0, 9, 2, 10, 4]\n"
     ]
    }
   ],
   "source": [
    "from random import randint\n",
    "  \n",
    "random_list = []\n",
    " \n",
    "for i in range(30):\n",
    "  random_list.append(randint(0, 10))\n",
    "   \n",
    "# Prints random items\n",
    "print(random_list)"
   ]
  },
  {
   "cell_type": "markdown",
   "id": "61e19507-b791-433a-8127-6290265265c5",
   "metadata": {},
   "source": [
    "- Quants números hi ha?"
   ]
  },
  {
   "cell_type": "code",
   "execution_count": 4,
   "id": "c17527aa-0783-4a1c-accc-217c0f37a22b",
   "metadata": {},
   "outputs": [
    {
     "data": {
      "text/plain": [
       "30"
      ]
     },
     "execution_count": 4,
     "metadata": {},
     "output_type": "execute_result"
    }
   ],
   "source": [
    "len(random_list)"
   ]
  },
  {
   "cell_type": "markdown",
   "id": "ceb855eb-3a56-4106-8b7f-b08bca4080ef",
   "metadata": {},
   "source": [
    "- Quantes vegades apareix el número 3?"
   ]
  },
  {
   "cell_type": "code",
   "execution_count": 5,
   "id": "debc1d4e-30d7-4d60-b3f1-8ad5bae422e0",
   "metadata": {},
   "outputs": [
    {
     "data": {
      "text/plain": [
       "1"
      ]
     },
     "execution_count": 5,
     "metadata": {},
     "output_type": "execute_result"
    }
   ],
   "source": [
    "random_list.count(3)"
   ]
  },
  {
   "cell_type": "markdown",
   "id": "e5b244d9-a4eb-4ba7-9565-6bfbd002748a",
   "metadata": {},
   "source": [
    "- Quantes vegades apareixen els nombres 3 i 4?"
   ]
  },
  {
   "cell_type": "code",
   "execution_count": 6,
   "id": "c203ad75-e014-405e-8d14-8a0b0d846163",
   "metadata": {},
   "outputs": [
    {
     "data": {
      "text/plain": [
       "9"
      ]
     },
     "execution_count": 6,
     "metadata": {},
     "output_type": "execute_result"
    }
   ],
   "source": [
    "random_list.count(3) + random_list.count(4)"
   ]
  },
  {
   "cell_type": "markdown",
   "id": "fdae2700-a7a6-4079-a3ca-71896a2ad7b1",
   "metadata": {},
   "source": [
    "- Quin és el número més gran?"
   ]
  },
  {
   "cell_type": "code",
   "execution_count": 7,
   "id": "d6cb3e26-81d1-47f2-901a-743290d4c553",
   "metadata": {},
   "outputs": [
    {
     "data": {
      "text/plain": [
       "10"
      ]
     },
     "execution_count": 7,
     "metadata": {},
     "output_type": "execute_result"
    }
   ],
   "source": [
    "max(random_list)"
   ]
  },
  {
   "cell_type": "markdown",
   "id": "4ccb6a3c-83b1-4e6f-8a33-3942eca6bef8",
   "metadata": {},
   "source": [
    "- Quins són els 3 números més petits?"
   ]
  },
  {
   "cell_type": "code",
   "execution_count": 8,
   "id": "abb1e27f-8d38-449e-9c83-b6f90157335f",
   "metadata": {},
   "outputs": [
    {
     "data": {
      "text/plain": [
       "[0, 0, 0]"
      ]
     },
     "execution_count": 8,
     "metadata": {},
     "output_type": "execute_result"
    }
   ],
   "source": [
    "sorted(random_list)[0:3]"
   ]
  },
  {
   "cell_type": "markdown",
   "id": "b1b72949-cd6a-4341-ba0b-f0b0ed3002f6",
   "metadata": {},
   "source": [
    "- Quin és el rang d’aquesta llista?"
   ]
  },
  {
   "cell_type": "code",
   "execution_count": 9,
   "id": "f3d54df4-b8dc-45ef-b5bd-cb1e9bc81019",
   "metadata": {},
   "outputs": [
    {
     "name": "stdout",
     "output_type": "stream",
     "text": [
      "[0, 10]\n"
     ]
    }
   ],
   "source": [
    "range = [sorted(random_list)[0], sorted(random_list)[-1]]\n",
    "print(range)"
   ]
  }
 ],
 "metadata": {
  "kernelspec": {
   "display_name": "Python 3 (ipykernel)",
   "language": "python",
   "name": "python3"
  },
  "language_info": {
   "codemirror_mode": {
    "name": "ipython",
    "version": 3
   },
   "file_extension": ".py",
   "mimetype": "text/x-python",
   "name": "python",
   "nbconvert_exporter": "python",
   "pygments_lexer": "ipython3",
   "version": "3.9.7"
  }
 },
 "nbformat": 4,
 "nbformat_minor": 5
}
