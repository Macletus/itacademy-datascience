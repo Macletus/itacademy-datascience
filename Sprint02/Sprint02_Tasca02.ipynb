{
 "cells": [
  {
   "cell_type": "markdown",
   "id": "ca5053d8-89e3-481c-982f-8f31c7489df7",
   "metadata": {},
   "source": [
    "___Sprint 2___\n",
    "\n",
    "**Bàsics de Python**\n",
    "\n",
    "*Tasca 2*"
   ]
  },
  {
   "cell_type": "markdown",
   "id": "d4fa9efd-8426-43d2-8152-f757f09cd481",
   "metadata": {},
   "source": [
    "__Exercici 1__\n",
    "\n",
    "L'exercici consisteix a crear un programa que et classifiqui una variable numèrica en funció de l’escala Suspès/Aprovat/Notable/Excel·lent.\n",
    "\n",
    "Recorda que Suspès < 5, Aprovat > 5 i < 7, Notable > 7 i < 9 i Excel·lent > 9."
   ]
  },
  {
   "cell_type": "code",
   "execution_count": 1,
   "id": "c391d53a-640c-4c7b-9773-6b7f59d9f4b4",
   "metadata": {},
   "outputs": [
    {
     "name": "stdout",
     "output_type": "stream",
     "text": [
      "Introdueix una nota, si us plau\n"
     ]
    },
    {
     "name": "stdin",
     "output_type": "stream",
     "text": [
      " 6\n"
     ]
    },
    {
     "name": "stdout",
     "output_type": "stream",
     "text": [
      "Aprovat\n"
     ]
    }
   ],
   "source": [
    "print('Introdueix una nota, si us plau')\n",
    "mark = int(input())\n",
    "\n",
    "if mark < 5:\n",
    "    print('Suspès')\n",
    "elif mark >= 5 and mark < 7:\n",
    "    print('Aprovat')\n",
    "elif mark >= 7 and mark < 9:\n",
    "    print('Notable')\n",
    "elif mark > 9:\n",
    "    print('Excel·lent')"
   ]
  },
  {
   "cell_type": "markdown",
   "id": "edf14230-4ead-4923-b3de-6c10a1a3c02a",
   "metadata": {},
   "source": [
    "__Exercici 2__\n",
    "\n",
    "Crea un programa que et pregunti dos números. T’ha de mostrar un missatge dient si el primer és més gran, el segon és més gran o són iguals."
   ]
  },
  {
   "cell_type": "code",
   "execution_count": 2,
   "id": "d59bcd73-0d61-4a8e-828b-090bd762f635",
   "metadata": {},
   "outputs": [
    {
     "name": "stdout",
     "output_type": "stream",
     "text": [
      "Introdueix un número\n"
     ]
    },
    {
     "name": "stdin",
     "output_type": "stream",
     "text": [
      " 6\n"
     ]
    },
    {
     "name": "stdout",
     "output_type": "stream",
     "text": [
      "Introdueix un altre número\n"
     ]
    },
    {
     "name": "stdin",
     "output_type": "stream",
     "text": [
      " 8\n"
     ]
    },
    {
     "name": "stdout",
     "output_type": "stream",
     "text": [
      "El segon número és més gran\n"
     ]
    }
   ],
   "source": [
    "print('Introdueix un número')\n",
    "number1 = input()\n",
    "print('Introdueix un altre número')\n",
    "number2 = input()\n",
    "\n",
    "if number1 > number2:\n",
    "    print('El primer número és més gran')\n",
    "elif number2 > number1:\n",
    "    print('El segon número és més gran')\n",
    "else:\n",
    "    print('Els dos números són iguals')"
   ]
  },
  {
   "cell_type": "markdown",
   "id": "ad9efdfa-e513-4acc-82ff-cd3a4a322352",
   "metadata": {},
   "source": [
    "__Exercici 3__\n",
    "\n",
    "Crea un programa que et pregunti el teu nom, i et demani un número. Si el número és 0, hauria de mostrar un missatge d’error. En cas contrari, hauria de mostrar el nom repetit tants cops com indiqui el número. Per exemple, “Joan Joan Joan”."
   ]
  },
  {
   "cell_type": "code",
   "execution_count": 8,
   "id": "dc437ca1-7dea-446a-834a-eac87bc20551",
   "metadata": {},
   "outputs": [
    {
     "name": "stdout",
     "output_type": "stream",
     "text": [
      "Quin és el teu nom?\n"
     ]
    },
    {
     "name": "stdin",
     "output_type": "stream",
     "text": [
      " Carles\n"
     ]
    },
    {
     "name": "stdout",
     "output_type": "stream",
     "text": [
      "Disme un número\n"
     ]
    },
    {
     "name": "stdin",
     "output_type": "stream",
     "text": [
      " 0\n"
     ]
    },
    {
     "name": "stdout",
     "output_type": "stream",
     "text": [
      "Error! El número ha de ser major a 0\n"
     ]
    }
   ],
   "source": [
    "print('Quin és el teu nom?')\n",
    "name = input()\n",
    "print('Disme un número')\n",
    "num = int(input())\n",
    "output = \"\"\n",
    "\n",
    "if num <= 0:\n",
    "    print('Error! El número ha de ser major a 0')\n",
    "else:\n",
    "    for i in range(0, num):\n",
    "        output += name + \" \"\n",
    "    print(output)"
   ]
  },
  {
   "cell_type": "markdown",
   "id": "5f694756-08a7-4259-b1f1-07c2c1347829",
   "metadata": {},
   "source": [
    "__Exercici 4__\n",
    "Crea un programa que donada una llista qualsevol, et digui si és simètrica o no. Si ho és, que et digui quants elements té."
   ]
  },
  {
   "cell_type": "code",
   "execution_count": 4,
   "id": "7d049e30-e272-4589-9bfa-1156a13de710",
   "metadata": {},
   "outputs": [],
   "source": [
    "def rev_check(lst):\n",
    "    reversed_lst_1 = list(reversed(lst))\n",
    "\n",
    "    if reversed_lst_1 == lst_1:\n",
    "        print('Llista simètrica i té ' + str(len(lst_1)) + ' elements')\n",
    "    else:\n",
    "        print('Llista no simètrica')"
   ]
  },
  {
   "cell_type": "code",
   "execution_count": 5,
   "id": "54be2b2f-641c-46e3-be79-e332c301d5e9",
   "metadata": {},
   "outputs": [
    {
     "name": "stdout",
     "output_type": "stream",
     "text": [
      "Llista simètrica i té 7 elements\n",
      "Llista no simètrica\n"
     ]
    }
   ],
   "source": [
    "lst_1 = [2, 3, 4, 5, 4, 3, 2]\n",
    "lst_2 = [3, 4, 4, 5, 4, 3]\n",
    "\n",
    "rev_check(lst_1)\n",
    "rev_check(lst_2)"
   ]
  },
  {
   "cell_type": "markdown",
   "id": "458ffab2-15de-4cb4-81bd-460239b7decf",
   "metadata": {},
   "source": [
    "__Exercici 5__\n",
    "\n",
    "Crea un programa que donada una llista, et digui quants números coincideixen amb la seva posició. Per exemple [3,4,2,0,2,3,6] el 2 i el 6 coincideixen."
   ]
  },
  {
   "cell_type": "code",
   "execution_count": 6,
   "id": "674fe50a-26fa-459f-ae8f-98cc43c050c8",
   "metadata": {},
   "outputs": [],
   "source": [
    "def numcoind_list(lst):\n",
    "    output = []\n",
    "    for i in range(0, len(lst)):\n",
    "        if i == lst[i]:\n",
    "            output.append(lst[i])\n",
    "    output_str = \"Els números que coincidixen: \"\n",
    "    for num in output:\n",
    "        output_str += str(num) + \" \"\n",
    "    print(output_str)"
   ]
  },
  {
   "cell_type": "code",
   "execution_count": 7,
   "id": "b762fa5a-61ec-46a8-b620-2d4e7c54f139",
   "metadata": {},
   "outputs": [
    {
     "name": "stdout",
     "output_type": "stream",
     "text": [
      "Els números que coincidixen: 4 \n",
      "Els números que coincidixen: 1 3 4 \n"
     ]
    }
   ],
   "source": [
    "lst_1 = [2, 3, 4, 5, 4, 3, 2]\n",
    "lst_2 = [3, 1, 4, 3, 4, 3]\n",
    "\n",
    "numcoind_list(lst_1)\n",
    "numcoind_list(lst_2)"
   ]
  }
 ],
 "metadata": {
  "kernelspec": {
   "display_name": "Python 3 (ipykernel)",
   "language": "python",
   "name": "python3"
  },
  "language_info": {
   "codemirror_mode": {
    "name": "ipython",
    "version": 3
   },
   "file_extension": ".py",
   "mimetype": "text/x-python",
   "name": "python",
   "nbconvert_exporter": "python",
   "pygments_lexer": "ipython3",
   "version": "3.9.7"
  }
 },
 "nbformat": 4,
 "nbformat_minor": 5
}
