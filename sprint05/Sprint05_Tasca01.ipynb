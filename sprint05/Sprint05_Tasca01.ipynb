{
 "cells": [
  {
   "cell_type": "markdown",
   "id": "43deebe4-e1aa-4b5d-a602-b39a00e02f9f",
   "metadata": {},
   "source": [
    "<h1><center>Sprint 5</center></h1>\n",
    "<h2><center>Tasca 1: Exercicis d'Hipotesis Testing.</center></h2>"
   ]
  },
  {
   "cell_type": "markdown",
   "id": "35f08782-616c-4790-9580-01a97afa3bf7",
   "metadata": {},
   "source": [
    "Exercicis d'Hipotesis Testing.\n",
    "\n",
    "- Exercici 1\n",
    "Descarrega el dataset adjunt de dades oficials de la UEFA i selecciona un atribut del conjunt de dades. Calcula el p-valor i digues si rebutja la hipòtesi nul·la agafant un alfa de 5%. \n",
    "\n",
    "\n",
    "\n",
    "- Exercici 2\n",
    "Amb el mateix dataset selecciona dos altres atributs del conjunt de dades. Calcula els p-valors i digues si rebutgen la hipòtesi nul·la agafant un alfa de 5%.\n",
    "\n",
    "\n",
    "\n",
    "- Exercici 3\n",
    "Continua amb el conjunt de dades adjunt i selecciona tres atributs del conjunt de dades. Calcula el p-valor i digues si rebutja la hipòtesi nul·la agafant un alfa de 5%.\n",
    "\n"
   ]
  },
  {
   "cell_type": "code",
   "execution_count": 1,
   "id": "5af0ec15-08f5-48b1-aaec-b16a3597f47b",
   "metadata": {},
   "outputs": [],
   "source": [
    "# Packages\n",
    "from pathlib import Path\n",
    "import numpy as np\n",
    "import pandas as pd\n",
    "from scipy import stats\n",
    "import math\n",
    "import seaborn as sns\n",
    "import matplotlib.pyplot as plt\n",
    "import pingouin as pg"
   ]
  },
  {
   "cell_type": "code",
   "execution_count": 2,
   "id": "9fac0f2f-358f-4d03-a104-a95255959405",
   "metadata": {},
   "outputs": [],
   "source": [
    "# file paths\n",
    "data_path = 'D:/Sistema_Solar/Python/itacademy/sprint05/data/'\n",
    "data_path = Path(data_path)\n",
    "plot_path = 'D:/Sistema_Solar/Python/itacademy/itacademy-datascience/sprint05/plots/'\n",
    "plot_path = Path(plot_path)"
   ]
  },
  {
   "cell_type": "markdown",
   "id": "b2f154f3-f644-4c69-848e-51d722355120",
   "metadata": {},
   "source": [
    "### Exercici 1\n",
    "__*Descarrega el dataset adjunt de dades oficials de la UEFA i selecciona un atribut del conjunt de dades. Calcula el p-valor i digues si rebutja la hipòtesi nul·la agafant un alfa de 5%.*__\n"
   ]
  },
  {
   "cell_type": "code",
   "execution_count": 3,
   "id": "fdf9b20c-c0fb-4278-84dc-a4a224dc2519",
   "metadata": {},
   "outputs": [],
   "source": [
    "# Uploading csv\n",
    "file_name = 'Lligues europees UEFA.csv'\n",
    "file = data_path / file_name\n",
    "uefa_df = pd.read_csv(file, sep=';', encoding=\"ISO-8859-1\")"
   ]
  },
  {
   "cell_type": "code",
   "execution_count": 4,
   "id": "67eea440-9a23-440f-a2a3-4d0d7dba9c51",
   "metadata": {},
   "outputs": [
    {
     "name": "stdout",
     "output_type": "stream",
     "text": [
      "<class 'pandas.core.frame.DataFrame'>\n",
      "RangeIndex: 98 entries, 0 to 97\n",
      "Data columns (total 21 columns):\n",
      " #   Column           Non-Null Count  Dtype  \n",
      "---  ------           --------------  -----  \n",
      " 0   Rk               98 non-null     int64  \n",
      " 1   Squad            98 non-null     object \n",
      " 2   Country          98 non-null     object \n",
      " 3   LgRk             98 non-null     int64  \n",
      " 4   MP               98 non-null     int64  \n",
      " 5   W                98 non-null     int64  \n",
      " 6   D                98 non-null     int64  \n",
      " 7   L                98 non-null     int64  \n",
      " 8   GF               98 non-null     int64  \n",
      " 9   GA               98 non-null     int64  \n",
      " 10  GD               98 non-null     int64  \n",
      " 11  Pts              98 non-null     int64  \n",
      " 12  Pts/G            98 non-null     float64\n",
      " 13  xG               98 non-null     float64\n",
      " 14  xGA              98 non-null     float64\n",
      " 15  xGD              98 non-null     float64\n",
      " 16  xGD/90           98 non-null     float64\n",
      " 17  Last 5           98 non-null     object \n",
      " 18  Attendance       98 non-null     int64  \n",
      " 19  Top Team Scorer  98 non-null     object \n",
      " 20  Goalkeeper       98 non-null     object \n",
      "dtypes: float64(5), int64(11), object(5)\n",
      "memory usage: 16.2+ KB\n"
     ]
    }
   ],
   "source": [
    "uefa_df.info()"
   ]
  },
  {
   "cell_type": "markdown",
   "id": "984db8e0-d8f4-4052-bf78-a77387b05f57",
   "metadata": {},
   "source": [
    "https://expectedscore.com/faq/how-to-use-the-xg-tables/\n",
    "\n",
    "Informació sobre els diferents paràmetres"
   ]
  },
  {
   "cell_type": "markdown",
   "id": "b8c8fe09-b00f-49f9-8977-b73d8f6c26ff",
   "metadata": {},
   "source": [
    "LgRk - Ranking in the national league\n",
    "\n",
    "MP - Match played\n",
    "\n",
    "W - Won matches\n",
    "\n",
    "D - Drawn matches\n",
    "\n",
    "L - Lost matches\n",
    "\n",
    "GF - Goals scored\n",
    "\n",
    "GA - Goals taken\n",
    "\n",
    "GD - Goals difference\n",
    "\n",
    "Pts - Points in national league\n",
    "\n",
    "Pts/G - Points per goal scored\n",
    "\n",
    "xG - the number of expected goals from one or several players, depend on the quality of the kicks.\n",
    "\n",
    "xGA - the number of expected goals from opponents, depend on the quality of the kicks.\n",
    "\n",
    "xG/90 the number of expected goals from one or several players in 90 minutes.\n",
    "\n",
    "xGA/90 - the number of expected goals from opponents in 90 minutes.\n",
    "\n",
    "xGD - the difference between expected scored and expected missed goals. xGD=xG-xGA.\n",
    "\n",
    "xGD/90 - the difference between expected scored and expected missed goal in 90 minuts.\n",
    "\n",
    "Last 5 - Results of the last 5 matches\n",
    "\n",
    "Attendance - Mean attendance at their field"
   ]
  },
  {
   "cell_type": "markdown",
   "id": "434ab8c1-2454-4c86-8214-40da849702f6",
   "metadata": {},
   "source": [
    "#### Partits jugats.\n",
    "\n",
    "suposarem que la temporada s'ha acabat i que cada lliga té 20 equips. Per tant, hauran d'haver jugat 38 partits cadascun.\n",
    "\n",
    "**Hipòtesi nul·la:** Els equips han jugat de mitjana 38 partits\\\n",
    "**Hipòtesi alternativa:** Els equips no han jugat de mitjana 38 partits"
   ]
  },
  {
   "cell_type": "code",
   "execution_count": 5,
   "id": "7660b253-f636-40a3-a04f-07c9b304fce5",
   "metadata": {},
   "outputs": [
    {
     "name": "stdout",
     "output_type": "stream",
     "text": [
      "p-value de 3.9894809093824675e-26\n",
      "Hipòtesi nul·la rebutjada. Els partits han jugat un nombre de partits diferent a 38\n"
     ]
    }
   ],
   "source": [
    "match_played = uefa_df['MP']\n",
    "tstat, pval = stats.ttest_1samp(match_played, 38)\n",
    "print('p-value de ' + str(pval))\n",
    "if pval > 0.05:\n",
    "    print('Hipòtesi nul·la acceptada. Els partits han jugat de mitjana 38 partits')\n",
    "else:\n",
    "    print('Hipòtesi nul·la rebutjada. Els partits han jugat un nombre de partits diferent a 38')"
   ]
  },
  {
   "cell_type": "markdown",
   "id": "0059d712-5df6-4ddc-badf-771ef3914b87",
   "metadata": {},
   "source": [
    "És lògic el resultat perquè hi ha poca variància entre els partits jugats i són inferiors sempre a 38. Per tant, és difícil que una mitjana de 38 amb aquesta mostra sigui possible"
   ]
  },
  {
   "cell_type": "markdown",
   "id": "8dfa1bfb-2965-4c72-b1bd-531a6e6a74d2",
   "metadata": {},
   "source": [
    "### Exercici 2\n",
    "__*Amb el mateix dataset selecciona dos altres atributs del conjunt de dades. Calcula els p-valors i digues si rebutgen la hipòtesi nul·la agafant un alfa de 5%.*__\n"
   ]
  },
  {
   "cell_type": "markdown",
   "id": "09b79bdf-c8c3-4bb2-a97c-1b1a2f439d92",
   "metadata": {},
   "source": [
    "Comparem els atributs de partits guanyats i perduts\n",
    "\n",
    "Hipòtesi nul·la: Els partits han guanyat de mitjana el mateix que han perdut\\\n",
    "Hipòtesi alternativa. Els partits no han guanyat de mitjana el mateix que han perdut"
   ]
  },
  {
   "cell_type": "code",
   "execution_count": 6,
   "id": "bed30b32-2b35-47c5-87d5-0e11f70b1425",
   "metadata": {},
   "outputs": [
    {
     "name": "stdout",
     "output_type": "stream",
     "text": [
      "Hipòtesi nul·la acceptada\n",
      "1.0\n"
     ]
    }
   ],
   "source": [
    "wins = uefa_df['W']\n",
    "loses = uefa_df['L']\n",
    "\n",
    "tstat, pval = stats.ttest_ind(wins, loses)\n",
    "\n",
    "if pval > 0.05:\n",
    "    print('Hipòtesi nul·la acceptada')\n",
    "else:\n",
    "    print('Hipòtesi nul·la rebutjada')\n",
    "    \n",
    "print(pval)"
   ]
  },
  {
   "cell_type": "markdown",
   "id": "39f84652-ad4f-4154-8b69-f5dec339a4cd",
   "metadata": {},
   "source": [
    "També podem comprovar si dos atributs es troben correlacionats. Per exemple, estan correlacionats positivament el coeficient xGD/90 i el nombre de partits guanyats?\n",
    "\n",
    "Hipòtesis nul·la: Els partits guanyats no estan correlacionats amb el coeficient xGD/90\\\n",
    "Hipòtesis alternativa: Els partits guanyats estan correlacionats amb el coeficient xGD/90"
   ]
  },
  {
   "cell_type": "code",
   "execution_count": 7,
   "id": "b043c66c-505b-4bd8-810c-1efb609cdeae",
   "metadata": {},
   "outputs": [
    {
     "name": "stdout",
     "output_type": "stream",
     "text": [
      "Hipòtesi nul·la rebutjada\n",
      "3.865992728072641e-36\n"
     ]
    }
   ],
   "source": [
    "xGD90 = uefa_df['xGD/90']\n",
    "\n",
    "stat, pval = stats.pearsonr(wins, xGD90)\n",
    "\n",
    "if pval > 0.05:\n",
    "    print('Hipòtesi nul·la acceptada')\n",
    "else:\n",
    "    print('Hipòtesi nul·la rebutjada')\n",
    "    \n",
    "print(pval)"
   ]
  },
  {
   "cell_type": "markdown",
   "id": "d4348fd4-0b28-45f9-9ca0-9d3bf95b9c5e",
   "metadata": {},
   "source": [
    "Si comparem xGF/90 amb el nombre de partits jugats, observem que aquests, evidentment, no es troben correlacionats."
   ]
  },
  {
   "cell_type": "code",
   "execution_count": 8,
   "id": "5fe679b9-0d83-4e88-9809-4578bf39fc98",
   "metadata": {},
   "outputs": [
    {
     "name": "stdout",
     "output_type": "stream",
     "text": [
      "Hipòtesi nul·la acceptada\n",
      "0.8295643302874356\n"
     ]
    }
   ],
   "source": [
    "xGD90 = uefa_df['xGD/90']\n",
    "\n",
    "stat, pval = stats.pearsonr(match_played, xGD90)\n",
    "\n",
    "if pval > 0.05:\n",
    "    print('Hipòtesi nul·la acceptada')\n",
    "else:\n",
    "    print('Hipòtesi nul·la rebutjada')\n",
    "    \n",
    "print(pval)"
   ]
  },
  {
   "cell_type": "markdown",
   "id": "ae1be92f-29c6-4700-bd89-a9ecd5b79ad3",
   "metadata": {},
   "source": [
    "### Exercici 3\n",
    "__*Continua amb el conjunt de dades adjunt i selecciona tres atributs del conjunt de dades. Calcula el p-valor i digues si rebutja la hipòtesi nul·la agafant un alfa de 5%.*__\n"
   ]
  },
  {
   "cell_type": "markdown",
   "id": "7246410a-9b12-4b75-9ee3-d359eeb1973a",
   "metadata": {},
   "source": [
    "Comparem els nombre de partits guanyats, i la probabilitat de gol amb l'afluència d'espectadors al camp en els diferents països."
   ]
  },
  {
   "cell_type": "code",
   "execution_count": 9,
   "id": "07524dda-f106-47f3-a38f-b8a04e0267c7",
   "metadata": {},
   "outputs": [
    {
     "name": "stdout",
     "output_type": "stream",
     "text": [
      "                  Multivariate linear model\n",
      "=============================================================\n",
      "                                                             \n",
      "-------------------------------------------------------------\n",
      "       Intercept        Value  Num DF  Den DF F Value  Pr > F\n",
      "-------------------------------------------------------------\n",
      "          Wilks' lambda 0.2201 2.0000 92.0000 162.9916 0.0000\n",
      "         Pillai's trace 0.7799 2.0000 92.0000 162.9916 0.0000\n",
      " Hotelling-Lawley trace 3.5433 2.0000 92.0000 162.9916 0.0000\n",
      "    Roy's greatest root 3.5433 2.0000 92.0000 162.9916 0.0000\n",
      "-------------------------------------------------------------\n",
      "                                                             \n",
      "-------------------------------------------------------------\n",
      "        Country         Value  Num DF  Den DF  F Value Pr > F\n",
      "-------------------------------------------------------------\n",
      "          Wilks' lambda 0.6113 8.0000 184.0000  6.4178 0.0000\n",
      "         Pillai's trace 0.3955 8.0000 186.0000  5.7303 0.0000\n",
      " Hotelling-Lawley trace 0.6249 8.0000 129.1250  7.1408 0.0000\n",
      "    Roy's greatest root 0.6067 4.0000  93.0000 14.1067 0.0000\n",
      "=============================================================\n",
      "\n"
     ]
    }
   ],
   "source": [
    "from statsmodels.multivariate.manova import MANOVA\n",
    "fit = MANOVA.from_formula('Attendance + xG ~ Country', data=uefa_df)\n",
    "print(fit.mv_test())\n",
    "x = pd.DataFrame((fit.mv_test().results['Country']['stat']))"
   ]
  },
  {
   "cell_type": "markdown",
   "id": "09505e33-3b37-4fcb-8d44-e9e122b9876f",
   "metadata": {},
   "source": [
    "La columna Pr>F ens diu el p-valor per a una sèrie de tests, els quals, en tots els casos, és significatiu la relació que hi ha entre el número de partits guanyats i la probabilitat de gol i l'afluència d'espectadors als camps."
   ]
  }
 ],
 "metadata": {
  "kernelspec": {
   "display_name": "Python 3 (ipykernel)",
   "language": "python",
   "name": "python3"
  },
  "language_info": {
   "codemirror_mode": {
    "name": "ipython",
    "version": 3
   },
   "file_extension": ".py",
   "mimetype": "text/x-python",
   "name": "python",
   "nbconvert_exporter": "python",
   "pygments_lexer": "ipython3",
   "version": "3.9.7"
  }
 },
 "nbformat": 4,
 "nbformat_minor": 5
}
