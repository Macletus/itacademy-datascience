{
 "cells": [
  {
   "cell_type": "markdown",
   "id": "a00eda2e-07be-4e1a-b33e-5f9ab221c929",
   "metadata": {
    "tags": []
   },
   "source": [
    "<h1><center>Sprint 6</center></h1>\n",
    "<h2><center>Tasca 1: Algoritmes d’aprenentatge supervisat: Regressió.</center></h2>"
   ]
  },
  {
   "cell_type": "code",
   "execution_count": 1,
   "id": "cc6ca8f3-f0c7-40d9-bc76-633d4b5f0e6b",
   "metadata": {},
   "outputs": [],
   "source": [
    "# Packages\n",
    "from pathlib import Path\n",
    "import numpy as np\n",
    "import pandas as pd\n",
    "from scipy import stats\n",
    "import math\n",
    "import seaborn as sns\n",
    "import matplotlib\n",
    "import matplotlib.pyplot as plt\n",
    "\n",
    "from sklearn.model_selection import train_test_split\n",
    "from sklearn.preprocessing import MinMaxScaler\n",
    "from sklearn.preprocessing import QuantileTransformer\n",
    "from sklearn.preprocessing import PowerTransformer\n",
    "from sklearn.preprocessing import StandardScaler \n",
    "from sklearn.preprocessing import FunctionTransformer\n",
    "from sklearn.linear_model import LinearRegression\n",
    "from sklearn.metrics import mean_squared_error\n",
    "from sklearn.model_selection import cross_val_score\n",
    "from sklearn.model_selection import KFold\n",
    "from sklearn.tree import DecisionTreeRegressor"
   ]
  },
  {
   "cell_type": "code",
   "execution_count": 2,
   "id": "f0985755-a5b4-4165-9bec-d9229813277e",
   "metadata": {},
   "outputs": [],
   "source": [
    "# file paths\n",
    "data_path = 'D:/Sistema_Solar/Python/itacademy/sprint05/data/'\n",
    "data_path = Path(data_path)\n",
    "plot_path = 'D:/Sistema_Solar/Python/itacademy/itacademy-datascience/sprint05/plots/'\n",
    "plot_path = Path(plot_path)"
   ]
  },
  {
   "cell_type": "markdown",
   "id": "e009c02b-2002-4492-a7d4-90ec324aaf73",
   "metadata": {},
   "source": [
    "Exercicis per practicar amb regressions.\n",
    "\n",
    "- Exercici 1\n",
    "Crea almenys dos models de regressió diferents per intentar predir el millor possible el preu de les vivendes (MEDV) de l'arxiu adjunt.\n",
    "\n",
    "\n",
    "\n",
    "- Exercici 2\n",
    "Compara’ls en base al MSE i al R2.\n",
    "\n",
    "\n",
    "\n",
    "- Exercici 3\n",
    "Entrena’ls utilitzant els diferents paràmetres que admeten per intentar millorar-ne la predicció.\n",
    "\n",
    "\n",
    "\n",
    "- Exercici 4\n",
    "Compara el seu rendiment emprant l’aproximació traint/test o emprant totes les dades (validació interna).\n",
    "\n",
    "\n",
    "\n",
    "- Exercici 5\n",
    "No facis servir la variable del nombre d'habitacions (RM) a l’hora de fer prediccions.\n",
    "\n"
   ]
  },
  {
   "cell_type": "code",
   "execution_count": 3,
   "id": "10cd251c-8a9e-4e10-80f2-ce7db669fa9b",
   "metadata": {},
   "outputs": [],
   "source": [
    "# Apugem l'arxiu csv\n",
    "file_name = 'housing data.csv'\n",
    "file = data_path / file_name\n",
    "housing = pd.read_csv(file, sep=',', encoding=\"ISO-8859-1\")\n",
    "\n",
    "# Afegim els noms de les columnes\n",
    "colnames = ['CRIM', 'ZN', 'INDUS', 'CHAS', 'NOX', 'RM', 'AGE', 'DIS', 'RAD', 'TAX', 'PTRATIO', 'B', 'LSTAT', 'MEDV']\n",
    "housing.columns = colnames"
   ]
  },
  {
   "cell_type": "code",
   "execution_count": 4,
   "id": "9443180e-9a86-4c1a-a116-ff8157d3d99c",
   "metadata": {},
   "outputs": [],
   "source": [
    "# Separem el dataframe en un conjunt per entrenar el model i un altre per aplicar-lo.\n",
    "housing_train, housing_test = train_test_split(housing, test_size=0.2, random_state=42)"
   ]
  },
  {
   "cell_type": "code",
   "execution_count": 5,
   "id": "ee3cb4b5-9a99-40c4-b190-b497b5863737",
   "metadata": {},
   "outputs": [
    {
     "name": "stdout",
     "output_type": "stream",
     "text": [
      "173    22.6\n",
      "274    32.0\n",
      "490    13.6\n",
      "72     23.4\n",
      "305    33.4\n",
      "       ... \n",
      "331    19.4\n",
      "411    17.9\n",
      "503    22.0\n",
      "349    22.9\n",
      "86     22.2\n",
      "Name: MEDV, Length: 101, dtype: float64\n",
      "[27.12408299 33.58180685 13.58466197 24.96802097 35.04742476 23.99509981\n",
      " 10.57233826  1.34413675 22.15627317 20.2794506  27.96467138 19.39831497\n",
      " 27.09156531 23.03765068 19.9500252  26.55155301 22.29219786  6.02706216\n",
      " 35.7642676  16.49006321 28.61853355 35.93111156 18.79685871 23.99944902\n",
      " 17.62965942 13.75105612 28.66713853 21.74307067 13.5363724  18.88983865\n",
      " 30.01833347 18.03359491 26.00638288 18.11345057 15.88502996 20.76848754\n",
      " 30.72040788 20.54848624 13.702081   26.15148722 12.9351798  17.29468604\n",
      " 22.79546131 21.37045604 28.57651388 30.29539486 14.7859291  22.43554919\n",
      " 18.89512719 26.51952884 20.92258903 39.33327563 13.52625025 23.13856465\n",
      " 22.37434046 21.53953483 17.43624669 32.23562114 29.17367336 20.34518204\n",
      " 25.12750973 23.63302627 24.94828723 18.64581086 19.51279468 19.82275761\n",
      " 19.32618193 25.08976158 32.60767989 14.57770972 18.59251057 13.95556349\n",
      " 21.0871077  15.08559682 22.01796176  6.95929131 18.03721657 41.35754205\n",
      " 17.79753152  7.66121435 26.19714341 12.03382295 36.02803297  7.824867\n",
      " 23.74765647 25.77072941 15.45768998 26.06611284 26.4144528  12.73199209\n",
      " 30.40254041 19.83714408 20.45809032 28.70869964 13.18227832 15.53146634\n",
      " 23.77383105  2.84155473 27.14150997 21.11352796 26.7258449 ]\n"
     ]
    },
    {
     "data": {
      "image/png": "[encoded data removed]",
      "text/plain": [
       "<Figure size 432x288 with 1 Axes>"
      ]
     },
     "metadata": {
      "needs_background": "light"
     },
     "output_type": "display_data"
    },
    {
     "name": "stdout",
     "output_type": "stream",
     "text": [
      "Coeficients\n",
      "         0          0\n",
      "0    INDUS   0.013015\n",
      "1      NOX -18.141791\n",
      "2       RM   4.126456\n",
      "3      AGE   0.009770\n",
      "4      DIS  -1.226420\n",
      "5      RAD   0.210943\n",
      "6      TAX  -0.011004\n",
      "7  PTRATIO  -1.086660\n",
      "8    LSTAT  -0.628615\n",
      "RMSE Test:  4.505413581046521\n",
      "RMSE train:  5.00743670066067\n",
      "R2 score: Train:\n",
      "0.7251286237091437\n",
      "R2 score: Test:\n",
      "0.635714897696773\n"
     ]
    }
   ],
   "source": [
    "#### Primera prova, selecció de variables amb més correlació sense tractar\n",
    "\n",
    "col_sel = ['INDUS', 'NOX', 'RM', 'AGE', 'DIS', 'RAD', 'TAX', 'PTRATIO', 'LSTAT']\n",
    "\n",
    "x_train = housing_train[col_sel]\n",
    "y_train = housing_train['MEDV']\n",
    "\n",
    "x_test = housing_test[col_sel]\n",
    "y_test = housing_test['MEDV']\n",
    "\n",
    "lm = LinearRegression()\n",
    "\n",
    "model = lm.fit(x_train, y_train)\n",
    "\n",
    "y_predict= lm.predict(x_test)\n",
    "y_predict_train = lm.predict(x_train)\n",
    "\n",
    "line_fitter = LinearRegression()\n",
    "print(y_test)\n",
    "print(y_predict)\n",
    "line_fitter.fit(np.array(y_test).reshape(-1, 1), y_predict)\n",
    "line_predict = line_fitter.predict(np.array(y_test).reshape(-1, 1))\n",
    "\n",
    "plt.scatter(y_test, y_predict, alpha=0.5, color='red')\n",
    "plt.plot(y_test, line_predict, color='black', alpha=0.6)\n",
    "\n",
    "plt.xlabel(\"Prices: $/m2\")\n",
    "plt.ylabel(\"Predicted prices: $/m2\")\n",
    "plt.title(\"Actual Rent vs Predicted Rent\")\n",
    "\n",
    "plt.show()\n",
    "\n",
    "print('Coeficients')\n",
    "print(pd.concat([pd.DataFrame(x_test.columns),pd.DataFrame(np.transpose(lm.coef_))], axis = 1))\n",
    "\n",
    "# Calculate the root mean square error (RMSE) for test and training data\n",
    "N = len(y_test)\n",
    "rmse_test = np.sqrt(np.sum((np.array(y_test).flatten() - np.array(y_predict).flatten())**2)/N)\n",
    "print(\"RMSE Test: \", rmse_test)\n",
    "\n",
    "N = len(y_train)\n",
    "rmse_train = np.sqrt(np.sum((np.array(y_train).flatten() - np.array(y_predict_train).flatten())**2)/N)\n",
    "print(\"RMSE train: \", rmse_train)\n",
    "\n",
    "print(\"R2 score: Train:\")\n",
    "print(lm.score(x_train, y_train))\n",
    "\n",
    "print(\"R2 score: Test:\")\n",
    "print(lm.score(x_test, y_test))"
   ]
  },
  {
   "cell_type": "code",
   "execution_count": 6,
   "id": "5781405d-93a4-4a32-aacf-a517d60c78e4",
   "metadata": {},
   "outputs": [
    {
     "name": "stdout",
     "output_type": "stream",
     "text": [
      "R2 score: Train:\n",
      "0.7506902422235837\n",
      "R2 score: Test:\n",
      "0.6522201888666225\n"
     ]
    },
    {
     "data": {
      "image/png": "[encoded data removed]",
      "text/plain": [
       "<Figure size 432x288 with 1 Axes>"
      ]
     },
     "metadata": {
      "needs_background": "light"
     },
     "output_type": "display_data"
    },
    {
     "name": "stdout",
     "output_type": "stream",
     "text": [
      "Coeficients\n",
      "          0          0\n",
      "0      CRIM  -0.098642\n",
      "1        ZN   0.035509\n",
      "2     INDUS   0.020186\n",
      "3      CHAS   2.487155\n",
      "4       NOX -18.040457\n",
      "5        RM   4.088551\n",
      "6       AGE   0.008370\n",
      "7       DIS  -1.464057\n",
      "8       RAD   0.296234\n",
      "9       TAX  -0.011453\n",
      "10  PTRATIO  -1.001762\n",
      "11        B   0.012065\n",
      "12    LSTAT  -0.554132\n",
      "RMSE Test:  4.402163231428001\n",
      "RMSE train:  4.7689234135803185\n"
     ]
    }
   ],
   "source": [
    "#### Totes les variables\n",
    "\n",
    "x_train = housing_train.drop('MEDV', axis=1)\n",
    "y_train = housing_train['MEDV']\n",
    "\n",
    "x_test = housing_test.drop('MEDV', axis=1)\n",
    "y_test = housing_test['MEDV']\n",
    "\n",
    "lm = LinearRegression()\n",
    "\n",
    "model = lm.fit(x_train, y_train)\n",
    "\n",
    "y_predict= lm.predict(x_test)\n",
    "y_predict_train = lm.predict(x_train)\n",
    "\n",
    "\n",
    "print(\"R2 score: Train:\")\n",
    "print(lm.score(x_train, y_train))\n",
    "\n",
    "print(\"R2 score: Test:\")\n",
    "print(lm.score(x_test, y_test))\n",
    "\n",
    "plt.scatter(y_test, y_predict)\n",
    "#plt.plot(range(20000), range(20000))\n",
    "\n",
    "plt.xlabel(\"Prices: $/m2\")\n",
    "plt.ylabel(\"Predicted prices: $/m2\")\n",
    "plt.title(\"Actual Rent vs Predicted Rent\")\n",
    "\n",
    "plt.show()\n",
    "\n",
    "print('Coeficients')\n",
    "print(pd.concat([pd.DataFrame(x_test.columns),pd.DataFrame(np.transpose(lm.coef_))], axis = 1))\n",
    "\n",
    "# Calculate the root mean square error (RMSE) for test and training data\n",
    "N = len(y_test)\n",
    "rmse_test = np.sqrt(np.sum((np.array(y_test).flatten() - np.array(y_predict).flatten())**2)/N)\n",
    "print(\"RMSE Test: \", rmse_test)\n",
    "\n",
    "N = len(y_train)\n",
    "rmse_train = np.sqrt(np.sum((np.array(y_train).flatten() - np.array(y_predict_train).flatten())**2)/N)\n",
    "print(\"RMSE train: \", rmse_train)"
   ]
  },
  {
   "cell_type": "code",
   "execution_count": 7,
   "id": "e9a879b3-aae4-4005-be36-0dbba2845ffc",
   "metadata": {},
   "outputs": [
    {
     "name": "stdout",
     "output_type": "stream",
     "text": [
      "R2 score: Train:\n",
      "0.7466543395571994\n",
      "R2 score: Test:\n",
      "0.6397213933390429\n"
     ]
    },
    {
     "data": {
      "image/png": "[encoded data removed]",
      "text/plain": [
       "<Figure size 432x288 with 1 Axes>"
      ]
     },
     "metadata": {
      "needs_background": "light"
     },
     "output_type": "display_data"
    },
    {
     "name": "stdout",
     "output_type": "stream",
     "text": [
      "Coeficients\n",
      "          0          0\n",
      "0      CRIM  -0.103138\n",
      "1        ZN   0.036913\n",
      "2     INDUS   0.036811\n",
      "3       NOX -17.384446\n",
      "4        RM   4.136964\n",
      "5       AGE   0.008976\n",
      "6       DIS  -1.485909\n",
      "7       RAD   0.315482\n",
      "8       TAX  -0.012497\n",
      "9   PTRATIO  -1.021547\n",
      "10        B   0.012551\n",
      "11    LSTAT  -0.569022\n",
      "RMSE Test:  4.480569267233471\n",
      "RMSE train:  4.807368842566458\n"
     ]
    }
   ],
   "source": [
    "#### Dropping sols les que tenen menys correlació CHAS\n",
    "\n",
    "x_train = housing_train.drop(['MEDV', 'CHAS'], axis=1)\n",
    "y_train = housing_train['MEDV']\n",
    "\n",
    "x_test = housing_test.drop(['MEDV', 'CHAS'], axis=1)\n",
    "y_test = housing_test['MEDV']\n",
    "\n",
    "lm = LinearRegression()\n",
    "\n",
    "model = lm.fit(x_train, y_train)\n",
    "\n",
    "y_predict= lm.predict(x_test)\n",
    "y_predict_train = lm.predict(x_train)\n",
    "\n",
    "\n",
    "print(\"R2 score: Train:\")\n",
    "print(lm.score(x_train, y_train))\n",
    "\n",
    "print(\"R2 score: Test:\")\n",
    "print(lm.score(x_test, y_test))\n",
    "\n",
    "plt.scatter(y_test, y_predict)\n",
    "\n",
    "\n",
    "plt.xlabel(\"Prices: $/m2\")\n",
    "plt.ylabel(\"Predicted prices: $/m2\")\n",
    "plt.title(\"Actual Rent vs Predicted Rent\")\n",
    "\n",
    "plt.show()\n",
    "\n",
    "print('Coeficients')\n",
    "print(pd.concat([pd.DataFrame(x_test.columns),pd.DataFrame(np.transpose(lm.coef_))], axis = 1))\n",
    "\n",
    "# Calculate the root mean square error (RMSE) for test and training data\n",
    "N = len(y_test)\n",
    "rmse_test = np.sqrt(np.sum((np.array(y_test).flatten() - np.array(y_predict).flatten())**2)/N)\n",
    "print(\"RMSE Test: \", rmse_test)\n",
    "\n",
    "N = len(y_train)\n",
    "rmse_train = np.sqrt(np.sum((np.array(y_train).flatten() - np.array(y_predict_train).flatten())**2)/N)\n",
    "print(\"RMSE train: \", rmse_train)"
   ]
  },
  {
   "cell_type": "code",
   "execution_count": 8,
   "id": "f3c9141a-7583-48ab-83de-563aafb9fc98",
   "metadata": {},
   "outputs": [
    {
     "name": "stdout",
     "output_type": "stream",
     "text": [
      "R2 score: Train:\n",
      "0.7408715524484892\n",
      "R2 score: Test:\n",
      "0.6723798827041315\n"
     ]
    },
    {
     "data": {
      "image/png": "[encoded data removed]",
      "text/plain": [
       "<Figure size 432x288 with 1 Axes>"
      ]
     },
     "metadata": {
      "needs_background": "light"
     },
     "output_type": "display_data"
    },
    {
     "name": "stdout",
     "output_type": "stream",
     "text": [
      "Coeficients\n",
      "          0          0\n",
      "0      CRIM  -0.116513\n",
      "1        ZN   0.036610\n",
      "2     INDUS   0.004463\n",
      "3      CHAS   2.731115\n",
      "4       NOX -19.280991\n",
      "5        RM   3.905592\n",
      "6       AGE   0.012930\n",
      "7       DIS  -1.487358\n",
      "8       RAD   0.273621\n",
      "9       TAX  -0.011942\n",
      "10  PTRATIO  -0.971322\n",
      "11    LSTAT  -0.587777\n",
      "RMSE Test:  4.272668896378529\n",
      "RMSE train:  4.861925011374121\n"
     ]
    }
   ],
   "source": [
    "#### Dropping sols les que tenen menys correlació B (pitjor que amb tots i tots-sense CHAS)\n",
    "\n",
    "x_train = housing_train.drop(['MEDV', 'B'], axis=1)\n",
    "y_train = housing_train['MEDV']\n",
    "\n",
    "x_test = housing_test.drop(['MEDV', 'B'], axis=1)\n",
    "y_test = housing_test['MEDV']\n",
    "\n",
    "lm = LinearRegression()\n",
    "\n",
    "model = lm.fit(x_train, y_train)\n",
    "\n",
    "y_predict= lm.predict(x_test)\n",
    "y_predict_train = lm.predict(x_train)\n",
    "\n",
    "\n",
    "print(\"R2 score: Train:\")\n",
    "print(lm.score(x_train, y_train))\n",
    "\n",
    "print(\"R2 score: Test:\")\n",
    "print(lm.score(x_test, y_test))\n",
    "\n",
    "plt.scatter(y_test, y_predict)\n",
    "#plt.plot(range(20000), range(20000))\n",
    "\n",
    "plt.xlabel(\"Prices: $/m2\")\n",
    "plt.ylabel(\"Predicted prices: $/m2\")\n",
    "plt.title(\"Actual Rent vs Predicted Rent\")\n",
    "\n",
    "plt.show()\n",
    "\n",
    "print('Coeficients')\n",
    "print(pd.concat([pd.DataFrame(x_test.columns),pd.DataFrame(np.transpose(lm.coef_))], axis = 1))\n",
    "\n",
    "# Calculate the root mean square error (RMSE) for test and training data\n",
    "N = len(y_test)\n",
    "rmse_test = np.sqrt(np.sum((np.array(y_test).flatten() - np.array(y_predict).flatten())**2)/N)\n",
    "print(\"RMSE Test: \", rmse_test)\n",
    "\n",
    "N = len(y_train)\n",
    "rmse_train = np.sqrt(np.sum((np.array(y_train).flatten() - np.array(y_predict_train).flatten())**2)/N)\n",
    "print(\"RMSE train: \", rmse_train)"
   ]
  },
  {
   "cell_type": "code",
   "execution_count": 9,
   "id": "ad284abb-c439-4749-bf6f-92c20b8ae65d",
   "metadata": {},
   "outputs": [
    {
     "name": "stdout",
     "output_type": "stream",
     "text": [
      "R2 score: Train:\n",
      "0.302074336730642\n",
      "R2 score: Test:\n",
      "0.2949229582330768\n"
     ]
    },
    {
     "data": {
      "image/png": "[encoded data removed]",
      "text/plain": [
       "<Figure size 432x288 with 1 Axes>"
      ]
     },
     "metadata": {
      "needs_background": "light"
     },
     "output_type": "display_data"
    },
    {
     "name": "stdout",
     "output_type": "stream",
     "text": [
      "Coeficients\n",
      "      0         0\n",
      "0  CRIM -0.220024\n",
      "1    ZN  0.133837\n",
      "2  CHAS  6.225785\n",
      "3   DIS -0.921549\n",
      "4   RAD -0.183079\n",
      "5     B  0.019877\n",
      "RMSE Test:  6.268047014228421\n",
      "RMSE train:  7.979125455983457\n"
     ]
    }
   ],
   "source": [
    "#### Prova amb les variables amb pitjors correlacions\n",
    "\n",
    "col_sel = ['CRIM', 'ZN', 'CHAS', 'DIS', 'RAD', 'B']\n",
    "\n",
    "x_train = housing_train[col_sel]\n",
    "y_train = housing_train['MEDV']\n",
    "\n",
    "x_test = housing_test[col_sel]\n",
    "y_test = housing_test['MEDV']\n",
    "\n",
    "lm = LinearRegression()\n",
    "\n",
    "model = lm.fit(x_train, y_train)\n",
    "\n",
    "y_predict= lm.predict(x_test)\n",
    "y_predict_train = lm.predict(x_train)\n",
    "\n",
    "\n",
    "print(\"R2 score: Train:\")\n",
    "print(lm.score(x_train, y_train))\n",
    "\n",
    "print(\"R2 score: Test:\")\n",
    "print(lm.score(x_test, y_test))\n",
    "\n",
    "plt.scatter(y_test, y_predict)\n",
    "#plt.plot(range(20000), range(20000))\n",
    "\n",
    "plt.xlabel(\"Prices: $/m2\")\n",
    "plt.ylabel(\"Predicted prices: $/m2\")\n",
    "plt.title(\"Actual Rent vs Predicted Rent\")\n",
    "\n",
    "plt.show()\n",
    "\n",
    "print('Coeficients')\n",
    "print(pd.concat([pd.DataFrame(x_test.columns),pd.DataFrame(np.transpose(lm.coef_))], axis = 1))\n",
    "\n",
    "# Calculate the root mean square error (RMSE) for test and training data\n",
    "N = len(y_test)\n",
    "rmse_test = np.sqrt(np.sum((np.array(y_test).flatten() - np.array(y_predict).flatten())**2)/N)\n",
    "print(\"RMSE Test: \", rmse_test)\n",
    "\n",
    "N = len(y_train)\n",
    "rmse_train = np.sqrt(np.sum((np.array(y_train).flatten() - np.array(y_predict_train).flatten())**2)/N)\n",
    "print(\"RMSE train: \", rmse_train)"
   ]
  },
  {
   "cell_type": "code",
   "execution_count": 10,
   "id": "1d0655a5-7192-407b-ac07-c13fbb719fce",
   "metadata": {},
   "outputs": [
    {
     "name": "stdout",
     "output_type": "stream",
     "text": [
      "R2 score: Train:\n",
      "0.6497080293193173\n",
      "R2 score: Test:\n",
      "0.545379457529723\n"
     ]
    },
    {
     "data": {
      "image/png": "[encoded data removed]",
      "text/plain": [
       "<Figure size 432x288 with 1 Axes>"
      ]
     },
     "metadata": {
      "needs_background": "light"
     },
     "output_type": "display_data"
    },
    {
     "name": "stdout",
     "output_type": "stream",
     "text": [
      "Coeficients\n",
      "       0         0\n",
      "0     RM  5.419044\n",
      "1  LSTAT -0.657604\n",
      "RMSE Test:  5.033133922759428\n",
      "RMSE train:  5.652828385326781\n"
     ]
    }
   ],
   "source": [
    "#### Prova amb les variables amb millor correlació\n",
    "\n",
    "col_sel = [ 'RM', 'LSTAT']\n",
    "\n",
    "x_train = housing_train[col_sel]\n",
    "y_train = housing_train['MEDV']\n",
    "\n",
    "x_test = housing_test[col_sel]\n",
    "y_test = housing_test['MEDV']\n",
    "\n",
    "lm = LinearRegression()\n",
    "\n",
    "model = lm.fit(x_train, y_train)\n",
    "\n",
    "y_predict= lm.predict(x_test)\n",
    "y_predict_train = lm.predict(x_train)\n",
    "\n",
    "\n",
    "print(\"R2 score: Train:\")\n",
    "print(lm.score(x_train, y_train))\n",
    "\n",
    "print(\"R2 score: Test:\")\n",
    "print(lm.score(x_test, y_test))\n",
    "\n",
    "plt.scatter(y_test, y_predict)\n",
    "#plt.plot(range(20000), range(20000))\n",
    "\n",
    "plt.xlabel(\"Prices: $/m2\")\n",
    "plt.ylabel(\"Predicted prices: $/m2\")\n",
    "plt.title(\"Actual Rent vs Predicted Rent\")\n",
    "\n",
    "plt.show()\n",
    "\n",
    "print('Coeficients')\n",
    "print(pd.concat([pd.DataFrame(x_test.columns),pd.DataFrame(np.transpose(lm.coef_))], axis = 1))\n",
    "\n",
    "# Calculate the root mean square error (RMSE) for test and training data\n",
    "N = len(y_test)\n",
    "rmse_test = np.sqrt(np.sum((np.array(y_test).flatten() - np.array(y_predict).flatten())**2)/N)\n",
    "print(\"RMSE Test: \", rmse_test)\n",
    "\n",
    "N = len(y_train)\n",
    "rmse_train = np.sqrt(np.sum((np.array(y_train).flatten() - np.array(y_predict_train).flatten())**2)/N)\n",
    "print(\"RMSE train: \", rmse_train)"
   ]
  },
  {
   "cell_type": "code",
   "execution_count": 11,
   "id": "6d1a8585-e909-4ef1-9e9a-812ee3b5090b",
   "metadata": {},
   "outputs": [],
   "source": [
    "### Versió amb variables transformades"
   ]
  },
  {
   "cell_type": "code",
   "execution_count": 12,
   "id": "14898669-a89f-4134-a64b-69a0c13c3f74",
   "metadata": {},
   "outputs": [],
   "source": [
    "transformer = FunctionTransformer(np.log1p)\n",
    "\n",
    "nox_train = np.array(housing_train['NOX']).reshape(-1, 1)\n",
    "nox_test = np.array(housing_test['NOX']).reshape(-1, 1)\n",
    "\n",
    "transformer.fit(nox_train)\n",
    "nox_train = transformer.fit_transform(nox_train)\n",
    "nox_test = transformer.fit_transform(nox_test)"
   ]
  },
  {
   "cell_type": "code",
   "execution_count": 13,
   "id": "9d54593c-7521-48d8-93a5-c47362ca3afa",
   "metadata": {},
   "outputs": [],
   "source": [
    "scaler = StandardScaler()\n",
    "\n",
    "dist_train = np.array(housing_train['DIS']).reshape(-1, 1)\n",
    "\n",
    "dist_train = scaler.fit_transform(dist_train)"
   ]
  },
  {
   "cell_type": "code",
   "execution_count": 14,
   "id": "cfc7272d-8076-47f8-8db3-b44bb0ef73d7",
   "metadata": {},
   "outputs": [],
   "source": [
    "scaler = StandardScaler()\n",
    "\n",
    "dis_train = np.array(housing_train['DIS']).reshape(-1, 1)\n",
    "dis_test = np.array(housing_test['DIS']).reshape(-1, 1)\n",
    "\n",
    "scaler.fit(dist_train)\n",
    "dis_train = scaler.transform(dis_train)\n",
    "dis_test = scaler.transform(dis_test)"
   ]
  },
  {
   "cell_type": "code",
   "execution_count": 15,
   "id": "d8f28b32-4962-4edd-9422-df75ea3b3067",
   "metadata": {},
   "outputs": [],
   "source": [
    "lstat_train = np.array(housing_train['LSTAT']).reshape(-1, 1)\n",
    "lstat_test = np.array(housing_test['LSTAT']).reshape(-1, 1)\n",
    "\n",
    "transformer = FunctionTransformer(np.log1p)\n",
    "transformer.fit(lstat_train)\n",
    "\n",
    "lstat_train = transformer.fit_transform(lstat_train)\n",
    "lstat_test = transformer.fit_transform(lstat_test)"
   ]
  },
  {
   "cell_type": "code",
   "execution_count": 16,
   "id": "30084c03-d5c9-479c-a434-92976cc3bab5",
   "metadata": {},
   "outputs": [],
   "source": [
    "scaler = StandardScaler()\n",
    "\n",
    "scaler.fit(lstat_train)\n",
    "\n",
    "lstat_train = scaler.transform(lstat_train)\n",
    "\n",
    "lstat_test = scaler.transform(lstat_test)"
   ]
  },
  {
   "cell_type": "code",
   "execution_count": 17,
   "id": "1bb3f765-5b15-4607-bd83-f9570ce7dec0",
   "metadata": {},
   "outputs": [],
   "source": [
    "scaler = PowerTransformer(method = 'yeo-johnson', standardize=True)\n",
    "\n",
    "indus_train = np.array(housing_train['INDUS']).reshape(-1, 1)\n",
    "indus_test = np.array(housing_test['INDUS']).reshape(-1, 1)\n",
    "\n",
    "scaler.fit(indus_train)\n",
    "\n",
    "indus_train = scaler.transform(indus_train)\n",
    "indus_test = scaler.transform(indus_test)"
   ]
  },
  {
   "cell_type": "code",
   "execution_count": 18,
   "id": "8bfa44be-08a3-4e5e-8c40-10d33a7b24c3",
   "metadata": {},
   "outputs": [],
   "source": [
    "scaler = PowerTransformer(method = 'yeo-johnson', standardize=True)\n",
    "\n",
    "ptratio_train = np.array(housing_train['PTRATIO']).reshape(-1, 1)\n",
    "ptratio_test = np.array(housing_test['PTRATIO']).reshape(-1, 1)\n",
    "\n",
    "scaler.fit(ptratio_train)\n",
    "\n",
    "ptratio_train = scaler.transform(ptratio_train)\n",
    "ptratio_test = scaler.transform(ptratio_test)"
   ]
  },
  {
   "cell_type": "code",
   "execution_count": 19,
   "id": "9b0e7068-6dc1-4845-b67f-78018ab1b30b",
   "metadata": {},
   "outputs": [],
   "source": [
    "rm_train = np.array(housing_train['RM']).reshape(-1, 1)\n",
    "rm_test = np.array(housing_test['RM']).reshape(-1, 1)\n",
    "\n",
    "transformer = FunctionTransformer(np.log1p)\n",
    "transformer.fit(rm_train)\n",
    "\n",
    "rm_train = transformer.transform(rm_train)\n",
    "rm_test = transformer.transform(rm_test)"
   ]
  },
  {
   "cell_type": "code",
   "execution_count": 20,
   "id": "6a8bcbe7-af6b-4306-82de-32f2d1f7ecf0",
   "metadata": {},
   "outputs": [],
   "source": [
    "tax_train = np.array(housing_train['TAX']).reshape(-1, 1)\n",
    "tax_test = np.array(housing_test['TAX']).reshape(-1, 1)\n",
    "\n",
    "scaler = PowerTransformer(method='yeo-johnson', standardize=True)\n",
    "scaler.fit(tax_train)\n",
    "\n",
    "\n",
    "tax_train = scaler.transform(tax_train)\n",
    "tax_test = scaler.transform(tax_test)"
   ]
  },
  {
   "cell_type": "code",
   "execution_count": 21,
   "id": "d2ec3ada-6b3e-45b6-9225-9efde1458713",
   "metadata": {},
   "outputs": [],
   "source": [
    "scaler = PowerTransformer(method = 'box-cox', standardize=True)\n",
    "\n",
    "age_train = np.array(housing_train['AGE']).reshape(-1, 1)\n",
    "age_test = np.array(housing_test['AGE']).reshape(-1, 1)\n",
    "\n",
    "scaler.fit(age_train)\n",
    "\n",
    "age_train = scaler.transform(age_train)\n",
    "age_test = scaler.transform(age_test)"
   ]
  },
  {
   "cell_type": "code",
   "execution_count": 22,
   "id": "581d154a-f505-48c5-9d36-b74883e37ed1",
   "metadata": {},
   "outputs": [],
   "source": [
    "col_sel = ['INDUS', 'NOX', 'RM', 'AGE', 'DIS', 'RAD', 'TAX', 'PTRATIO', 'LSTAT']\n",
    "\n",
    "rad_train = np.array(housing_train['RAD']).reshape(-1, 1)\n",
    "rad_test = np.array(housing_test['RAD']).reshape(-1, 1)\n",
    "\n",
    "x_train_t = np.hstack((indus_train, nox_train, rm_train, age_train, dis_train, rad_train, tax_train, ptratio_train, lstat_train))\n",
    "\n",
    "x_train_t = pd.DataFrame(data=x_train_t, columns=col_sel)\n",
    "\n",
    "x_test_t = np.hstack((indus_test, nox_test, rm_test, age_test, dis_test, rad_test, tax_test, ptratio_test, lstat_test))\n",
    "\n",
    "x_test_t = pd.DataFrame(data=x_test_t, columns=col_sel)"
   ]
  },
  {
   "cell_type": "code",
   "execution_count": 23,
   "id": "66d20df0-e605-4e18-acf3-d4b1e065da97",
   "metadata": {},
   "outputs": [
    {
     "data": {
      "image/png": "[encoded data removed]",
      "text/plain": [
       "<Figure size 432x288 with 1 Axes>"
      ]
     },
     "metadata": {
      "needs_background": "light"
     },
     "output_type": "display_data"
    },
    {
     "name": "stdout",
     "output_type": "stream",
     "text": [
      "Coeficients\n",
      "         0          0\n",
      "0    INDUS  -0.541617\n",
      "1      NOX -20.947410\n",
      "2       RM  16.487291\n",
      "3      AGE   1.333586\n",
      "4      DIS  -1.152749\n",
      "5      RAD   0.147935\n",
      "6      TAX  -1.443271\n",
      "7  PTRATIO  -1.846301\n",
      "8    LSTAT  -6.454471\n",
      "RMSE Test:  4.096866317388538\n",
      "RMSE train:  4.59292643099003\n",
      "R2 score: Train:\n",
      "0.7687522270906207\n",
      "R2 score: Test:\n",
      "0.6987856423507879\n"
     ]
    }
   ],
   "source": [
    "#### Com la primera prova, amb les variables tractades\n",
    "\n",
    "col_sel = ['INDUS', 'NOX', 'RM', 'AGE', 'DIS', 'RAD', 'TAX', 'PTRATIO', 'LSTAT']\n",
    "\n",
    "y_train = housing_train['MEDV']\n",
    "\n",
    "y_test = housing_test['MEDV']\n",
    "\n",
    "lm = LinearRegression()\n",
    "\n",
    "model = lm.fit(x_train_t, y_train)\n",
    "\n",
    "y_predict= lm.predict(x_test_t)\n",
    "y_predict_train = lm.predict(x_train_t)\n",
    "\n",
    "line_fitter = LinearRegression()\n",
    "line_fitter.fit(np.array(y_test).reshape(-1, 1), y_predict)\n",
    "line_predict = line_fitter.predict(np.array(y_test).reshape(-1, 1))\n",
    "\n",
    "plt.scatter(y_test, y_predict, alpha=0.5, color='red')\n",
    "plt.plot(y_test, line_predict, color='black', alpha=0.6)\n",
    "\n",
    "plt.xlabel(\"Prices: $/m2\")\n",
    "plt.ylabel(\"Predicted prices: $/m2\")\n",
    "plt.title(\"Actual Rent vs Predicted Rent\")\n",
    "\n",
    "plt.show()\n",
    "\n",
    "print('Coeficients')\n",
    "print(pd.concat([pd.DataFrame(x_test_t.columns),pd.DataFrame(np.transpose(lm.coef_))], axis = 1))\n",
    "\n",
    "# Calculate the root mean square error (RMSE) for test and training data\n",
    "N = len(y_test)\n",
    "rmse_test = np.sqrt(np.sum((np.array(y_test).flatten() - np.array(y_predict).flatten())**2)/N)\n",
    "print(\"RMSE Test: \", rmse_test)\n",
    "\n",
    "N = len(y_train)\n",
    "rmse_train = np.sqrt(np.sum((np.array(y_train).flatten() - np.array(y_predict_train).flatten())**2)/N)\n",
    "print(\"RMSE train: \", rmse_train)\n",
    "\n",
    "print(\"R2 score: Train:\")\n",
    "print(lm.score(x_train_t, y_train))\n",
    "\n",
    "print(\"R2 score: Test:\")\n",
    "print(lm.score(x_test_t, y_test))"
   ]
  },
  {
   "cell_type": "code",
   "execution_count": 24,
   "id": "1c2912f6-4dab-4b4e-a9c9-d36dbe9e6697",
   "metadata": {},
   "outputs": [
    {
     "data": {
      "image/png": "[encoded data removed]",
      "text/plain": [
       "<Figure size 432x288 with 1 Axes>"
      ]
     },
     "metadata": {
      "needs_background": "light"
     },
     "output_type": "display_data"
    },
    {
     "name": "stdout",
     "output_type": "stream",
     "text": [
      "Coeficients\n",
      "         0          0\n",
      "0    INDUS   0.013015\n",
      "1      NOX -18.141791\n",
      "2       RM   4.126456\n",
      "3      AGE   0.009770\n",
      "4      DIS  -1.226420\n",
      "5      RAD   0.210943\n",
      "6      TAX  -0.011004\n",
      "7  PTRATIO  -1.086660\n",
      "8    LSTAT  -0.628615\n",
      "RMSE Test:  4.505413581046521\n",
      "RMSE train:  5.00743670066067\n",
      "R2 score: Train:\n",
      "0.7251286237091437\n",
      "R2 score: Test:\n",
      "0.635714897696773\n"
     ]
    }
   ],
   "source": [
    "#### Primera prova, selecció de variables amb més correlació sense tractar\n",
    "\n",
    "col_sel = ['INDUS', 'NOX', 'RM', 'AGE', 'DIS', 'RAD', 'TAX', 'PTRATIO', 'LSTAT']\n",
    "\n",
    "x_train = housing_train[col_sel]\n",
    "y_train = housing_train['MEDV']\n",
    "\n",
    "x_test = housing_test[col_sel]\n",
    "y_test = housing_test['MEDV']\n",
    "\n",
    "lm = LinearRegression()\n",
    "\n",
    "model = lm.fit(x_train, y_train)\n",
    "\n",
    "y_predict= lm.predict(x_test)\n",
    "y_predict_train = lm.predict(x_train)\n",
    "\n",
    "line_fitter = LinearRegression()\n",
    "line_fitter.fit(np.array(y_test).reshape(-1, 1), y_predict)\n",
    "line_predict = line_fitter.predict(np.array(y_test).reshape(-1, 1))\n",
    "\n",
    "plt.scatter(y_test, y_predict, alpha=0.5, color='red')\n",
    "plt.plot(y_test, line_predict, color='black', alpha=0.6)\n",
    "\n",
    "plt.xlabel(\"Prices: $/m2\")\n",
    "plt.ylabel(\"Predicted prices: $/m2\")\n",
    "plt.title(\"Actual Rent vs Predicted Rent\")\n",
    "\n",
    "plt.show()\n",
    "\n",
    "print('Coeficients')\n",
    "print(pd.concat([pd.DataFrame(x_test.columns),pd.DataFrame(np.transpose(lm.coef_))], axis = 1))\n",
    "\n",
    "# Calculate the root mean square error (RMSE) for test and training data\n",
    "N = len(y_test)\n",
    "rmse_test = np.sqrt(np.sum((np.array(y_test).flatten() - np.array(y_predict).flatten())**2)/N)\n",
    "print(\"RMSE Test: \", rmse_test)\n",
    "\n",
    "N = len(y_train)\n",
    "rmse_train = np.sqrt(np.sum((np.array(y_train).flatten() - np.array(y_predict_train).flatten())**2)/N)\n",
    "print(\"RMSE train: \", rmse_train)\n",
    "\n",
    "print(\"R2 score: Train:\")\n",
    "print(lm.score(x_train, y_train))\n",
    "\n",
    "print(\"R2 score: Test:\")\n",
    "print(lm.score(x_test, y_test))"
   ]
  },
  {
   "cell_type": "code",
   "execution_count": null,
   "id": "bfa1ff83-a220-46a0-a93a-47a825e0d46e",
   "metadata": {},
   "outputs": [],
   "source": []
  },
  {
   "cell_type": "markdown",
   "id": "8f4c5caf-7098-4f2e-86aa-54e0ca333ed3",
   "metadata": {
    "tags": []
   },
   "source": [
    "### PROVA amb Random Forest ###"
   ]
  },
  {
   "cell_type": "markdown",
   "id": "056533aa-954b-4454-bfdd-70eeaddaec12",
   "metadata": {},
   "source": [
    "### PROVA amb Decission Trees"
   ]
  },
  {
   "cell_type": "code",
   "execution_count": 54,
   "id": "80c877ba-e628-45f9-baea-659c0a069fe4",
   "metadata": {},
   "outputs": [
    {
     "name": "stdout",
     "output_type": "stream",
     "text": [
      "0.45730032976220547\n"
     ]
    },
    {
     "data": {
      "image/png": "[encoded data removed]",
      "text/plain": [
       "<Figure size 432x288 with 1 Axes>"
      ]
     },
     "metadata": {
      "needs_background": "light"
     },
     "output_type": "display_data"
    }
   ],
   "source": [
    "#dt = DecisionTreeRegressor(max_depth=3, ccp_alpha=0.001)\n",
    "\n",
    "dt = DecisionTreeRegressor(random_state=42)\n",
    "dt.fit(x_train, y_train)\n",
    "y_predict = dt.predict(x_test)\n",
    "print(dt.score(x_test, y_test))\n",
    "\n",
    "line_fitter = LinearRegression()\n",
    "line_fitter.fit(np.array(y_test).reshape(-1, 1), y_predict)\n",
    "line_predict = line_fitter.predict(np.array(y_test).reshape(-1, 1))\n",
    "\n",
    "plt.scatter(y_test, y_predict, alpha=0.5, color='red')\n",
    "plt.plot(y_test, line_predict, color='black', alpha=0.6)\n",
    "\n",
    "plt.xlabel(\"Prices: $/m2\")\n",
    "plt.ylabel(\"Predicted prices: $/m2\")\n",
    "plt.title(\"Actual Rent vs Predicted Rent\")\n",
    "\n",
    "plt.show()"
   ]
  },
  {
   "cell_type": "code",
   "execution_count": 55,
   "id": "6c2a8d9b-f55d-4afe-b014-1c87a5bc30f7",
   "metadata": {},
   "outputs": [
    {
     "name": "stdout",
     "output_type": "stream",
     "text": [
      "coefficient of determination R^2 of the prediction.:  0.7251286237091437\n",
      "Mean squared error: 30.24\n",
      "Test Variance score: 0.46\n"
     ]
    }
   ],
   "source": [
    "from sklearn.metrics import mean_squared_error, r2_score\n",
    "\n",
    "model_score = model.score(x_train,y_train)\n",
    "# Have a look at R sq to give an idea of the fit ,\n",
    "# Explained variance score: 1 is perfect prediction\n",
    "print('coefficient of determination R^2 of the prediction.: ',model_score)\n",
    "y_predicted = model.predict(x_test)\n",
    "\n",
    "# The mean squared error\n",
    "print(\"Mean squared error: %.2f\"% mean_squared_error(y_test, y_predict))\n",
    "# Explained variance score: 1 is perfect prediction\n",
    "print('Test Variance score: %.2f' % r2_score(y_test, y_predict))"
   ]
  },
  {
   "cell_type": "code",
   "execution_count": null,
   "id": "6a70e3fb-ebe0-45d3-a8ba-bddbfd05ccb0",
   "metadata": {},
   "outputs": [],
   "source": []
  },
  {
   "cell_type": "code",
   "execution_count": null,
   "id": "28b56e74-118f-4dbe-b122-ae253506ed0f",
   "metadata": {},
   "outputs": [],
   "source": [
    "dt.get_depth()"
   ]
  },
  {
   "cell_type": "markdown",
   "id": "0979aeab-11fc-4f91-8601-289de17ae3e6",
   "metadata": {},
   "source": [
    "https://towardsdatascience.com/how-to-tune-a-decision-tree-f03721801680\n",
    "\n",
    "- max_depth \\\n",
    "(+++) overfitting\n",
    "\n",
    "- min_samples_split \\\n",
    "(---) overfitting \n",
    "(1-40)\n",
    "\n",
    "- min_samples_leaf \\\n",
    "(---) overfitting\n",
    "\n",
    "- min_weight_fraction_leaf \\\n",
    "\n",
    "\n",
    "- max_features \\\n",
    "If hight cost computational or overfitting, change to log2\n",
    "\n",
    "- min_impurity_decrease \\\n",
    "Plot the tree, increase if needed\n",
    "\n",
    "- class_weight \\\n",
    "Start balanced and then put weights accordingly.\n",
    "\n",
    "- presort \\\n",
    "??"
   ]
  },
  {
   "cell_type": "code",
   "execution_count": null,
   "id": "b0020cad-1055-4bb9-91eb-20cfd59c40e0",
   "metadata": {},
   "outputs": [],
   "source": [
    "from sklearn.model_selection import cross_val_predict\n",
    "\n",
    "fig, ax = plt.subplots()\n",
    "ax.scatter(y_test, y_predict, edgecolors=(0, 0, 0))\n",
    "ax.plot([y_test.min(), y_test.max()], [y_test.min(), y_test.max()], 'k--', lw=4)\n",
    "ax.set_xlabel('Actual')\n",
    "ax.set_ylabel('Predicted')\n",
    "ax.set_title(\"Ground Truth vs Predicted\")\n",
    "plt.show()"
   ]
  },
  {
   "cell_type": "code",
   "execution_count": null,
   "id": "49c0b31d-36ec-4547-ae1c-c94e1a3479b9",
   "metadata": {},
   "outputs": [],
   "source": []
  },
  {
   "cell_type": "code",
   "execution_count": null,
   "id": "05fd5e6a-da1b-40c3-ba50-43cc5adfa7d5",
   "metadata": {},
   "outputs": [],
   "source": [
    "#### CALAIX DE SASTRE"
   ]
  },
  {
   "cell_type": "code",
   "execution_count": null,
   "id": "10a32402-2c75-490b-b548-c3a1247513e2",
   "metadata": {},
   "outputs": [],
   "source": [
    "l_regression = linear_model.LinearRegression()\n",
    "kf = KFold(n_splits=10)\n",
    "min_max_scaler = preprocessing.MinMaxScaler()\n",
    "x_scaled = min_max_scaler.fit_transform(x)\n",
    "scores = cross_val_score(l_regression, x_scaled, y, cv=kf, scoring='neg_mean_squared_error')\n",
    "print(\"MSE: %0.2f (+/- %0.2f)\" % (scores.mean(), scores.std()))"
   ]
  },
  {
   "cell_type": "code",
   "execution_count": null,
   "id": "da6811fd-370c-46f8-b5b3-0a52fc2b1166",
   "metadata": {},
   "outputs": [],
   "source": [
    "import codecademylib3_seaborn\n",
    "import matplotlib.pyplot as plt\n",
    "import pandas as pd\n",
    "\n",
    "from sklearn.model_selection import train_test_split\n",
    "from sklearn.linear_model import LinearRegression\n",
    "from sklearn.metrics import mean_squared_error\n",
    "\n",
    "streeteasy = pd.read_csv(\"https://raw.githubusercontent.com/sonnynomnom/Codecademy-Machine-Learning-Fundamentals/master/StreetEasy/manhattan.csv\")\n",
    "\n",
    "df = pd.DataFrame(streeteasy)\n",
    "\n",
    "x = df[['bedrooms', 'bathrooms', 'size_sqft', 'min_to_subway', 'floor', 'building_age_yrs', 'no_fee', 'has_roofdeck', 'has_washer_dryer', 'has_doorman', 'has_elevator', 'has_dishwasher', 'has_patio', 'has_gym']]\n",
    "\n",
    "x = df[['bedrooms', 'size_sqft', 'min_to_subway', 'floor', 'building_age_yrs', 'has_roofdeck', 'has_washer_dryer', 'has_doorman', 'has_elevator', 'has_dishwasher', 'has_gym']]\n",
    "\n",
    "y = df[['rent']]\n",
    "\n",
    "x_train, x_test, y_train, y_test = train_test_split(x, y, train_size = 0.8, test_size = 0.2, random_state=6)\n",
    "\n",
    "lm = LinearRegression()\n",
    "\n",
    "model = lm.fit(x_train, y_train)\n",
    "\n",
    "y_predict= lm.predict(x_test)\n",
    "\n",
    "print(\"Train score:\")\n",
    "print(lm.score(x_train, y_train))\n",
    "\n",
    "print(\"Test score:\")\n",
    "print(lm.score(x_test, y_test))\n",
    "\n",
    "plt.scatter(y_test, y_predict)\n",
    "plt.plot(range(20000), range(20000))\n",
    "\n",
    "plt.xlabel(\"Prices: $Y_i$\")\n",
    "plt.ylabel(\"Predicted prices: $\\hat{Y}_i$\")\n",
    "plt.title(\"Actual Rent vs Predicted Rent\")\n",
    "\n",
    "plt.show()\n",
    "\n",
    "print(lm.coef_)\n",
    "\n",
    "# zoe_apartment = [[1, 1, 620, 16, 1, 98, 0, 0, 1, 0, 0, 0, 1, 0]]\n",
    "# predict = model.predict(zoe_apartment)\n",
    "# print(\"Predicted rent: $%.2f\" % predict)"
   ]
  },
  {
   "cell_type": "code",
   "execution_count": null,
   "id": "cd01cf3b-cee6-416b-8221-444673401786",
   "metadata": {},
   "outputs": [],
   "source": []
  },
  {
   "cell_type": "code",
   "execution_count": null,
   "id": "850e7b24-4823-40b7-8538-852d13199ee9",
   "metadata": {},
   "outputs": [],
   "source": []
  },
  {
   "cell_type": "code",
   "execution_count": null,
   "id": "ffa58df3-1530-4683-bd8d-c14577092a16",
   "metadata": {},
   "outputs": [],
   "source": []
  },
  {
   "cell_type": "code",
   "execution_count": null,
   "id": "7f32c4f9-65ed-423f-aa12-e3dfab51f7e5",
   "metadata": {},
   "outputs": [],
   "source": []
  },
  {
   "cell_type": "code",
   "execution_count": 25,
   "id": "c338c70c-b806-474c-94a5-6382ef09e45f",
   "metadata": {},
   "outputs": [
    {
     "ename": "NameError",
     "evalue": "name 'train_features' is not defined",
     "output_type": "error",
     "traceback": [
      "\u001b[1;31m---------------------------------------------------------------------------\u001b[0m",
      "\u001b[1;31mNameError\u001b[0m                                 Traceback (most recent call last)",
      "\u001b[1;32m~\\AppData\\Local\\Temp\\ipykernel_12100\\226705351.py\u001b[0m in \u001b[0;36m<module>\u001b[1;34m\u001b[0m\n\u001b[0;32m      4\u001b[0m \u001b[0mrf\u001b[0m \u001b[1;33m=\u001b[0m \u001b[0mRandomForestRegressor\u001b[0m\u001b[1;33m(\u001b[0m\u001b[0mn_estimators\u001b[0m \u001b[1;33m=\u001b[0m \u001b[1;36m1000\u001b[0m\u001b[1;33m,\u001b[0m \u001b[0mrandom_state\u001b[0m \u001b[1;33m=\u001b[0m \u001b[1;36m42\u001b[0m\u001b[1;33m)\u001b[0m\u001b[1;33m\u001b[0m\u001b[1;33m\u001b[0m\u001b[0m\n\u001b[0;32m      5\u001b[0m \u001b[1;31m# Train the model on training data\u001b[0m\u001b[1;33m\u001b[0m\u001b[1;33m\u001b[0m\u001b[0m\n\u001b[1;32m----> 6\u001b[1;33m \u001b[0mrf\u001b[0m\u001b[1;33m.\u001b[0m\u001b[0mfit\u001b[0m\u001b[1;33m(\u001b[0m\u001b[0mtrain_features\u001b[0m\u001b[1;33m,\u001b[0m \u001b[0mtrain_labels\u001b[0m\u001b[1;33m)\u001b[0m\u001b[1;33m;\u001b[0m\u001b[1;33m\u001b[0m\u001b[1;33m\u001b[0m\u001b[0m\n\u001b[0m",
      "\u001b[1;31mNameError\u001b[0m: name 'train_features' is not defined"
     ]
    }
   ],
   "source": [
    "# Import the model we are using\n",
    "from sklearn.ensemble import RandomForestRegressor\n",
    "# Instantiate model with 1000 decision trees\n",
    "rf = RandomForestRegressor(n_estimators = 1000, random_state = 42)\n",
    "# Train the model on training data\n",
    "rf.fit(train_features, train_labels);"
   ]
  },
  {
   "cell_type": "code",
   "execution_count": null,
   "id": "0e54a255-9dcf-4bd7-bfe3-a21a2ef0d1dc",
   "metadata": {},
   "outputs": [],
   "source": []
  },
  {
   "cell_type": "code",
   "execution_count": null,
   "id": "8db665b9-e3fa-4374-a7ab-2ef605c87548",
   "metadata": {},
   "outputs": [],
   "source": [
    "y_pred"
   ]
  }
 ],
 "metadata": {
  "kernelspec": {
   "display_name": "Python 3 (ipykernel)",
   "language": "python",
   "name": "python3"
  },
  "language_info": {
   "codemirror_mode": {
    "name": "ipython",
    "version": 3
   },
   "file_extension": ".py",
   "mimetype": "text/x-python",
   "name": "python",
   "nbconvert_exporter": "python",
   "pygments_lexer": "ipython3",
   "version": "3.9.7"
  }
 },
 "nbformat": 4,
 "nbformat_minor": 5
}
